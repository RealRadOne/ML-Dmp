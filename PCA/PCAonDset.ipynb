{
 "cells": [
  {
   "cell_type": "code",
   "execution_count": 23,
   "metadata": {
    "collapsed": true
   },
   "outputs": [],
   "source": [
    "from sklearn import decomposition,linear_model,datasets\n",
    "#decomposition for PCA,ensemble for random forests \n",
    "import numpy as np\n",
    "import time\n",
    "#time module to record the time taken\n",
    "from sklearn.preprocessing import StandardScaler\n",
    "from sklearn.model_selection import train_test_split"
   ]
  },
  {
   "cell_type": "code",
   "execution_count": 24,
   "metadata": {},
   "outputs": [],
   "source": [
    "breast_cancer=datasets.load_breast_cancer()"
   ]
  },
  {
   "cell_type": "code",
   "execution_count": 25,
   "metadata": {},
   "outputs": [
    {
     "data": {
      "text/plain": [
       "(569, 30)"
      ]
     },
     "execution_count": 25,
     "metadata": {},
     "output_type": "execute_result"
    }
   ],
   "source": [
    "X=breast_cancer.data\n",
    "X.shape"
   ]
  },
  {
   "cell_type": "code",
   "execution_count": 26,
   "metadata": {
    "collapsed": true
   },
   "outputs": [],
   "source": [
    "sc=StandardScaler()\n",
    "X_std=sc.fit_transform(X)"
   ]
  },
  {
   "cell_type": "code",
   "execution_count": 27,
   "metadata": {},
   "outputs": [],
   "source": [
    "x_train,x_test,y_train,y_test=train_test_split(X_std,breast_cancer.target,random_state=0)"
   ]
  },
  {
   "cell_type": "code",
   "execution_count": 29,
   "metadata": {},
   "outputs": [],
   "source": [
    "pca=decomposition.PCA(n_components=15)\n",
    "x_train_pca=pca.fit_transform(x_train)\n",
    "x_test_pca=pca.transform(x_test)"
   ]
  },
  {
   "cell_type": "code",
   "execution_count": 39,
   "metadata": {},
   "outputs": [
    {
     "name": "stdout",
     "output_type": "stream",
     "text": [
      "* 0.006988525390625 *\n",
      "* 0.965034965035 *\n"
     ]
    }
   ],
   "source": [
    "lr=linear_model.LogisticRegression()\n",
    "#Recording the time\n",
    "start=time.time()\n",
    "lr.fit(x_train,y_train)\n",
    "end=time.time()\n",
    "print(\"*\",end-start,\"*\")\n",
    "#So that we can see the time taken to fit the data in model without logistic regression\n",
    "#Time taken may be different all the time due to the stuff CPU might be dealing with\n",
    "print(\"*\",lr.score(x_test,y_test),\"*\")"
   ]
  },
  {
   "cell_type": "code",
   "execution_count": 40,
   "metadata": {},
   "outputs": [
    {
     "name": "stdout",
     "output_type": "stream",
     "text": [
      "* 0.0019931793212890625 *\n",
      "* 0.993006993007 *\n"
     ]
    }
   ],
   "source": [
    "#This time we will use the dataset on which dimensionality reduction has been performed with the help of PCA\n",
    "lr=linear_model.LogisticRegression()\n",
    "start=time.time()\n",
    "lr.fit(x_test_pca,y_test)\n",
    "end=time.time()\n",
    "print(\"*\",end-start,\"*\")\n",
    "print(\"*\",lr.score(x_test_pca,y_test),\"*\")"
   ]
  },
  {
   "cell_type": "code",
   "execution_count": null,
   "metadata": {
    "collapsed": true
   },
   "outputs": [],
   "source": []
  }
 ],
 "metadata": {
  "kernelspec": {
   "display_name": "Python 3",
   "language": "python",
   "name": "python3"
  },
  "language_info": {
   "codemirror_mode": {
    "name": "ipython",
    "version": 3
   },
   "file_extension": ".py",
   "mimetype": "text/x-python",
   "name": "python",
   "nbconvert_exporter": "python",
   "pygments_lexer": "ipython3",
   "version": "3.6.1"
  }
 },
 "nbformat": 4,
 "nbformat_minor": 2
}

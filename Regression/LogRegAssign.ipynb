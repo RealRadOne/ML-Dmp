{
 "cells": [
  {
   "cell_type": "code",
   "execution_count": 72,
   "metadata": {
    "collapsed": true
   },
   "outputs": [],
   "source": [
    "import pandas as pd\n",
    "import numpy as np\n",
    "from sklearn import datasets\n",
    "from sklearn.linear_model import LogisticRegression"
   ]
  },
  {
   "cell_type": "code",
   "execution_count": 73,
   "metadata": {},
   "outputs": [
    {
     "data": {
      "text/plain": [
       "LogisticRegression(C=1.0, class_weight=None, dual=False, fit_intercept=True,\n",
       "          intercept_scaling=1, max_iter=100, multi_class='ovr', n_jobs=1,\n",
       "          penalty='l2', random_state=None, solver='liblinear', tol=0.0001,\n",
       "          verbose=0, warm_start=False)"
      ]
     },
     "execution_count": 73,
     "metadata": {},
     "output_type": "execute_result"
    }
   ],
   "source": [
    "titanic=pd.read_csv(\"training_titanic_x_y.csv\")\n",
    "titanic_target=titanic[\"Survived\"]\n",
    "del titanic[\"Name\"]\n",
    "del titanic[\"Ticket\"]\n",
    "del titanic[\"Cabin\"]\n",
    "del titanic[\"Embarked\"]\n",
    "def getNumber(str):\n",
    "    if str==\"male\":\n",
    "        return 0\n",
    "    else:\n",
    "        return 1\n",
    "titanic[\"gender\"]=titanic[\"Sex\"].apply(getNumber)\n",
    "del titanic[\"Sex\"]\n",
    "meanS= titanic[titanic.Survived==1].Age.mean()\n",
    "titanic[\"age\"]=np.where(pd.isnull(titanic.Age) & titanic[\"Survived\"]==1 ,meanS, titanic[\"Age\"])\n",
    "meanNS=titanic[titanic.Survived==0].Age.mean()\n",
    "titanic.age.fillna(meanNS,inplace=True)\n",
    "del titanic [\"Age\"]\n",
    "del titanic[\"Survived\"]\n",
    "X_test=pd.read_csv(\"test_titanic_x.csv\")\n",
    "clf=LogisticRegression()\n",
    "clf.fit(titanic,titanic_target)"
   ]
  },
  {
   "cell_type": "code",
   "execution_count": 74,
   "metadata": {},
   "outputs": [],
   "source": [
    "del X_test[\"Name\"]\n",
    "del X_test[\"Ticket\"]\n",
    "del X_test[\"Cabin\"]\n",
    "del X_test[\"Embarked\"]\n",
    "def getNumber(str):\n",
    "    if str==\"male\":\n",
    "        return 0\n",
    "    else:\n",
    "        return 1\n",
    "X_test[\"gender\"]=X_test[\"Sex\"].apply(getNumber)\n",
    "del X_test[\"Sex\"]\n",
    "meanS= X_test.Age.mean()\n",
    "X_test[\"age\"]=np.where(pd.isnull(X_test.Age),meanS,X_test[\"Age\"])\n",
    "del X_test[\"Age\"]\n",
    "X_test\n",
    "Y_pred=clf.predict(X_test)\n",
    "np.savetxt('LogOutput.csv',Y_pred,delimiter=\",\",fmt='%0.5f')"
   ]
  }
 ],
 "metadata": {
  "kernelspec": {
   "display_name": "Python 3",
   "language": "python",
   "name": "python3"
  },
  "language_info": {
   "codemirror_mode": {
    "name": "ipython",
    "version": 3
   },
   "file_extension": ".py",
   "mimetype": "text/x-python",
   "name": "python",
   "nbconvert_exporter": "python",
   "pygments_lexer": "ipython3",
   "version": "3.6.1"
  }
 },
 "nbformat": 4,
 "nbformat_minor": 2
}

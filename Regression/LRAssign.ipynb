{
 "cells": [
  {
   "cell_type": "code",
   "execution_count": 89,
   "metadata": {},
   "outputs": [
    {
     "name": "stdout",
     "output_type": "stream",
     "text": [
      "[ 105.52974799  105.8039198   178.60857225   79.3828781    52.95868706\n",
      "   98.87263854  150.71755448   34.86515216  113.13535727  161.50184038\n",
      "  135.8615611    94.71592222  138.48094422  141.37441723  158.76862662\n",
      "  171.65288616  106.44835654  103.92659639   95.38693889  167.40118092\n",
      "  166.53426278  101.53464712  252.45035972  147.02258547  214.78906632\n",
      "  161.27557106  210.61315228   71.78091585  189.65032431  206.6134259\n",
      "  219.98643455  168.80192534  116.84846127  178.74399639   77.03247418\n",
      "   59.54633214  111.5673781   156.95186739  154.59591259  198.94457493\n",
      "  115.53884017  153.46699024   84.96179518  113.70337192  142.14155617\n",
      "  147.31040378   82.78072358   77.89237327  128.99006192  261.58712282\n",
      "  213.31187775  243.98791257  167.68132094  183.69712124  166.85926884\n",
      "  202.11440188  220.39235543  172.40288024  176.60897931  109.04656567\n",
      "  276.37789836   90.99941821  289.37221147  119.56253351   75.45687948\n",
      "  180.78598759  146.62093081  156.42382465   41.079036    247.90645166\n",
      "  207.99121432   90.09641075  222.24169638  189.86378006  182.2695376\n",
      "  164.39881376  190.27066587  105.4486795   199.86136394  245.796388\n",
      "  123.20281334  119.41031908  145.86620411  206.19247291  150.86282453\n",
      "  142.23221646  154.56874616  115.29233396  134.07810123  118.42225404\n",
      "  203.5767555   170.66483797  127.409797     57.13507634  231.92226503\n",
      "  185.20713654  187.37494558   83.55920849  185.42585685  217.34035639\n",
      "  108.86715354   80.98714568  127.05524123  242.00738792  155.9723414\n",
      "  125.67575276  246.41235643  234.963933    191.51298252  168.33254477\n",
      "  163.02965178]\n"
     ]
    }
   ],
   "source": [
    "#With the help of inbulit classifier in sklearn\n",
    "import numpy as np\n",
    "from sklearn.linear_model import LinearRegression\n",
    "data_final=np.genfromtxt(\"traindata.csv\",delimiter=\",\")\n",
    "data=np.genfromtxt(\"testdata.csv\",delimiter=\",\")\n",
    "X_train=data_final[:,0:10]\n",
    "Y_train=data_final[:,10]\n",
    "X_test=data[:,0:10]\n",
    "alg=LinearRegression()\n",
    "alg.fit(X_train,Y_train)\n",
    "Y_pred=alg.predict(X_test)\n",
    "print(Y_pred)\n",
    "np.savetxt('FinalOutput.csv',Y_pred,delimiter=\",\",fmt='%0.5f')"
   ]
  },
  {
   "cell_type": "code",
   "execution_count": 82,
   "metadata": {},
   "outputs": [
    {
     "ename": "ValueError",
     "evalue": "operands could not be broadcast together with shapes (331,10) (331,) ",
     "output_type": "error",
     "traceback": [
      "\u001b[1;31m---------------------------------------------------------------------------\u001b[0m",
      "\u001b[1;31mValueError\u001b[0m                                Traceback (most recent call last)",
      "\u001b[1;32m<ipython-input-82-12bc82f8ed0c>\u001b[0m in \u001b[0;36m<module>\u001b[1;34m()\u001b[0m\n\u001b[0;32m     14\u001b[0m     \u001b[0mcost\u001b[0m\u001b[1;33m=\u001b[0m\u001b[1;33m(\u001b[0m\u001b[0my\u001b[0m\u001b[1;33m-\u001b[0m\u001b[1;33m(\u001b[0m\u001b[0mm\u001b[0m\u001b[1;33m*\u001b[0m\u001b[0mx\u001b[0m\u001b[1;33m+\u001b[0m\u001b[0mc\u001b[0m\u001b[1;33m)\u001b[0m\u001b[1;33m**\u001b[0m\u001b[1;36m2\u001b[0m\u001b[1;33m)\u001b[0m\u001b[1;33m.\u001b[0m\u001b[0mmean\u001b[0m\u001b[1;33m(\u001b[0m\u001b[1;33m)\u001b[0m\u001b[1;33m\u001b[0m\u001b[0m\n\u001b[0;32m     15\u001b[0m     \u001b[1;32mreturn\u001b[0m \u001b[0mcost\u001b[0m\u001b[1;33m\u001b[0m\u001b[0m\n\u001b[1;32m---> 16\u001b[1;33m \u001b[0mm\u001b[0m\u001b[1;33m,\u001b[0m\u001b[0mc\u001b[0m\u001b[1;33m=\u001b[0m\u001b[0mfit\u001b[0m\u001b[1;33m(\u001b[0m\u001b[0mX_train\u001b[0m\u001b[1;33m,\u001b[0m\u001b[0mY_train\u001b[0m\u001b[1;33m)\u001b[0m\u001b[1;33m\u001b[0m\u001b[0m\n\u001b[0m\u001b[0;32m     17\u001b[0m \u001b[0mY_pred\u001b[0m\u001b[1;33m=\u001b[0m\u001b[0mpredict\u001b[0m\u001b[1;33m(\u001b[0m\u001b[0mm\u001b[0m\u001b[1;33m,\u001b[0m\u001b[0mX_train\u001b[0m\u001b[1;33m,\u001b[0m\u001b[0mc\u001b[0m\u001b[1;33m)\u001b[0m\u001b[1;33m\u001b[0m\u001b[0m\n\u001b[0;32m     18\u001b[0m \u001b[0msc\u001b[0m\u001b[1;33m=\u001b[0m\u001b[0mscore\u001b[0m\u001b[1;33m(\u001b[0m\u001b[0mY_test\u001b[0m\u001b[1;33m,\u001b[0m\u001b[0mY_pred\u001b[0m\u001b[1;33m)\u001b[0m\u001b[1;33m\u001b[0m\u001b[0m\n",
      "\u001b[1;32m<ipython-input-82-12bc82f8ed0c>\u001b[0m in \u001b[0;36mfit\u001b[1;34m(X_train, Y_train)\u001b[0m\n\u001b[0;32m      1\u001b[0m \u001b[1;32mdef\u001b[0m \u001b[0mfit\u001b[0m\u001b[1;33m(\u001b[0m\u001b[0mX_train\u001b[0m\u001b[1;33m,\u001b[0m\u001b[0mY_train\u001b[0m\u001b[1;33m)\u001b[0m\u001b[1;33m:\u001b[0m\u001b[1;33m\u001b[0m\u001b[0m\n\u001b[1;32m----> 2\u001b[1;33m     \u001b[0mnum\u001b[0m\u001b[1;33m=\u001b[0m\u001b[1;33m(\u001b[0m\u001b[0mX_train\u001b[0m\u001b[1;33m*\u001b[0m\u001b[0mY_train\u001b[0m\u001b[1;33m)\u001b[0m\u001b[1;33m.\u001b[0m\u001b[0mmean\u001b[0m\u001b[1;33m(\u001b[0m\u001b[1;33m)\u001b[0m\u001b[1;33m-\u001b[0m\u001b[0mX_train\u001b[0m\u001b[1;33m.\u001b[0m\u001b[0mmean\u001b[0m\u001b[1;33m(\u001b[0m\u001b[1;33m)\u001b[0m\u001b[1;33m*\u001b[0m\u001b[0mY_train\u001b[0m\u001b[1;33m.\u001b[0m\u001b[0mmean\u001b[0m\u001b[1;33m(\u001b[0m\u001b[1;33m)\u001b[0m\u001b[1;33m\u001b[0m\u001b[0m\n\u001b[0m\u001b[0;32m      3\u001b[0m     \u001b[0mden\u001b[0m\u001b[1;33m=\u001b[0m\u001b[1;33m(\u001b[0m\u001b[0mX_train\u001b[0m\u001b[1;33m**\u001b[0m\u001b[1;36m2\u001b[0m\u001b[1;33m)\u001b[0m\u001b[1;33m.\u001b[0m\u001b[0mmean\u001b[0m\u001b[1;33m(\u001b[0m\u001b[1;33m)\u001b[0m\u001b[1;33m-\u001b[0m\u001b[0mX_train\u001b[0m\u001b[1;33m.\u001b[0m\u001b[0mmean\u001b[0m\u001b[1;33m(\u001b[0m\u001b[1;33m)\u001b[0m\u001b[1;33m**\u001b[0m\u001b[1;36m2\u001b[0m\u001b[1;33m\u001b[0m\u001b[0m\n\u001b[0;32m      4\u001b[0m     \u001b[0mm\u001b[0m\u001b[1;33m=\u001b[0m\u001b[0mnum\u001b[0m\u001b[1;33m/\u001b[0m\u001b[0mden\u001b[0m\u001b[1;33m\u001b[0m\u001b[0m\n\u001b[0;32m      5\u001b[0m     \u001b[0mc\u001b[0m\u001b[1;33m=\u001b[0m\u001b[0mY_train\u001b[0m\u001b[1;33m.\u001b[0m\u001b[0mmean\u001b[0m\u001b[1;33m(\u001b[0m\u001b[1;33m)\u001b[0m\u001b[1;33m-\u001b[0m\u001b[0mm\u001b[0m\u001b[1;33m*\u001b[0m\u001b[0mX_train\u001b[0m\u001b[1;33m.\u001b[0m\u001b[0mmean\u001b[0m\u001b[1;33m(\u001b[0m\u001b[1;33m)\u001b[0m\u001b[1;33m\u001b[0m\u001b[0m\n",
      "\u001b[1;31mValueError\u001b[0m: operands could not be broadcast together with shapes (331,10) (331,) "
     ]
    }
   ],
   "source": [
    "#Creating our own fit,predict and cost function to calculate the said stuff\n",
    "def fit(X_train,Y_train):\n",
    "    #We can see this on differentiating the data once\n",
    "    num=(X_train*Y_train).mean()-X_train.mean()*Y_train.mean()\n",
    "    den=(X_train**2).mean()-X_train.mean()**2\n",
    "    #num and den for calculating the cost function and the slope of the line\n",
    "    m=num/den\n",
    "    c=Y_train.mean()-m*X_train.mean()\n",
    "    #m and c for calculating y pred\n",
    "    return m,c\n",
    "def predict(m,x,c):\n",
    "    return m*x+c\n",
    "def score(y_truth,y_pred):\n",
    "    u=((y_truth-y_pred)**2).sum()\n",
    "    v=((y_truth-y_pred.mean())**2).sum()\n",
    "    return 1-u/v\n",
    "def cost(x,y,m,c):\n",
    "    cost=(y-(m*x+c)**2).mean()\n",
    "    return cost\n",
    "m,c=fit(X_train,Y_train)\n",
    "Y_pred=predict(m,X_train,c)\n",
    "sc=score(Y_test,Y_pred)\n",
    "cst=cost(x,y,m,c)\n",
    "print(Y_pred)\n",
    "np.savetxt('LRAssign.csv',Y_pred,delimiter=\",\",fmt='%0.5f')"
   ]
  }
 ],
 "metadata": {
  "kernelspec": {
   "display_name": "Python 3",
   "language": "python",
   "name": "python3"
  },
  "language_info": {
   "codemirror_mode": {
    "name": "ipython",
    "version": 3
   },
   "file_extension": ".py",
   "mimetype": "text/x-python",
   "name": "python",
   "nbconvert_exporter": "python",
   "pygments_lexer": "ipython3",
   "version": "3.6.1"
  }
 },
 "nbformat": 4,
 "nbformat_minor": 2
}

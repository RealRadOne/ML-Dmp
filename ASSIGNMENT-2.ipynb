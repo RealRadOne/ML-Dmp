{
 "cells": [
  {
   "cell_type": "markdown",
   "metadata": {},
   "source": [
    "16BCE1123\n",
    "\n",
    "SAKSHI SINHA\n",
    "\n",
    "ASSIGNMENT-2"
   ]
  },
  {
   "cell_type": "code",
   "execution_count": 67,
   "metadata": {
    "collapsed": true
   },
   "outputs": [],
   "source": [
    "import pandas as pd\n",
    "import numpy as np"
   ]
  },
  {
   "cell_type": "code",
   "execution_count": 68,
   "metadata": {
    "collapsed": true
   },
   "outputs": [],
   "source": [
    "df = pd.read_csv('uci-secom.csv')"
   ]
  },
  {
   "cell_type": "code",
   "execution_count": 69,
   "metadata": {},
   "outputs": [
    {
     "data": {
      "text/html": [
       "<div>\n",
       "<style>\n",
       "    .dataframe thead tr:only-child th {\n",
       "        text-align: right;\n",
       "    }\n",
       "\n",
       "    .dataframe thead th {\n",
       "        text-align: left;\n",
       "    }\n",
       "\n",
       "    .dataframe tbody tr th {\n",
       "        vertical-align: top;\n",
       "    }\n",
       "</style>\n",
       "<table border=\"1\" class=\"dataframe\">\n",
       "  <thead>\n",
       "    <tr style=\"text-align: right;\">\n",
       "      <th></th>\n",
       "      <th>Time</th>\n",
       "      <th>0</th>\n",
       "      <th>1</th>\n",
       "      <th>2</th>\n",
       "      <th>3</th>\n",
       "      <th>4</th>\n",
       "      <th>5</th>\n",
       "      <th>6</th>\n",
       "      <th>7</th>\n",
       "      <th>8</th>\n",
       "      <th>...</th>\n",
       "      <th>581</th>\n",
       "      <th>582</th>\n",
       "      <th>583</th>\n",
       "      <th>584</th>\n",
       "      <th>585</th>\n",
       "      <th>586</th>\n",
       "      <th>587</th>\n",
       "      <th>588</th>\n",
       "      <th>589</th>\n",
       "      <th>Pass/Fail</th>\n",
       "    </tr>\n",
       "  </thead>\n",
       "  <tbody>\n",
       "    <tr>\n",
       "      <th>0</th>\n",
       "      <td>2008-07-19 11:55:00</td>\n",
       "      <td>3030.93</td>\n",
       "      <td>2564.00</td>\n",
       "      <td>2187.7333</td>\n",
       "      <td>1411.1265</td>\n",
       "      <td>1.3602</td>\n",
       "      <td>100.0</td>\n",
       "      <td>97.6133</td>\n",
       "      <td>0.1242</td>\n",
       "      <td>1.5005</td>\n",
       "      <td>...</td>\n",
       "      <td>NaN</td>\n",
       "      <td>0.5005</td>\n",
       "      <td>0.0118</td>\n",
       "      <td>0.0035</td>\n",
       "      <td>2.3630</td>\n",
       "      <td>NaN</td>\n",
       "      <td>NaN</td>\n",
       "      <td>NaN</td>\n",
       "      <td>NaN</td>\n",
       "      <td>-1</td>\n",
       "    </tr>\n",
       "    <tr>\n",
       "      <th>1</th>\n",
       "      <td>2008-07-19 12:32:00</td>\n",
       "      <td>3095.78</td>\n",
       "      <td>2465.14</td>\n",
       "      <td>2230.4222</td>\n",
       "      <td>1463.6606</td>\n",
       "      <td>0.8294</td>\n",
       "      <td>100.0</td>\n",
       "      <td>102.3433</td>\n",
       "      <td>0.1247</td>\n",
       "      <td>1.4966</td>\n",
       "      <td>...</td>\n",
       "      <td>208.2045</td>\n",
       "      <td>0.5019</td>\n",
       "      <td>0.0223</td>\n",
       "      <td>0.0055</td>\n",
       "      <td>4.4447</td>\n",
       "      <td>0.0096</td>\n",
       "      <td>0.0201</td>\n",
       "      <td>0.0060</td>\n",
       "      <td>208.2045</td>\n",
       "      <td>-1</td>\n",
       "    </tr>\n",
       "    <tr>\n",
       "      <th>2</th>\n",
       "      <td>2008-07-19 13:17:00</td>\n",
       "      <td>2932.61</td>\n",
       "      <td>2559.94</td>\n",
       "      <td>2186.4111</td>\n",
       "      <td>1698.0172</td>\n",
       "      <td>1.5102</td>\n",
       "      <td>100.0</td>\n",
       "      <td>95.4878</td>\n",
       "      <td>0.1241</td>\n",
       "      <td>1.4436</td>\n",
       "      <td>...</td>\n",
       "      <td>82.8602</td>\n",
       "      <td>0.4958</td>\n",
       "      <td>0.0157</td>\n",
       "      <td>0.0039</td>\n",
       "      <td>3.1745</td>\n",
       "      <td>0.0584</td>\n",
       "      <td>0.0484</td>\n",
       "      <td>0.0148</td>\n",
       "      <td>82.8602</td>\n",
       "      <td>1</td>\n",
       "    </tr>\n",
       "  </tbody>\n",
       "</table>\n",
       "<p>3 rows × 592 columns</p>\n",
       "</div>"
      ],
      "text/plain": [
       "                  Time        0        1          2          3       4      5  \\\n",
       "0  2008-07-19 11:55:00  3030.93  2564.00  2187.7333  1411.1265  1.3602  100.0   \n",
       "1  2008-07-19 12:32:00  3095.78  2465.14  2230.4222  1463.6606  0.8294  100.0   \n",
       "2  2008-07-19 13:17:00  2932.61  2559.94  2186.4111  1698.0172  1.5102  100.0   \n",
       "\n",
       "          6       7       8    ...           581     582     583     584  \\\n",
       "0   97.6133  0.1242  1.5005    ...           NaN  0.5005  0.0118  0.0035   \n",
       "1  102.3433  0.1247  1.4966    ...      208.2045  0.5019  0.0223  0.0055   \n",
       "2   95.4878  0.1241  1.4436    ...       82.8602  0.4958  0.0157  0.0039   \n",
       "\n",
       "      585     586     587     588       589  Pass/Fail  \n",
       "0  2.3630     NaN     NaN     NaN       NaN         -1  \n",
       "1  4.4447  0.0096  0.0201  0.0060  208.2045         -1  \n",
       "2  3.1745  0.0584  0.0484  0.0148   82.8602          1  \n",
       "\n",
       "[3 rows x 592 columns]"
      ]
     },
     "execution_count": 69,
     "metadata": {},
     "output_type": "execute_result"
    }
   ],
   "source": [
    "df.head(3)"
   ]
  },
  {
   "cell_type": "code",
   "execution_count": 70,
   "metadata": {},
   "outputs": [
    {
     "data": {
      "text/plain": [
       "Time           0\n",
       "0              6\n",
       "1              7\n",
       "2             14\n",
       "3             14\n",
       "4             14\n",
       "5             14\n",
       "6             14\n",
       "7              9\n",
       "8              2\n",
       "9              2\n",
       "10             2\n",
       "11             2\n",
       "12             2\n",
       "13             3\n",
       "14             3\n",
       "15             3\n",
       "16             3\n",
       "17             3\n",
       "18             3\n",
       "19            10\n",
       "20             0\n",
       "21             2\n",
       "22             2\n",
       "23             2\n",
       "24             2\n",
       "25             2\n",
       "26             2\n",
       "27             2\n",
       "28             2\n",
       "            ... \n",
       "561            1\n",
       "562          273\n",
       "563          273\n",
       "564          273\n",
       "565          273\n",
       "566          273\n",
       "567          273\n",
       "568          273\n",
       "569          273\n",
       "570            0\n",
       "571            0\n",
       "572            0\n",
       "573            0\n",
       "574            0\n",
       "575            0\n",
       "576            0\n",
       "577            0\n",
       "578          949\n",
       "579          949\n",
       "580          949\n",
       "581          949\n",
       "582            1\n",
       "583            1\n",
       "584            1\n",
       "585            1\n",
       "586            1\n",
       "587            1\n",
       "588            1\n",
       "589            1\n",
       "Pass/Fail      0\n",
       "Length: 592, dtype: int64"
      ]
     },
     "execution_count": 70,
     "metadata": {},
     "output_type": "execute_result"
    }
   ],
   "source": [
    "df.isnull().sum()"
   ]
  },
  {
   "cell_type": "code",
   "execution_count": 71,
   "metadata": {},
   "outputs": [
    {
     "data": {
      "text/plain": [
       "(1567, 592)"
      ]
     },
     "execution_count": 71,
     "metadata": {},
     "output_type": "execute_result"
    }
   ],
   "source": [
    "df.shape"
   ]
  },
  {
   "cell_type": "code",
   "execution_count": 97,
   "metadata": {
    "collapsed": true
   },
   "outputs": [],
   "source": [
    "df=df.drop('Time',axis=1)"
   ]
  },
  {
   "cell_type": "code",
   "execution_count": 20,
   "metadata": {
    "collapsed": true
   },
   "outputs": [],
   "source": [
    "#Columns 578,579,580,581 have many null values"
   ]
  },
  {
   "cell_type": "code",
   "execution_count": 21,
   "metadata": {
    "collapsed": true
   },
   "outputs": [],
   "source": [
    "dfs=pd.DataFrame(df,columns=['578','579','580','581'])"
   ]
  },
  {
   "cell_type": "code",
   "execution_count": 22,
   "metadata": {},
   "outputs": [
    {
     "data": {
      "text/html": [
       "<div>\n",
       "<style>\n",
       "    .dataframe thead tr:only-child th {\n",
       "        text-align: right;\n",
       "    }\n",
       "\n",
       "    .dataframe thead th {\n",
       "        text-align: left;\n",
       "    }\n",
       "\n",
       "    .dataframe tbody tr th {\n",
       "        vertical-align: top;\n",
       "    }\n",
       "</style>\n",
       "<table border=\"1\" class=\"dataframe\">\n",
       "  <thead>\n",
       "    <tr style=\"text-align: right;\">\n",
       "      <th></th>\n",
       "      <th>578</th>\n",
       "      <th>579</th>\n",
       "      <th>580</th>\n",
       "      <th>581</th>\n",
       "    </tr>\n",
       "  </thead>\n",
       "  <tbody>\n",
       "    <tr>\n",
       "      <th>count</th>\n",
       "      <td>618.000000</td>\n",
       "      <td>618.000000</td>\n",
       "      <td>618.000000</td>\n",
       "      <td>618.000000</td>\n",
       "    </tr>\n",
       "    <tr>\n",
       "      <th>mean</th>\n",
       "      <td>0.021615</td>\n",
       "      <td>0.016829</td>\n",
       "      <td>0.005396</td>\n",
       "      <td>97.934373</td>\n",
       "    </tr>\n",
       "    <tr>\n",
       "      <th>std</th>\n",
       "      <td>0.011730</td>\n",
       "      <td>0.009640</td>\n",
       "      <td>0.003116</td>\n",
       "      <td>87.520966</td>\n",
       "    </tr>\n",
       "    <tr>\n",
       "      <th>min</th>\n",
       "      <td>-0.016900</td>\n",
       "      <td>0.003200</td>\n",
       "      <td>0.001000</td>\n",
       "      <td>0.000000</td>\n",
       "    </tr>\n",
       "    <tr>\n",
       "      <th>25%</th>\n",
       "      <td>0.013800</td>\n",
       "      <td>0.010600</td>\n",
       "      <td>0.003400</td>\n",
       "      <td>46.184900</td>\n",
       "    </tr>\n",
       "    <tr>\n",
       "      <th>50%</th>\n",
       "      <td>0.020400</td>\n",
       "      <td>0.014800</td>\n",
       "      <td>0.004700</td>\n",
       "      <td>72.288900</td>\n",
       "    </tr>\n",
       "    <tr>\n",
       "      <th>75%</th>\n",
       "      <td>0.027700</td>\n",
       "      <td>0.020000</td>\n",
       "      <td>0.006475</td>\n",
       "      <td>116.539150</td>\n",
       "    </tr>\n",
       "    <tr>\n",
       "      <th>max</th>\n",
       "      <td>0.102800</td>\n",
       "      <td>0.079900</td>\n",
       "      <td>0.028600</td>\n",
       "      <td>737.304800</td>\n",
       "    </tr>\n",
       "  </tbody>\n",
       "</table>\n",
       "</div>"
      ],
      "text/plain": [
       "              578         579         580         581\n",
       "count  618.000000  618.000000  618.000000  618.000000\n",
       "mean     0.021615    0.016829    0.005396   97.934373\n",
       "std      0.011730    0.009640    0.003116   87.520966\n",
       "min     -0.016900    0.003200    0.001000    0.000000\n",
       "25%      0.013800    0.010600    0.003400   46.184900\n",
       "50%      0.020400    0.014800    0.004700   72.288900\n",
       "75%      0.027700    0.020000    0.006475  116.539150\n",
       "max      0.102800    0.079900    0.028600  737.304800"
      ]
     },
     "execution_count": 22,
     "metadata": {},
     "output_type": "execute_result"
    }
   ],
   "source": [
    "dfs.describe()"
   ]
  },
  {
   "cell_type": "code",
   "execution_count": 23,
   "metadata": {},
   "outputs": [
    {
     "data": {
      "text/plain": [
       "578    949\n",
       "579    949\n",
       "580    949\n",
       "581    949\n",
       "dtype: int64"
      ]
     },
     "execution_count": 23,
     "metadata": {},
     "output_type": "execute_result"
    }
   ],
   "source": [
    "dfs.isnull().sum()"
   ]
  },
  {
   "cell_type": "code",
   "execution_count": 24,
   "metadata": {},
   "outputs": [
    {
     "data": {
      "text/plain": [
       "0.011730310164318612"
      ]
     },
     "execution_count": 24,
     "metadata": {},
     "output_type": "execute_result"
    }
   ],
   "source": [
    "median=dfs['578'].std()\n",
    "median"
   ]
  },
  {
   "cell_type": "code",
   "execution_count": 25,
   "metadata": {
    "collapsed": true
   },
   "outputs": [],
   "source": [
    "df['578'].fillna(median, inplace = True) "
   ]
  },
  {
   "cell_type": "code",
   "execution_count": 26,
   "metadata": {
    "collapsed": true
   },
   "outputs": [],
   "source": [
    "df['579'].fillna(df['579'].median(),inplace=True)\n",
    "df['580'].fillna(df['580'].mean(),inplace=True)\n",
    "df['581'].fillna(df['581'].median,inplace=True)"
   ]
  },
  {
   "cell_type": "code",
   "execution_count": 27,
   "metadata": {
    "collapsed": true
   },
   "outputs": [],
   "source": [
    "dfk=pd.DataFrame(df,columns=['561','562','563','564','565','566','567','568','569'])"
   ]
  },
  {
   "cell_type": "code",
   "execution_count": 28,
   "metadata": {},
   "outputs": [
    {
     "data": {
      "text/html": [
       "<div>\n",
       "<style>\n",
       "    .dataframe thead tr:only-child th {\n",
       "        text-align: right;\n",
       "    }\n",
       "\n",
       "    .dataframe thead th {\n",
       "        text-align: left;\n",
       "    }\n",
       "\n",
       "    .dataframe tbody tr th {\n",
       "        vertical-align: top;\n",
       "    }\n",
       "</style>\n",
       "<table border=\"1\" class=\"dataframe\">\n",
       "  <thead>\n",
       "    <tr style=\"text-align: right;\">\n",
       "      <th></th>\n",
       "      <th>561</th>\n",
       "      <th>562</th>\n",
       "      <th>563</th>\n",
       "      <th>564</th>\n",
       "      <th>565</th>\n",
       "      <th>566</th>\n",
       "      <th>567</th>\n",
       "      <th>568</th>\n",
       "      <th>569</th>\n",
       "    </tr>\n",
       "  </thead>\n",
       "  <tbody>\n",
       "    <tr>\n",
       "      <th>count</th>\n",
       "      <td>1566.000000</td>\n",
       "      <td>1294.000000</td>\n",
       "      <td>1294.000000</td>\n",
       "      <td>1294.000000</td>\n",
       "      <td>1294.000000</td>\n",
       "      <td>1294.000000</td>\n",
       "      <td>1294.000000</td>\n",
       "      <td>1294.000000</td>\n",
       "      <td>1294.000000</td>\n",
       "    </tr>\n",
       "    <tr>\n",
       "      <th>mean</th>\n",
       "      <td>32.284956</td>\n",
       "      <td>262.729683</td>\n",
       "      <td>0.679641</td>\n",
       "      <td>6.444985</td>\n",
       "      <td>0.145610</td>\n",
       "      <td>2.610870</td>\n",
       "      <td>0.060086</td>\n",
       "      <td>2.452417</td>\n",
       "      <td>21.117674</td>\n",
       "    </tr>\n",
       "    <tr>\n",
       "      <th>std</th>\n",
       "      <td>19.026081</td>\n",
       "      <td>7.630585</td>\n",
       "      <td>0.121758</td>\n",
       "      <td>2.633583</td>\n",
       "      <td>0.081122</td>\n",
       "      <td>1.032761</td>\n",
       "      <td>0.032761</td>\n",
       "      <td>0.996644</td>\n",
       "      <td>10.213294</td>\n",
       "    </tr>\n",
       "    <tr>\n",
       "      <th>min</th>\n",
       "      <td>7.236900</td>\n",
       "      <td>242.286000</td>\n",
       "      <td>0.304900</td>\n",
       "      <td>0.970000</td>\n",
       "      <td>0.022400</td>\n",
       "      <td>0.412200</td>\n",
       "      <td>0.009100</td>\n",
       "      <td>0.370600</td>\n",
       "      <td>3.250400</td>\n",
       "    </tr>\n",
       "    <tr>\n",
       "      <th>25%</th>\n",
       "      <td>15.762450</td>\n",
       "      <td>259.972500</td>\n",
       "      <td>0.567100</td>\n",
       "      <td>4.980000</td>\n",
       "      <td>0.087700</td>\n",
       "      <td>2.090200</td>\n",
       "      <td>0.038200</td>\n",
       "      <td>1.884400</td>\n",
       "      <td>15.466200</td>\n",
       "    </tr>\n",
       "    <tr>\n",
       "      <th>50%</th>\n",
       "      <td>29.731150</td>\n",
       "      <td>264.272000</td>\n",
       "      <td>0.651000</td>\n",
       "      <td>5.160000</td>\n",
       "      <td>0.119550</td>\n",
       "      <td>2.150450</td>\n",
       "      <td>0.048650</td>\n",
       "      <td>1.999700</td>\n",
       "      <td>16.988350</td>\n",
       "    </tr>\n",
       "    <tr>\n",
       "      <th>75%</th>\n",
       "      <td>44.113400</td>\n",
       "      <td>265.707000</td>\n",
       "      <td>0.768875</td>\n",
       "      <td>7.800000</td>\n",
       "      <td>0.186150</td>\n",
       "      <td>3.098725</td>\n",
       "      <td>0.075275</td>\n",
       "      <td>2.970850</td>\n",
       "      <td>24.772175</td>\n",
       "    </tr>\n",
       "    <tr>\n",
       "      <th>max</th>\n",
       "      <td>101.114600</td>\n",
       "      <td>311.404000</td>\n",
       "      <td>1.298800</td>\n",
       "      <td>32.580000</td>\n",
       "      <td>0.689200</td>\n",
       "      <td>14.014100</td>\n",
       "      <td>0.293200</td>\n",
       "      <td>12.746200</td>\n",
       "      <td>84.802400</td>\n",
       "    </tr>\n",
       "  </tbody>\n",
       "</table>\n",
       "</div>"
      ],
      "text/plain": [
       "               561          562          563          564          565  \\\n",
       "count  1566.000000  1294.000000  1294.000000  1294.000000  1294.000000   \n",
       "mean     32.284956   262.729683     0.679641     6.444985     0.145610   \n",
       "std      19.026081     7.630585     0.121758     2.633583     0.081122   \n",
       "min       7.236900   242.286000     0.304900     0.970000     0.022400   \n",
       "25%      15.762450   259.972500     0.567100     4.980000     0.087700   \n",
       "50%      29.731150   264.272000     0.651000     5.160000     0.119550   \n",
       "75%      44.113400   265.707000     0.768875     7.800000     0.186150   \n",
       "max     101.114600   311.404000     1.298800    32.580000     0.689200   \n",
       "\n",
       "               566          567          568          569  \n",
       "count  1294.000000  1294.000000  1294.000000  1294.000000  \n",
       "mean      2.610870     0.060086     2.452417    21.117674  \n",
       "std       1.032761     0.032761     0.996644    10.213294  \n",
       "min       0.412200     0.009100     0.370600     3.250400  \n",
       "25%       2.090200     0.038200     1.884400    15.466200  \n",
       "50%       2.150450     0.048650     1.999700    16.988350  \n",
       "75%       3.098725     0.075275     2.970850    24.772175  \n",
       "max      14.014100     0.293200    12.746200    84.802400  "
      ]
     },
     "execution_count": 28,
     "metadata": {},
     "output_type": "execute_result"
    }
   ],
   "source": [
    "dfk.describe()"
   ]
  },
  {
   "cell_type": "code",
   "execution_count": 32,
   "metadata": {
    "collapsed": true
   },
   "outputs": [],
   "source": [
    "df['561'].fillna(df['561'].median(),inplace=True)\n",
    "df['562'].fillna(df['562'].mean(),inplace=True)\n",
    "df['563'].fillna(df['563'].median,inplace=True)\n",
    "df['564'].fillna(df['564'].median(),inplace=True)\n",
    "df['565'].fillna(df['565'].mean(),inplace=True)\n",
    "df['566'].fillna(df['566'].median,inplace=True)\n",
    "df['567'].fillna(df['567'].mean(),inplace=True)\n",
    "df['568'].fillna(df['568'].median,inplace=True)\n",
    "df['569'].fillna(df['569'].mean(),inplace=True)"
   ]
  },
  {
   "cell_type": "code",
   "execution_count": 98,
   "metadata": {},
   "outputs": [
    {
     "data": {
      "text/plain": [
       "0              6\n",
       "1              7\n",
       "2             14\n",
       "3             14\n",
       "4             14\n",
       "5             14\n",
       "6             14\n",
       "7              9\n",
       "8              2\n",
       "9              2\n",
       "10             2\n",
       "11             2\n",
       "12             2\n",
       "13             3\n",
       "14             3\n",
       "15             3\n",
       "16             3\n",
       "17             3\n",
       "18             3\n",
       "19            10\n",
       "20             0\n",
       "21             2\n",
       "22             2\n",
       "23             2\n",
       "24             2\n",
       "25             2\n",
       "26             2\n",
       "27             2\n",
       "28             2\n",
       "29             2\n",
       "            ... \n",
       "561            1\n",
       "562          273\n",
       "563          273\n",
       "564          273\n",
       "565          273\n",
       "566          273\n",
       "567          273\n",
       "568          273\n",
       "569          273\n",
       "570            0\n",
       "571            0\n",
       "572            0\n",
       "573            0\n",
       "574            0\n",
       "575            0\n",
       "576            0\n",
       "577            0\n",
       "578          949\n",
       "579          949\n",
       "580          949\n",
       "581          949\n",
       "582            1\n",
       "583            1\n",
       "584            1\n",
       "585            1\n",
       "586            1\n",
       "587            1\n",
       "588            1\n",
       "589            1\n",
       "Pass/Fail      0\n",
       "Length: 591, dtype: int64"
      ]
     },
     "execution_count": 98,
     "metadata": {},
     "output_type": "execute_result"
    }
   ],
   "source": [
    "df.isnull().sum()"
   ]
  },
  {
   "cell_type": "code",
   "execution_count": 99,
   "metadata": {},
   "outputs": [
    {
     "data": {
      "text/html": [
       "<div>\n",
       "<style>\n",
       "    .dataframe thead tr:only-child th {\n",
       "        text-align: right;\n",
       "    }\n",
       "\n",
       "    .dataframe thead th {\n",
       "        text-align: left;\n",
       "    }\n",
       "\n",
       "    .dataframe tbody tr th {\n",
       "        vertical-align: top;\n",
       "    }\n",
       "</style>\n",
       "<table border=\"1\" class=\"dataframe\">\n",
       "  <thead>\n",
       "    <tr style=\"text-align: right;\">\n",
       "      <th></th>\n",
       "      <th>0</th>\n",
       "      <th>1</th>\n",
       "      <th>2</th>\n",
       "      <th>3</th>\n",
       "      <th>4</th>\n",
       "      <th>5</th>\n",
       "      <th>6</th>\n",
       "      <th>7</th>\n",
       "      <th>8</th>\n",
       "      <th>9</th>\n",
       "      <th>...</th>\n",
       "      <th>581</th>\n",
       "      <th>582</th>\n",
       "      <th>583</th>\n",
       "      <th>584</th>\n",
       "      <th>585</th>\n",
       "      <th>586</th>\n",
       "      <th>587</th>\n",
       "      <th>588</th>\n",
       "      <th>589</th>\n",
       "      <th>Pass/Fail</th>\n",
       "    </tr>\n",
       "  </thead>\n",
       "  <tbody>\n",
       "    <tr>\n",
       "      <th>count</th>\n",
       "      <td>1561.000000</td>\n",
       "      <td>1560.000000</td>\n",
       "      <td>1553.000000</td>\n",
       "      <td>1553.000000</td>\n",
       "      <td>1553.000000</td>\n",
       "      <td>1553.0</td>\n",
       "      <td>1553.000000</td>\n",
       "      <td>1558.000000</td>\n",
       "      <td>1565.000000</td>\n",
       "      <td>1565.000000</td>\n",
       "      <td>...</td>\n",
       "      <td>618.000000</td>\n",
       "      <td>1566.000000</td>\n",
       "      <td>1566.000000</td>\n",
       "      <td>1566.000000</td>\n",
       "      <td>1566.000000</td>\n",
       "      <td>1566.000000</td>\n",
       "      <td>1566.000000</td>\n",
       "      <td>1566.000000</td>\n",
       "      <td>1566.000000</td>\n",
       "      <td>1567.000000</td>\n",
       "    </tr>\n",
       "    <tr>\n",
       "      <th>mean</th>\n",
       "      <td>3014.452896</td>\n",
       "      <td>2495.850231</td>\n",
       "      <td>2200.547318</td>\n",
       "      <td>1396.376627</td>\n",
       "      <td>4.197013</td>\n",
       "      <td>100.0</td>\n",
       "      <td>101.112908</td>\n",
       "      <td>0.121822</td>\n",
       "      <td>1.462862</td>\n",
       "      <td>-0.000841</td>\n",
       "      <td>...</td>\n",
       "      <td>97.934373</td>\n",
       "      <td>0.500096</td>\n",
       "      <td>0.015318</td>\n",
       "      <td>0.003847</td>\n",
       "      <td>3.067826</td>\n",
       "      <td>0.021458</td>\n",
       "      <td>0.016475</td>\n",
       "      <td>0.005283</td>\n",
       "      <td>99.670066</td>\n",
       "      <td>-0.867262</td>\n",
       "    </tr>\n",
       "    <tr>\n",
       "      <th>std</th>\n",
       "      <td>73.621787</td>\n",
       "      <td>80.407705</td>\n",
       "      <td>29.513152</td>\n",
       "      <td>441.691640</td>\n",
       "      <td>56.355540</td>\n",
       "      <td>0.0</td>\n",
       "      <td>6.237214</td>\n",
       "      <td>0.008961</td>\n",
       "      <td>0.073897</td>\n",
       "      <td>0.015116</td>\n",
       "      <td>...</td>\n",
       "      <td>87.520966</td>\n",
       "      <td>0.003404</td>\n",
       "      <td>0.017180</td>\n",
       "      <td>0.003720</td>\n",
       "      <td>3.578033</td>\n",
       "      <td>0.012358</td>\n",
       "      <td>0.008808</td>\n",
       "      <td>0.002867</td>\n",
       "      <td>93.891919</td>\n",
       "      <td>0.498010</td>\n",
       "    </tr>\n",
       "    <tr>\n",
       "      <th>min</th>\n",
       "      <td>2743.240000</td>\n",
       "      <td>2158.750000</td>\n",
       "      <td>2060.660000</td>\n",
       "      <td>0.000000</td>\n",
       "      <td>0.681500</td>\n",
       "      <td>100.0</td>\n",
       "      <td>82.131100</td>\n",
       "      <td>0.000000</td>\n",
       "      <td>1.191000</td>\n",
       "      <td>-0.053400</td>\n",
       "      <td>...</td>\n",
       "      <td>0.000000</td>\n",
       "      <td>0.477800</td>\n",
       "      <td>0.006000</td>\n",
       "      <td>0.001700</td>\n",
       "      <td>1.197500</td>\n",
       "      <td>-0.016900</td>\n",
       "      <td>0.003200</td>\n",
       "      <td>0.001000</td>\n",
       "      <td>0.000000</td>\n",
       "      <td>-1.000000</td>\n",
       "    </tr>\n",
       "    <tr>\n",
       "      <th>25%</th>\n",
       "      <td>2966.260000</td>\n",
       "      <td>2452.247500</td>\n",
       "      <td>2181.044400</td>\n",
       "      <td>1081.875800</td>\n",
       "      <td>1.017700</td>\n",
       "      <td>100.0</td>\n",
       "      <td>97.920000</td>\n",
       "      <td>0.121100</td>\n",
       "      <td>1.411200</td>\n",
       "      <td>-0.010800</td>\n",
       "      <td>...</td>\n",
       "      <td>46.184900</td>\n",
       "      <td>0.497900</td>\n",
       "      <td>0.011600</td>\n",
       "      <td>0.003100</td>\n",
       "      <td>2.306500</td>\n",
       "      <td>0.013425</td>\n",
       "      <td>0.010600</td>\n",
       "      <td>0.003300</td>\n",
       "      <td>44.368600</td>\n",
       "      <td>-1.000000</td>\n",
       "    </tr>\n",
       "    <tr>\n",
       "      <th>50%</th>\n",
       "      <td>3011.490000</td>\n",
       "      <td>2499.405000</td>\n",
       "      <td>2201.066700</td>\n",
       "      <td>1285.214400</td>\n",
       "      <td>1.316800</td>\n",
       "      <td>100.0</td>\n",
       "      <td>101.512200</td>\n",
       "      <td>0.122400</td>\n",
       "      <td>1.461600</td>\n",
       "      <td>-0.001300</td>\n",
       "      <td>...</td>\n",
       "      <td>72.288900</td>\n",
       "      <td>0.500200</td>\n",
       "      <td>0.013800</td>\n",
       "      <td>0.003600</td>\n",
       "      <td>2.757650</td>\n",
       "      <td>0.020500</td>\n",
       "      <td>0.014800</td>\n",
       "      <td>0.004600</td>\n",
       "      <td>71.900500</td>\n",
       "      <td>-1.000000</td>\n",
       "    </tr>\n",
       "    <tr>\n",
       "      <th>75%</th>\n",
       "      <td>3056.650000</td>\n",
       "      <td>2538.822500</td>\n",
       "      <td>2218.055500</td>\n",
       "      <td>1591.223500</td>\n",
       "      <td>1.525700</td>\n",
       "      <td>100.0</td>\n",
       "      <td>104.586700</td>\n",
       "      <td>0.123800</td>\n",
       "      <td>1.516900</td>\n",
       "      <td>0.008400</td>\n",
       "      <td>...</td>\n",
       "      <td>116.539150</td>\n",
       "      <td>0.502375</td>\n",
       "      <td>0.016500</td>\n",
       "      <td>0.004100</td>\n",
       "      <td>3.295175</td>\n",
       "      <td>0.027600</td>\n",
       "      <td>0.020300</td>\n",
       "      <td>0.006400</td>\n",
       "      <td>114.749700</td>\n",
       "      <td>-1.000000</td>\n",
       "    </tr>\n",
       "    <tr>\n",
       "      <th>max</th>\n",
       "      <td>3356.350000</td>\n",
       "      <td>2846.440000</td>\n",
       "      <td>2315.266700</td>\n",
       "      <td>3715.041700</td>\n",
       "      <td>1114.536600</td>\n",
       "      <td>100.0</td>\n",
       "      <td>129.252200</td>\n",
       "      <td>0.128600</td>\n",
       "      <td>1.656400</td>\n",
       "      <td>0.074900</td>\n",
       "      <td>...</td>\n",
       "      <td>737.304800</td>\n",
       "      <td>0.509800</td>\n",
       "      <td>0.476600</td>\n",
       "      <td>0.104500</td>\n",
       "      <td>99.303200</td>\n",
       "      <td>0.102800</td>\n",
       "      <td>0.079900</td>\n",
       "      <td>0.028600</td>\n",
       "      <td>737.304800</td>\n",
       "      <td>1.000000</td>\n",
       "    </tr>\n",
       "  </tbody>\n",
       "</table>\n",
       "<p>8 rows × 591 columns</p>\n",
       "</div>"
      ],
      "text/plain": [
       "                 0            1            2            3            4  \\\n",
       "count  1561.000000  1560.000000  1553.000000  1553.000000  1553.000000   \n",
       "mean   3014.452896  2495.850231  2200.547318  1396.376627     4.197013   \n",
       "std      73.621787    80.407705    29.513152   441.691640    56.355540   \n",
       "min    2743.240000  2158.750000  2060.660000     0.000000     0.681500   \n",
       "25%    2966.260000  2452.247500  2181.044400  1081.875800     1.017700   \n",
       "50%    3011.490000  2499.405000  2201.066700  1285.214400     1.316800   \n",
       "75%    3056.650000  2538.822500  2218.055500  1591.223500     1.525700   \n",
       "max    3356.350000  2846.440000  2315.266700  3715.041700  1114.536600   \n",
       "\n",
       "            5            6            7            8            9  \\\n",
       "count  1553.0  1553.000000  1558.000000  1565.000000  1565.000000   \n",
       "mean    100.0   101.112908     0.121822     1.462862    -0.000841   \n",
       "std       0.0     6.237214     0.008961     0.073897     0.015116   \n",
       "min     100.0    82.131100     0.000000     1.191000    -0.053400   \n",
       "25%     100.0    97.920000     0.121100     1.411200    -0.010800   \n",
       "50%     100.0   101.512200     0.122400     1.461600    -0.001300   \n",
       "75%     100.0   104.586700     0.123800     1.516900     0.008400   \n",
       "max     100.0   129.252200     0.128600     1.656400     0.074900   \n",
       "\n",
       "          ...              581          582          583          584  \\\n",
       "count     ...       618.000000  1566.000000  1566.000000  1566.000000   \n",
       "mean      ...        97.934373     0.500096     0.015318     0.003847   \n",
       "std       ...        87.520966     0.003404     0.017180     0.003720   \n",
       "min       ...         0.000000     0.477800     0.006000     0.001700   \n",
       "25%       ...        46.184900     0.497900     0.011600     0.003100   \n",
       "50%       ...        72.288900     0.500200     0.013800     0.003600   \n",
       "75%       ...       116.539150     0.502375     0.016500     0.004100   \n",
       "max       ...       737.304800     0.509800     0.476600     0.104500   \n",
       "\n",
       "               585          586          587          588          589  \\\n",
       "count  1566.000000  1566.000000  1566.000000  1566.000000  1566.000000   \n",
       "mean      3.067826     0.021458     0.016475     0.005283    99.670066   \n",
       "std       3.578033     0.012358     0.008808     0.002867    93.891919   \n",
       "min       1.197500    -0.016900     0.003200     0.001000     0.000000   \n",
       "25%       2.306500     0.013425     0.010600     0.003300    44.368600   \n",
       "50%       2.757650     0.020500     0.014800     0.004600    71.900500   \n",
       "75%       3.295175     0.027600     0.020300     0.006400   114.749700   \n",
       "max      99.303200     0.102800     0.079900     0.028600   737.304800   \n",
       "\n",
       "         Pass/Fail  \n",
       "count  1567.000000  \n",
       "mean     -0.867262  \n",
       "std       0.498010  \n",
       "min      -1.000000  \n",
       "25%      -1.000000  \n",
       "50%      -1.000000  \n",
       "75%      -1.000000  \n",
       "max       1.000000  \n",
       "\n",
       "[8 rows x 591 columns]"
      ]
     },
     "execution_count": 99,
     "metadata": {},
     "output_type": "execute_result"
    }
   ],
   "source": [
    "df.describe()"
   ]
  },
  {
   "cell_type": "code",
   "execution_count": 101,
   "metadata": {
    "collapsed": true
   },
   "outputs": [],
   "source": [
    "from sklearn.cross_validation import train_test_split"
   ]
  },
  {
   "cell_type": "code",
   "execution_count": 102,
   "metadata": {
    "collapsed": true
   },
   "outputs": [],
   "source": [
    "dfk=pd.DataFrame(df,columns=['582','583','584','585','586','587','588','589'])"
   ]
  },
  {
   "cell_type": "code",
   "execution_count": 103,
   "metadata": {},
   "outputs": [
    {
     "data": {
      "text/html": [
       "<div>\n",
       "<style>\n",
       "    .dataframe thead tr:only-child th {\n",
       "        text-align: right;\n",
       "    }\n",
       "\n",
       "    .dataframe thead th {\n",
       "        text-align: left;\n",
       "    }\n",
       "\n",
       "    .dataframe tbody tr th {\n",
       "        vertical-align: top;\n",
       "    }\n",
       "</style>\n",
       "<table border=\"1\" class=\"dataframe\">\n",
       "  <thead>\n",
       "    <tr style=\"text-align: right;\">\n",
       "      <th></th>\n",
       "      <th>582</th>\n",
       "      <th>583</th>\n",
       "      <th>584</th>\n",
       "      <th>585</th>\n",
       "      <th>586</th>\n",
       "      <th>587</th>\n",
       "      <th>588</th>\n",
       "      <th>589</th>\n",
       "    </tr>\n",
       "  </thead>\n",
       "  <tbody>\n",
       "    <tr>\n",
       "      <th>count</th>\n",
       "      <td>1566.000000</td>\n",
       "      <td>1566.000000</td>\n",
       "      <td>1566.000000</td>\n",
       "      <td>1566.000000</td>\n",
       "      <td>1566.000000</td>\n",
       "      <td>1566.000000</td>\n",
       "      <td>1566.000000</td>\n",
       "      <td>1566.000000</td>\n",
       "    </tr>\n",
       "    <tr>\n",
       "      <th>mean</th>\n",
       "      <td>0.500096</td>\n",
       "      <td>0.015318</td>\n",
       "      <td>0.003847</td>\n",
       "      <td>3.067826</td>\n",
       "      <td>0.021458</td>\n",
       "      <td>0.016475</td>\n",
       "      <td>0.005283</td>\n",
       "      <td>99.670066</td>\n",
       "    </tr>\n",
       "    <tr>\n",
       "      <th>std</th>\n",
       "      <td>0.003404</td>\n",
       "      <td>0.017180</td>\n",
       "      <td>0.003720</td>\n",
       "      <td>3.578033</td>\n",
       "      <td>0.012358</td>\n",
       "      <td>0.008808</td>\n",
       "      <td>0.002867</td>\n",
       "      <td>93.891919</td>\n",
       "    </tr>\n",
       "    <tr>\n",
       "      <th>min</th>\n",
       "      <td>0.477800</td>\n",
       "      <td>0.006000</td>\n",
       "      <td>0.001700</td>\n",
       "      <td>1.197500</td>\n",
       "      <td>-0.016900</td>\n",
       "      <td>0.003200</td>\n",
       "      <td>0.001000</td>\n",
       "      <td>0.000000</td>\n",
       "    </tr>\n",
       "    <tr>\n",
       "      <th>25%</th>\n",
       "      <td>0.497900</td>\n",
       "      <td>0.011600</td>\n",
       "      <td>0.003100</td>\n",
       "      <td>2.306500</td>\n",
       "      <td>0.013425</td>\n",
       "      <td>0.010600</td>\n",
       "      <td>0.003300</td>\n",
       "      <td>44.368600</td>\n",
       "    </tr>\n",
       "    <tr>\n",
       "      <th>50%</th>\n",
       "      <td>0.500200</td>\n",
       "      <td>0.013800</td>\n",
       "      <td>0.003600</td>\n",
       "      <td>2.757650</td>\n",
       "      <td>0.020500</td>\n",
       "      <td>0.014800</td>\n",
       "      <td>0.004600</td>\n",
       "      <td>71.900500</td>\n",
       "    </tr>\n",
       "    <tr>\n",
       "      <th>75%</th>\n",
       "      <td>0.502375</td>\n",
       "      <td>0.016500</td>\n",
       "      <td>0.004100</td>\n",
       "      <td>3.295175</td>\n",
       "      <td>0.027600</td>\n",
       "      <td>0.020300</td>\n",
       "      <td>0.006400</td>\n",
       "      <td>114.749700</td>\n",
       "    </tr>\n",
       "    <tr>\n",
       "      <th>max</th>\n",
       "      <td>0.509800</td>\n",
       "      <td>0.476600</td>\n",
       "      <td>0.104500</td>\n",
       "      <td>99.303200</td>\n",
       "      <td>0.102800</td>\n",
       "      <td>0.079900</td>\n",
       "      <td>0.028600</td>\n",
       "      <td>737.304800</td>\n",
       "    </tr>\n",
       "  </tbody>\n",
       "</table>\n",
       "</div>"
      ],
      "text/plain": [
       "               582          583          584          585          586  \\\n",
       "count  1566.000000  1566.000000  1566.000000  1566.000000  1566.000000   \n",
       "mean      0.500096     0.015318     0.003847     3.067826     0.021458   \n",
       "std       0.003404     0.017180     0.003720     3.578033     0.012358   \n",
       "min       0.477800     0.006000     0.001700     1.197500    -0.016900   \n",
       "25%       0.497900     0.011600     0.003100     2.306500     0.013425   \n",
       "50%       0.500200     0.013800     0.003600     2.757650     0.020500   \n",
       "75%       0.502375     0.016500     0.004100     3.295175     0.027600   \n",
       "max       0.509800     0.476600     0.104500    99.303200     0.102800   \n",
       "\n",
       "               587          588          589  \n",
       "count  1566.000000  1566.000000  1566.000000  \n",
       "mean      0.016475     0.005283    99.670066  \n",
       "std       0.008808     0.002867    93.891919  \n",
       "min       0.003200     0.001000     0.000000  \n",
       "25%       0.010600     0.003300    44.368600  \n",
       "50%       0.014800     0.004600    71.900500  \n",
       "75%       0.020300     0.006400   114.749700  \n",
       "max       0.079900     0.028600   737.304800  "
      ]
     },
     "execution_count": 103,
     "metadata": {},
     "output_type": "execute_result"
    }
   ],
   "source": [
    "dfk.describe()"
   ]
  },
  {
   "cell_type": "code",
   "execution_count": 104,
   "metadata": {
    "collapsed": true
   },
   "outputs": [],
   "source": [
    "df=df.fillna(0)"
   ]
  },
  {
   "cell_type": "code",
   "execution_count": 44,
   "metadata": {
    "collapsed": true
   },
   "outputs": [],
   "source": [
    "#Using Any Model\n",
    "#Model here-Logistic Regression"
   ]
  },
  {
   "cell_type": "code",
   "execution_count": 52,
   "metadata": {
    "collapsed": true
   },
   "outputs": [],
   "source": [
    "from sklearn.metrics import accuracy_score"
   ]
  },
  {
   "cell_type": "code",
   "execution_count": 105,
   "metadata": {
    "collapsed": true
   },
   "outputs": [],
   "source": [
    "Y=df['Pass/Fail']"
   ]
  },
  {
   "cell_type": "code",
   "execution_count": 106,
   "metadata": {
    "collapsed": true
   },
   "outputs": [],
   "source": [
    "X=df.drop(['Pass/Fail'],axis=1)\n",
    "X=X.drop(['566','581'],axis=1)"
   ]
  },
  {
   "cell_type": "code",
   "execution_count": 107,
   "metadata": {},
   "outputs": [
    {
     "data": {
      "text/plain": [
       "dtype('int64')"
      ]
     },
     "execution_count": 107,
     "metadata": {},
     "output_type": "execute_result"
    }
   ],
   "source": [
    "Y.dtypes"
   ]
  },
  {
   "cell_type": "code",
   "execution_count": 108,
   "metadata": {},
   "outputs": [
    {
     "data": {
      "text/plain": [
       "0      float64\n",
       "1      float64\n",
       "2      float64\n",
       "3      float64\n",
       "4      float64\n",
       "5      float64\n",
       "6      float64\n",
       "7      float64\n",
       "8      float64\n",
       "9      float64\n",
       "10     float64\n",
       "11     float64\n",
       "12     float64\n",
       "13     float64\n",
       "14     float64\n",
       "15     float64\n",
       "16     float64\n",
       "17     float64\n",
       "18     float64\n",
       "19     float64\n",
       "20     float64\n",
       "21     float64\n",
       "22     float64\n",
       "23     float64\n",
       "24     float64\n",
       "25     float64\n",
       "26     float64\n",
       "27     float64\n",
       "28     float64\n",
       "29     float64\n",
       "        ...   \n",
       "558    float64\n",
       "559    float64\n",
       "560    float64\n",
       "561    float64\n",
       "562    float64\n",
       "563    float64\n",
       "564    float64\n",
       "565    float64\n",
       "567    float64\n",
       "568    float64\n",
       "569    float64\n",
       "570    float64\n",
       "571    float64\n",
       "572    float64\n",
       "573    float64\n",
       "574    float64\n",
       "575    float64\n",
       "576    float64\n",
       "577    float64\n",
       "578    float64\n",
       "579    float64\n",
       "580    float64\n",
       "582    float64\n",
       "583    float64\n",
       "584    float64\n",
       "585    float64\n",
       "586    float64\n",
       "587    float64\n",
       "588    float64\n",
       "589    float64\n",
       "Length: 588, dtype: object"
      ]
     },
     "execution_count": 108,
     "metadata": {},
     "output_type": "execute_result"
    }
   ],
   "source": [
    "X.dtypes"
   ]
  },
  {
   "cell_type": "code",
   "execution_count": 109,
   "metadata": {
    "collapsed": true
   },
   "outputs": [],
   "source": [
    "X_train,X_test,y_train,y_test=train_test_split(X,Y,test_size=0.3,random_state=0)"
   ]
  },
  {
   "cell_type": "code",
   "execution_count": 110,
   "metadata": {
    "collapsed": true
   },
   "outputs": [],
   "source": [
    "from sklearn.linear_model import LogisticRegression\n",
    "lr=LogisticRegression(C=1000.0, random_state=0)"
   ]
  },
  {
   "cell_type": "code",
   "execution_count": 111,
   "metadata": {},
   "outputs": [
    {
     "data": {
      "text/plain": [
       "LogisticRegression(C=1000.0, class_weight=None, dual=False,\n",
       "          fit_intercept=True, intercept_scaling=1, max_iter=100,\n",
       "          multi_class='ovr', n_jobs=1, penalty='l2', random_state=0,\n",
       "          solver='liblinear', tol=0.0001, verbose=0, warm_start=False)"
      ]
     },
     "execution_count": 111,
     "metadata": {},
     "output_type": "execute_result"
    }
   ],
   "source": [
    "lr.fit(X_train,y_train)"
   ]
  },
  {
   "cell_type": "code",
   "execution_count": 112,
   "metadata": {
    "collapsed": true
   },
   "outputs": [],
   "source": [
    "y_pred=lr.predict(X_test)"
   ]
  },
  {
   "cell_type": "code",
   "execution_count": 113,
   "metadata": {},
   "outputs": [
    {
     "data": {
      "text/plain": [
       "0.89596602972399153"
      ]
     },
     "execution_count": 113,
     "metadata": {},
     "output_type": "execute_result"
    }
   ],
   "source": [
    "accuracy_score(y_test,y_pred)"
   ]
  },
  {
   "cell_type": "code",
   "execution_count": 115,
   "metadata": {
    "collapsed": true
   },
   "outputs": [],
   "source": [
    "#Applying PCA"
   ]
  },
  {
   "cell_type": "code",
   "execution_count": 114,
   "metadata": {
    "collapsed": true
   },
   "outputs": [],
   "source": [
    "from sklearn import decomposition"
   ]
  },
  {
   "cell_type": "code",
   "execution_count": 116,
   "metadata": {
    "collapsed": true
   },
   "outputs": [],
   "source": [
    "pca=decomposition.PCA()"
   ]
  },
  {
   "cell_type": "code",
   "execution_count": 118,
   "metadata": {
    "collapsed": true
   },
   "outputs": [],
   "source": [
    "Pfk=pca.fit_transform(X_train)"
   ]
  },
  {
   "cell_type": "code",
   "execution_count": 120,
   "metadata": {},
   "outputs": [
    {
     "data": {
      "text/plain": [
       "(1096, 588)"
      ]
     },
     "execution_count": 120,
     "metadata": {},
     "output_type": "execute_result"
    }
   ],
   "source": [
    "Pfk.shape"
   ]
  },
  {
   "cell_type": "code",
   "execution_count": 123,
   "metadata": {
    "collapsed": true
   },
   "outputs": [],
   "source": [
    "prr=pca.explained_variance_"
   ]
  },
  {
   "cell_type": "code",
   "execution_count": 124,
   "metadata": {},
   "outputs": [
    {
     "data": {
      "text/plain": [
       "(588,)"
      ]
     },
     "execution_count": 124,
     "metadata": {},
     "output_type": "execute_result"
    }
   ],
   "source": [
    "prr.shape"
   ]
  },
  {
   "cell_type": "code",
   "execution_count": 130,
   "metadata": {
    "collapsed": true
   },
   "outputs": [],
   "source": [
    "pca=decomposition.PCA(n_components=15)\n",
    "X_train_pca=pca.fit_transform(X_train)\n",
    "X_test_pca=pca.transform(X_test)"
   ]
  },
  {
   "cell_type": "code",
   "execution_count": 128,
   "metadata": {
    "collapsed": true
   },
   "outputs": [],
   "source": [
    "import time"
   ]
  },
  {
   "cell_type": "code",
   "execution_count": 132,
   "metadata": {},
   "outputs": [
    {
     "name": "stdout",
     "output_type": "stream",
     "text": [
      "* 4.2537548542022705 *\n",
      "* 0.895966029724 *\n"
     ]
    }
   ],
   "source": [
    "#Recording the time\n",
    "start=time.time()\n",
    "lr.fit(X_train,y_train)\n",
    "end=time.time()\n",
    "print(\"*\",end-start,\"*\")\n",
    "#So that we can see the time taken to fit the data in model without logistic regression\n",
    "#Time taken may be different all the time due to the stuff CPU might be dealing with\n",
    "print(\"*\",lr.score(X_test,y_test),\"*\")"
   ]
  },
  {
   "cell_type": "code",
   "execution_count": 208,
   "metadata": {},
   "outputs": [
    {
     "name": "stdout",
     "output_type": "stream",
     "text": [
      "* 0.02296900749206543 *\n",
      "* 0.949044585987 *\n"
     ]
    }
   ],
   "source": [
    "#This time we will use the dataset on which dimensionality reduction has been performed with the help of PCA\n",
    "start=time.time()\n",
    "lr.fit(X_test_pca,y_test)\n",
    "end=time.time()\n",
    "print(\"*\",end-start,\"*\")\n",
    "print(\"*\",lr.score(X_test_pca,y_test),\"*\")"
   ]
  },
  {
   "cell_type": "code",
   "execution_count": 133,
   "metadata": {
    "collapsed": true
   },
   "outputs": [],
   "source": [
    "#We can see that using PCA adds to accuracy and reduces performance time as well"
   ]
  },
  {
   "cell_type": "code",
   "execution_count": 134,
   "metadata": {
    "collapsed": true
   },
   "outputs": [],
   "source": [
    "from sklearn.tree import DecisionTreeClassifier"
   ]
  },
  {
   "cell_type": "code",
   "execution_count": 136,
   "metadata": {},
   "outputs": [],
   "source": [
    "clf=DecisionTreeClassifier()\n",
    "model=clf.fit(X_train,y_train)"
   ]
  },
  {
   "cell_type": "code",
   "execution_count": 137,
   "metadata": {
    "collapsed": true
   },
   "outputs": [],
   "source": [
    "importances = model.feature_importances_"
   ]
  },
  {
   "cell_type": "code",
   "execution_count": 142,
   "metadata": {},
   "outputs": [
    {
     "data": {
      "text/plain": [
       "(588,)"
      ]
     },
     "execution_count": 142,
     "metadata": {},
     "output_type": "execute_result"
    }
   ],
   "source": [
    "importances"
   ]
  },
  {
   "cell_type": "code",
   "execution_count": 158,
   "metadata": {},
   "outputs": [
    {
     "data": {
      "text/plain": [
       "588"
      ]
     },
     "execution_count": 158,
     "metadata": {},
     "output_type": "execute_result"
    }
   ],
   "source": [
    "importances.size"
   ]
  },
  {
   "cell_type": "code",
   "execution_count": 171,
   "metadata": {},
   "outputs": [],
   "source": [
    "#Printing features with non zero importance\n",
    "def checker(data):\n",
    "    df_imp=[]\n",
    "    for i in range(0,data.size):\n",
    "        if(data[i]!=0):\n",
    "            df_imp.append(i)\n",
    "    return(df_imp)"
   ]
  },
  {
   "cell_type": "code",
   "execution_count": 182,
   "metadata": {},
   "outputs": [],
   "source": [
    "df_imp=checker(importances)"
   ]
  },
  {
   "cell_type": "code",
   "execution_count": 193,
   "metadata": {},
   "outputs": [
    {
     "data": {
      "text/plain": [
       "60"
      ]
     },
     "execution_count": 193,
     "metadata": {},
     "output_type": "execute_result"
    }
   ],
   "source": [
    "len(df_imp)"
   ]
  },
  {
   "cell_type": "code",
   "execution_count": 194,
   "metadata": {
    "collapsed": true
   },
   "outputs": [],
   "source": [
    "#Thus sixty of the features are only important"
   ]
  },
  {
   "cell_type": "code",
   "execution_count": 201,
   "metadata": {},
   "outputs": [],
   "source": [
    "dfm=df[df.index.isin(df_imp)]"
   ]
  },
  {
   "cell_type": "code",
   "execution_count": 203,
   "metadata": {},
   "outputs": [
    {
     "data": {
      "text/html": [
       "<div>\n",
       "<style>\n",
       "    .dataframe thead tr:only-child th {\n",
       "        text-align: right;\n",
       "    }\n",
       "\n",
       "    .dataframe thead th {\n",
       "        text-align: left;\n",
       "    }\n",
       "\n",
       "    .dataframe tbody tr th {\n",
       "        vertical-align: top;\n",
       "    }\n",
       "</style>\n",
       "<table border=\"1\" class=\"dataframe\">\n",
       "  <thead>\n",
       "    <tr style=\"text-align: right;\">\n",
       "      <th></th>\n",
       "      <th>0</th>\n",
       "      <th>1</th>\n",
       "      <th>2</th>\n",
       "      <th>3</th>\n",
       "      <th>4</th>\n",
       "      <th>5</th>\n",
       "      <th>6</th>\n",
       "      <th>7</th>\n",
       "      <th>8</th>\n",
       "      <th>9</th>\n",
       "      <th>...</th>\n",
       "      <th>581</th>\n",
       "      <th>582</th>\n",
       "      <th>583</th>\n",
       "      <th>584</th>\n",
       "      <th>585</th>\n",
       "      <th>586</th>\n",
       "      <th>587</th>\n",
       "      <th>588</th>\n",
       "      <th>589</th>\n",
       "      <th>Pass/Fail</th>\n",
       "    </tr>\n",
       "  </thead>\n",
       "  <tbody>\n",
       "    <tr>\n",
       "      <th>count</th>\n",
       "      <td>60.000000</td>\n",
       "      <td>60.000000</td>\n",
       "      <td>60.000000</td>\n",
       "      <td>60.000000</td>\n",
       "      <td>60.000000</td>\n",
       "      <td>60.0</td>\n",
       "      <td>60.000000</td>\n",
       "      <td>60.000000</td>\n",
       "      <td>60.000000</td>\n",
       "      <td>60.000000</td>\n",
       "      <td>...</td>\n",
       "      <td>60.000000</td>\n",
       "      <td>60.000000</td>\n",
       "      <td>60.000000</td>\n",
       "      <td>60.000000</td>\n",
       "      <td>60.000000</td>\n",
       "      <td>60.000000</td>\n",
       "      <td>60.000000</td>\n",
       "      <td>60.000000</td>\n",
       "      <td>60.000000</td>\n",
       "      <td>60.000000</td>\n",
       "    </tr>\n",
       "    <tr>\n",
       "      <th>mean</th>\n",
       "      <td>2999.341500</td>\n",
       "      <td>2503.310000</td>\n",
       "      <td>2200.426107</td>\n",
       "      <td>1368.401138</td>\n",
       "      <td>1.326700</td>\n",
       "      <td>100.0</td>\n",
       "      <td>101.953260</td>\n",
       "      <td>0.122528</td>\n",
       "      <td>1.488062</td>\n",
       "      <td>-0.001887</td>\n",
       "      <td>...</td>\n",
       "      <td>49.289808</td>\n",
       "      <td>0.500770</td>\n",
       "      <td>0.015740</td>\n",
       "      <td>0.003925</td>\n",
       "      <td>3.140043</td>\n",
       "      <td>0.021585</td>\n",
       "      <td>0.016847</td>\n",
       "      <td>0.005233</td>\n",
       "      <td>87.074162</td>\n",
       "      <td>-0.766667</td>\n",
       "    </tr>\n",
       "    <tr>\n",
       "      <th>std</th>\n",
       "      <td>78.091042</td>\n",
       "      <td>73.558265</td>\n",
       "      <td>32.549633</td>\n",
       "      <td>287.477178</td>\n",
       "      <td>0.273529</td>\n",
       "      <td>0.0</td>\n",
       "      <td>3.422802</td>\n",
       "      <td>0.001985</td>\n",
       "      <td>0.063448</td>\n",
       "      <td>0.016778</td>\n",
       "      <td>...</td>\n",
       "      <td>64.462372</td>\n",
       "      <td>0.003648</td>\n",
       "      <td>0.006223</td>\n",
       "      <td>0.001204</td>\n",
       "      <td>1.236937</td>\n",
       "      <td>0.011235</td>\n",
       "      <td>0.010627</td>\n",
       "      <td>0.002947</td>\n",
       "      <td>79.852663</td>\n",
       "      <td>0.647464</td>\n",
       "    </tr>\n",
       "    <tr>\n",
       "      <th>min</th>\n",
       "      <td>2787.490000</td>\n",
       "      <td>2297.300000</td>\n",
       "      <td>2126.655500</td>\n",
       "      <td>899.948800</td>\n",
       "      <td>0.736700</td>\n",
       "      <td>100.0</td>\n",
       "      <td>93.196700</td>\n",
       "      <td>0.118800</td>\n",
       "      <td>1.316700</td>\n",
       "      <td>-0.036200</td>\n",
       "      <td>...</td>\n",
       "      <td>0.000000</td>\n",
       "      <td>0.492400</td>\n",
       "      <td>0.008300</td>\n",
       "      <td>0.002200</td>\n",
       "      <td>1.659300</td>\n",
       "      <td>-0.001200</td>\n",
       "      <td>0.004200</td>\n",
       "      <td>0.001600</td>\n",
       "      <td>0.000000</td>\n",
       "      <td>-1.000000</td>\n",
       "    </tr>\n",
       "    <tr>\n",
       "      <th>25%</th>\n",
       "      <td>2958.347500</td>\n",
       "      <td>2459.042500</td>\n",
       "      <td>2177.888900</td>\n",
       "      <td>1102.916125</td>\n",
       "      <td>1.167050</td>\n",
       "      <td>100.0</td>\n",
       "      <td>99.220000</td>\n",
       "      <td>0.121000</td>\n",
       "      <td>1.450050</td>\n",
       "      <td>-0.014000</td>\n",
       "      <td>...</td>\n",
       "      <td>0.000000</td>\n",
       "      <td>0.498000</td>\n",
       "      <td>0.012175</td>\n",
       "      <td>0.003200</td>\n",
       "      <td>2.428300</td>\n",
       "      <td>0.013575</td>\n",
       "      <td>0.009950</td>\n",
       "      <td>0.003200</td>\n",
       "      <td>40.108050</td>\n",
       "      <td>-1.000000</td>\n",
       "    </tr>\n",
       "    <tr>\n",
       "      <th>50%</th>\n",
       "      <td>3002.770000</td>\n",
       "      <td>2509.350000</td>\n",
       "      <td>2199.205550</td>\n",
       "      <td>1432.670250</td>\n",
       "      <td>1.381100</td>\n",
       "      <td>100.0</td>\n",
       "      <td>102.297200</td>\n",
       "      <td>0.122200</td>\n",
       "      <td>1.487950</td>\n",
       "      <td>-0.001950</td>\n",
       "      <td>...</td>\n",
       "      <td>32.414300</td>\n",
       "      <td>0.500750</td>\n",
       "      <td>0.014150</td>\n",
       "      <td>0.003550</td>\n",
       "      <td>2.840150</td>\n",
       "      <td>0.021650</td>\n",
       "      <td>0.013250</td>\n",
       "      <td>0.004050</td>\n",
       "      <td>63.102900</td>\n",
       "      <td>-1.000000</td>\n",
       "    </tr>\n",
       "    <tr>\n",
       "      <th>75%</th>\n",
       "      <td>3061.570000</td>\n",
       "      <td>2539.440000</td>\n",
       "      <td>2218.875000</td>\n",
       "      <td>1588.946675</td>\n",
       "      <td>1.526675</td>\n",
       "      <td>100.0</td>\n",
       "      <td>104.089200</td>\n",
       "      <td>0.124000</td>\n",
       "      <td>1.537025</td>\n",
       "      <td>0.007775</td>\n",
       "      <td>...</td>\n",
       "      <td>72.033700</td>\n",
       "      <td>0.503600</td>\n",
       "      <td>0.016650</td>\n",
       "      <td>0.004200</td>\n",
       "      <td>3.301300</td>\n",
       "      <td>0.028875</td>\n",
       "      <td>0.019575</td>\n",
       "      <td>0.006150</td>\n",
       "      <td>111.603675</td>\n",
       "      <td>-1.000000</td>\n",
       "    </tr>\n",
       "    <tr>\n",
       "      <th>max</th>\n",
       "      <td>3120.680000</td>\n",
       "      <td>2693.200000</td>\n",
       "      <td>2270.255600</td>\n",
       "      <td>1997.378200</td>\n",
       "      <td>1.788900</td>\n",
       "      <td>100.0</td>\n",
       "      <td>111.344400</td>\n",
       "      <td>0.127600</td>\n",
       "      <td>1.613800</td>\n",
       "      <td>0.042800</td>\n",
       "      <td>...</td>\n",
       "      <td>294.625100</td>\n",
       "      <td>0.508800</td>\n",
       "      <td>0.035000</td>\n",
       "      <td>0.007700</td>\n",
       "      <td>6.936800</td>\n",
       "      <td>0.048400</td>\n",
       "      <td>0.055600</td>\n",
       "      <td>0.015000</td>\n",
       "      <td>474.081200</td>\n",
       "      <td>1.000000</td>\n",
       "    </tr>\n",
       "  </tbody>\n",
       "</table>\n",
       "<p>8 rows × 591 columns</p>\n",
       "</div>"
      ],
      "text/plain": [
       "                 0            1            2            3          4      5  \\\n",
       "count    60.000000    60.000000    60.000000    60.000000  60.000000   60.0   \n",
       "mean   2999.341500  2503.310000  2200.426107  1368.401138   1.326700  100.0   \n",
       "std      78.091042    73.558265    32.549633   287.477178   0.273529    0.0   \n",
       "min    2787.490000  2297.300000  2126.655500   899.948800   0.736700  100.0   \n",
       "25%    2958.347500  2459.042500  2177.888900  1102.916125   1.167050  100.0   \n",
       "50%    3002.770000  2509.350000  2199.205550  1432.670250   1.381100  100.0   \n",
       "75%    3061.570000  2539.440000  2218.875000  1588.946675   1.526675  100.0   \n",
       "max    3120.680000  2693.200000  2270.255600  1997.378200   1.788900  100.0   \n",
       "\n",
       "                6          7          8          9    ...             581  \\\n",
       "count   60.000000  60.000000  60.000000  60.000000    ...       60.000000   \n",
       "mean   101.953260   0.122528   1.488062  -0.001887    ...       49.289808   \n",
       "std      3.422802   0.001985   0.063448   0.016778    ...       64.462372   \n",
       "min     93.196700   0.118800   1.316700  -0.036200    ...        0.000000   \n",
       "25%     99.220000   0.121000   1.450050  -0.014000    ...        0.000000   \n",
       "50%    102.297200   0.122200   1.487950  -0.001950    ...       32.414300   \n",
       "75%    104.089200   0.124000   1.537025   0.007775    ...       72.033700   \n",
       "max    111.344400   0.127600   1.613800   0.042800    ...      294.625100   \n",
       "\n",
       "             582        583        584        585        586        587  \\\n",
       "count  60.000000  60.000000  60.000000  60.000000  60.000000  60.000000   \n",
       "mean    0.500770   0.015740   0.003925   3.140043   0.021585   0.016847   \n",
       "std     0.003648   0.006223   0.001204   1.236937   0.011235   0.010627   \n",
       "min     0.492400   0.008300   0.002200   1.659300  -0.001200   0.004200   \n",
       "25%     0.498000   0.012175   0.003200   2.428300   0.013575   0.009950   \n",
       "50%     0.500750   0.014150   0.003550   2.840150   0.021650   0.013250   \n",
       "75%     0.503600   0.016650   0.004200   3.301300   0.028875   0.019575   \n",
       "max     0.508800   0.035000   0.007700   6.936800   0.048400   0.055600   \n",
       "\n",
       "             588         589  Pass/Fail  \n",
       "count  60.000000   60.000000  60.000000  \n",
       "mean    0.005233   87.074162  -0.766667  \n",
       "std     0.002947   79.852663   0.647464  \n",
       "min     0.001600    0.000000  -1.000000  \n",
       "25%     0.003200   40.108050  -1.000000  \n",
       "50%     0.004050   63.102900  -1.000000  \n",
       "75%     0.006150  111.603675  -1.000000  \n",
       "max     0.015000  474.081200   1.000000  \n",
       "\n",
       "[8 rows x 591 columns]"
      ]
     },
     "execution_count": 203,
     "metadata": {},
     "output_type": "execute_result"
    }
   ],
   "source": [
    "dfm.describe()"
   ]
  },
  {
   "cell_type": "code",
   "execution_count": 144,
   "metadata": {
    "collapsed": true
   },
   "outputs": [],
   "source": [
    "import matplotlib.pyplot as plt"
   ]
  },
  {
   "cell_type": "code",
   "execution_count": 147,
   "metadata": {},
   "outputs": [
    {
     "data": {
      "image/png": "[encoded data removed]",
      "text/plain": [
       "<Figure size 432x288 with 1 Axes>"
      ]
     },
     "metadata": {},
     "output_type": "display_data"
    },
    {
     "data": {
      "image/png": "[encoded data removed]",
      "text/plain": [
       "<Figure size 432x288 with 1 Axes>"
      ]
     },
     "metadata": {},
     "output_type": "display_data"
    }
   ],
   "source": [
    "# Create plot\n",
    "plt.figure()\n",
    "\n",
    "# Create plot title\n",
    "plt.title(\"Feature Importance\")\n",
    "\n",
    "# Add bars\n",
    "plt.bar(range(X.shape[1]), importances[indices])\n",
    "\n",
    "# Add feature names as x-axis labels\n",
    "#plt.xticks(range(X.shape[1]), names, rotation=90)\n",
    "\n",
    "# Show plot\n",
    "plt.show()"
   ]
  },
  {
   "cell_type": "code",
   "execution_count": 204,
   "metadata": {
    "collapsed": true
   },
   "outputs": [],
   "source": [
    "#Implementing LDA"
   ]
  },
  {
   "cell_type": "code",
   "execution_count": 205,
   "metadata": {},
   "outputs": [
    {
     "name": "stderr",
     "output_type": "stream",
     "text": [
      "E:\\Anaconda\\lib\\site-packages\\sklearn\\discriminant_analysis.py:387: UserWarning: Variables are collinear.\n",
      "  warnings.warn(\"Variables are collinear.\")\n"
     ]
    }
   ],
   "source": [
    "from sklearn.discriminant_analysis import LinearDiscriminantAnalysis as LDA\n",
    "\n",
    "lda = LDA(n_components=1)\n",
    "X_train_LDA = lda.fit_transform(X_train, y_train)\n",
    "X_test_LDA= lda.transform(X_test)"
   ]
  },
  {
   "cell_type": "code",
   "execution_count": 209,
   "metadata": {},
   "outputs": [
    {
     "name": "stdout",
     "output_type": "stream",
     "text": [
      "* 0.0019986629486083984 *\n",
      "* 0.944798301486 *\n"
     ]
    }
   ],
   "source": [
    "#This time we will use the dataset on which dimensionality reduction has been performed with the help of PCA\n",
    "start=time.time()\n",
    "lr.fit(X_test_LDA,y_test)\n",
    "end=time.time()\n",
    "print(\"*\",end-start,\"*\")\n",
    "print(\"*\",lr.score(X_test_LDA,y_test),\"*\")"
   ]
  },
  {
   "cell_type": "code",
   "execution_count": 210,
   "metadata": {
    "collapsed": true
   },
   "outputs": [],
   "source": [
    "#Inference drawn-LDA Performs better on reducing the time needed for the dataset"
   ]
  }
 ],
 "metadata": {
  "kernelspec": {
   "display_name": "Python 3",
   "language": "python",
   "name": "python3"
  },
  "language_info": {
   "codemirror_mode": {
    "name": "ipython",
    "version": 3
   },
   "file_extension": ".py",
   "mimetype": "text/x-python",
   "name": "python",
   "nbconvert_exporter": "python",
   "pygments_lexer": "ipython3",
   "version": "3.6.9"
  }
 },
 "nbformat": 4,
 "nbformat_minor": 2
}

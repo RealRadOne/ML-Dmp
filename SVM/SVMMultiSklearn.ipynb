{
 "cells": [
  {
   "cell_type": "code",
   "execution_count": 11,
   "metadata": {
    "collapsed": true
   },
   "outputs": [],
   "source": [
    "from sklearn import svm,datasets\n",
    "import numpy as np\n",
    "from sklearn.model_selection import train_test_split\n",
    "import matplotlib.pyplot as plt"
   ]
  },
  {
   "cell_type": "code",
   "execution_count": 12,
   "metadata": {
    "collapsed": true
   },
   "outputs": [],
   "source": [
    "iris=datasets.load_iris()\n",
    "#Iris has data in multiple classes thus used\n",
    "x=iris.data[:,0:2]\n",
    "#We can only deal with 2 features at once\n",
    "y=iris.target"
   ]
  },
  {
   "cell_type": "code",
   "execution_count": 13,
   "metadata": {
    "collapsed": true
   },
   "outputs": [],
   "source": [
    "x_train,x_test,y_train,y_test=train_test_split(x,y)"
   ]
  },
  {
   "cell_type": "code",
   "execution_count": 14,
   "metadata": {
    "scrolled": true
   },
   "outputs": [
    {
     "data": {
      "text/plain": [
       "SVC(C=1.0, cache_size=200, class_weight=None, coef0=0.0,\n",
       "  decision_function_shape=None, degree=3, gamma='auto', kernel='linear',\n",
       "  max_iter=-1, probability=False, random_state=None, shrinking=True,\n",
       "  tol=0.001, verbose=False)"
      ]
     },
     "execution_count": 14,
     "metadata": {},
     "output_type": "execute_result"
    }
   ],
   "source": [
    "clf=svm.SVC(kernel='linear')\n",
    "clf.fit(x_train,y_train)\n",
    "#We will be finding an optimal value of C\n",
    "#SVC uses one vs one scheme\n",
    "#Class_weight will be used if certain weightage is to be given to a particular class\n",
    "#For further info use:http://scikit-learn.org/stable/modules/generated/sklearn.svm.SVC.html"
   ]
  },
  {
   "cell_type": "code",
   "execution_count": 15,
   "metadata": {},
   "outputs": [
    {
     "data": {
      "text/plain": [
       "0.86842105263157898"
      ]
     },
     "execution_count": 15,
     "metadata": {},
     "output_type": "execute_result"
    }
   ],
   "source": [
    "clf.score(x_test,y_test)"
   ]
  },
  {
   "cell_type": "code",
   "execution_count": 17,
   "metadata": {
    "collapsed": true
   },
   "outputs": [],
   "source": [
    "#To plot the decision boundary\n",
    "def makegrid(x1,x2,h=0.02):\n",
    "    x1_min,x1_max=x1.min()-1,x1.max()+1\n",
    "    x2_min,x2_max=x2.min()-1,x2.max()+1\n",
    "    a=np.arange(x1_min,x1_max,h)\n",
    "    b=np.arange(x2_min,x2_max,h)\n",
    "    xx,yy=np.meshgrid(a,b)\n",
    "    #Replicates a and b mulitple times i.e creates all possible points\n",
    "    return xx,yy"
   ]
  },
  {
   "cell_type": "code",
   "execution_count": 18,
   "metadata": {
    "scrolled": true
   },
   "outputs": [
    {
     "data": {
      "text/plain": [
       "(array([[ 0.  ,  0.02,  0.04, ...,  3.94,  3.96,  3.98],\n",
       "        [ 0.  ,  0.02,  0.04, ...,  3.94,  3.96,  3.98],\n",
       "        [ 0.  ,  0.02,  0.04, ...,  3.94,  3.96,  3.98],\n",
       "        ..., \n",
       "        [ 0.  ,  0.02,  0.04, ...,  3.94,  3.96,  3.98],\n",
       "        [ 0.  ,  0.02,  0.04, ...,  3.94,  3.96,  3.98],\n",
       "        [ 0.  ,  0.02,  0.04, ...,  3.94,  3.96,  3.98]]),\n",
       " array([[ 4.  ,  4.  ,  4.  , ...,  4.  ,  4.  ,  4.  ],\n",
       "        [ 4.02,  4.02,  4.02, ...,  4.02,  4.02,  4.02],\n",
       "        [ 4.04,  4.04,  4.04, ...,  4.04,  4.04,  4.04],\n",
       "        ..., \n",
       "        [ 6.94,  6.94,  6.94, ...,  6.94,  6.94,  6.94],\n",
       "        [ 6.96,  6.96,  6.96, ...,  6.96,  6.96,  6.96],\n",
       "        [ 6.98,  6.98,  6.98, ...,  6.98,  6.98,  6.98]]))"
      ]
     },
     "execution_count": 18,
     "metadata": {},
     "output_type": "execute_result"
    }
   ],
   "source": [
    "x1=np.array([1,3])\n",
    "x2=np.array([5,6])\n",
    "makegrid(x1,x2)"
   ]
  },
  {
   "cell_type": "code",
   "execution_count": 19,
   "metadata": {},
   "outputs": [
    {
     "data": {
      "image/png": "[encoded data removed]",
      "text/plain": [
       "<matplotlib.figure.Figure at 0x1ed88e04dd8>"
      ]
     },
     "metadata": {},
     "output_type": "display_data"
    }
   ],
   "source": [
    "xx,yy=makegrid(x[:,0],x[:,1])\n",
    "predictions=clf.predict(np.c_[xx.ravel(),yy.ravel()])\n",
    "#Ravel converts the data to a huge 1D array\n",
    "plt.scatter(xx.ravel(),yy.ravel(),c=predictions)\n",
    "plt.show()"
   ]
  }
 ],
 "metadata": {
  "kernelspec": {
   "display_name": "Python 3",
   "language": "python",
   "name": "python3"
  },
  "language_info": {
   "codemirror_mode": {
    "name": "ipython",
    "version": 3
   },
   "file_extension": ".py",
   "mimetype": "text/x-python",
   "name": "python",
   "nbconvert_exporter": "python",
   "pygments_lexer": "ipython3",
   "version": "3.6.1"
  }
 },
 "nbformat": 4,
 "nbformat_minor": 2
}

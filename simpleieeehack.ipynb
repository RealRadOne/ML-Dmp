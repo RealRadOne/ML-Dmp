{
 "cells": [
  {
   "cell_type": "code",
   "execution_count": 1,
   "metadata": {
    "_cell_guid": "be05ed65-52c3-4531-8480-de4c8309512e",
    "_uuid": "66e715de-93dc-4ca1-b5af-2d22ebfa2262"
   },
   "outputs": [],
   "source": [
    "import numpy as np # linear algebra\n",
    "import pandas as pd # data processing, CSV file I/O (e.g. pd.read_csv)\n",
    "import seaborn as sns\n",
    "from sklearn import preprocessing\n",
    "from sklearn.linear_model import LogisticRegression\n",
    "from sklearn.tree import DecisionTreeClassifier\n",
    "from sklearn.model_selection import cross_val_score\n",
    "from sklearn.model_selection import train_test_split\n",
    "from sklearn.model_selection import TimeSeriesSplit\n",
    "from sklearn import metrics\n",
    "from sklearn.model_selection import TimeSeriesSplit\n",
    "from sklearn.model_selection import GroupKFold\n",
    "from sklearn.metrics import confusion_matrix\n",
    "from sklearn import model_selection  \n",
    "import lightgbm as lgb\n",
    "import time\n",
    "import matplotlib.patches as mpatches\n",
    "import matplotlib.pyplot as plt"
   ]
  },
  {
   "cell_type": "code",
   "execution_count": 2,
   "metadata": {},
   "outputs": [],
   "source": [
    "# Transaction CSVs\n",
    "train_identity= pd.read_csv(\"../input/ieee-fraud-detection/train_identity.csv\")\n",
    "train_transaction = pd.read_csv(\"../input/ieee-fraud-detection/train_transaction.csv\")\n",
    "test_transaction = pd.read_csv(\"../input/ieee-fraud-detection/test_transaction.csv\")\n",
    "test_identity= pd.read_csv(\"../input/ieee-fraud-detection/test_identity.csv\")"
   ]
  },
  {
   "cell_type": "code",
   "execution_count": 3,
   "metadata": {},
   "outputs": [],
   "source": [
    "train = pd.merge(train_transaction, train_identity, on='TransactionID', how='left')\n",
    "#Keep every row in the left dataframe.\n",
    "test  = pd.merge(test_transaction, test_identity, on='TransactionID', how='left')"
   ]
  },
  {
   "cell_type": "code",
   "execution_count": 4,
   "metadata": {},
   "outputs": [
    {
     "data": {
      "text/html": [
       "<div>\n",
       "<style scoped>\n",
       "    .dataframe tbody tr th:only-of-type {\n",
       "        vertical-align: middle;\n",
       "    }\n",
       "\n",
       "    .dataframe tbody tr th {\n",
       "        vertical-align: top;\n",
       "    }\n",
       "\n",
       "    .dataframe thead th {\n",
       "        text-align: right;\n",
       "    }\n",
       "</style>\n",
       "<table border=\"1\" class=\"dataframe\">\n",
       "  <thead>\n",
       "    <tr style=\"text-align: right;\">\n",
       "      <th></th>\n",
       "      <th>TransactionID</th>\n",
       "      <th>isFraud</th>\n",
       "      <th>TransactionDT</th>\n",
       "      <th>TransactionAmt</th>\n",
       "      <th>ProductCD</th>\n",
       "      <th>card1</th>\n",
       "      <th>card2</th>\n",
       "      <th>card3</th>\n",
       "      <th>card4</th>\n",
       "      <th>card5</th>\n",
       "      <th>...</th>\n",
       "      <th>id_31</th>\n",
       "      <th>id_32</th>\n",
       "      <th>id_33</th>\n",
       "      <th>id_34</th>\n",
       "      <th>id_35</th>\n",
       "      <th>id_36</th>\n",
       "      <th>id_37</th>\n",
       "      <th>id_38</th>\n",
       "      <th>DeviceType</th>\n",
       "      <th>DeviceInfo</th>\n",
       "    </tr>\n",
       "  </thead>\n",
       "  <tbody>\n",
       "    <tr>\n",
       "      <td>0</td>\n",
       "      <td>2987000</td>\n",
       "      <td>0</td>\n",
       "      <td>86400</td>\n",
       "      <td>68.5</td>\n",
       "      <td>W</td>\n",
       "      <td>13926</td>\n",
       "      <td>NaN</td>\n",
       "      <td>150.0</td>\n",
       "      <td>discover</td>\n",
       "      <td>142.0</td>\n",
       "      <td>...</td>\n",
       "      <td>NaN</td>\n",
       "      <td>NaN</td>\n",
       "      <td>NaN</td>\n",
       "      <td>NaN</td>\n",
       "      <td>NaN</td>\n",
       "      <td>NaN</td>\n",
       "      <td>NaN</td>\n",
       "      <td>NaN</td>\n",
       "      <td>NaN</td>\n",
       "      <td>NaN</td>\n",
       "    </tr>\n",
       "    <tr>\n",
       "      <td>1</td>\n",
       "      <td>2987001</td>\n",
       "      <td>0</td>\n",
       "      <td>86401</td>\n",
       "      <td>29.0</td>\n",
       "      <td>W</td>\n",
       "      <td>2755</td>\n",
       "      <td>404.0</td>\n",
       "      <td>150.0</td>\n",
       "      <td>mastercard</td>\n",
       "      <td>102.0</td>\n",
       "      <td>...</td>\n",
       "      <td>NaN</td>\n",
       "      <td>NaN</td>\n",
       "      <td>NaN</td>\n",
       "      <td>NaN</td>\n",
       "      <td>NaN</td>\n",
       "      <td>NaN</td>\n",
       "      <td>NaN</td>\n",
       "      <td>NaN</td>\n",
       "      <td>NaN</td>\n",
       "      <td>NaN</td>\n",
       "    </tr>\n",
       "    <tr>\n",
       "      <td>2</td>\n",
       "      <td>2987002</td>\n",
       "      <td>0</td>\n",
       "      <td>86469</td>\n",
       "      <td>59.0</td>\n",
       "      <td>W</td>\n",
       "      <td>4663</td>\n",
       "      <td>490.0</td>\n",
       "      <td>150.0</td>\n",
       "      <td>visa</td>\n",
       "      <td>166.0</td>\n",
       "      <td>...</td>\n",
       "      <td>NaN</td>\n",
       "      <td>NaN</td>\n",
       "      <td>NaN</td>\n",
       "      <td>NaN</td>\n",
       "      <td>NaN</td>\n",
       "      <td>NaN</td>\n",
       "      <td>NaN</td>\n",
       "      <td>NaN</td>\n",
       "      <td>NaN</td>\n",
       "      <td>NaN</td>\n",
       "    </tr>\n",
       "    <tr>\n",
       "      <td>3</td>\n",
       "      <td>2987003</td>\n",
       "      <td>0</td>\n",
       "      <td>86499</td>\n",
       "      <td>50.0</td>\n",
       "      <td>W</td>\n",
       "      <td>18132</td>\n",
       "      <td>567.0</td>\n",
       "      <td>150.0</td>\n",
       "      <td>mastercard</td>\n",
       "      <td>117.0</td>\n",
       "      <td>...</td>\n",
       "      <td>NaN</td>\n",
       "      <td>NaN</td>\n",
       "      <td>NaN</td>\n",
       "      <td>NaN</td>\n",
       "      <td>NaN</td>\n",
       "      <td>NaN</td>\n",
       "      <td>NaN</td>\n",
       "      <td>NaN</td>\n",
       "      <td>NaN</td>\n",
       "      <td>NaN</td>\n",
       "    </tr>\n",
       "    <tr>\n",
       "      <td>4</td>\n",
       "      <td>2987004</td>\n",
       "      <td>0</td>\n",
       "      <td>86506</td>\n",
       "      <td>50.0</td>\n",
       "      <td>H</td>\n",
       "      <td>4497</td>\n",
       "      <td>514.0</td>\n",
       "      <td>150.0</td>\n",
       "      <td>mastercard</td>\n",
       "      <td>102.0</td>\n",
       "      <td>...</td>\n",
       "      <td>samsung browser 6.2</td>\n",
       "      <td>32.0</td>\n",
       "      <td>2220x1080</td>\n",
       "      <td>match_status:2</td>\n",
       "      <td>T</td>\n",
       "      <td>F</td>\n",
       "      <td>T</td>\n",
       "      <td>T</td>\n",
       "      <td>mobile</td>\n",
       "      <td>SAMSUNG SM-G892A Build/NRD90M</td>\n",
       "    </tr>\n",
       "  </tbody>\n",
       "</table>\n",
       "<p>5 rows × 434 columns</p>\n",
       "</div>"
      ],
      "text/plain": [
       "   TransactionID  isFraud  TransactionDT  TransactionAmt ProductCD  card1  \\\n",
       "0        2987000        0          86400            68.5         W  13926   \n",
       "1        2987001        0          86401            29.0         W   2755   \n",
       "2        2987002        0          86469            59.0         W   4663   \n",
       "3        2987003        0          86499            50.0         W  18132   \n",
       "4        2987004        0          86506            50.0         H   4497   \n",
       "\n",
       "   card2  card3       card4  card5  ...                id_31  id_32  \\\n",
       "0    NaN  150.0    discover  142.0  ...                  NaN    NaN   \n",
       "1  404.0  150.0  mastercard  102.0  ...                  NaN    NaN   \n",
       "2  490.0  150.0        visa  166.0  ...                  NaN    NaN   \n",
       "3  567.0  150.0  mastercard  117.0  ...                  NaN    NaN   \n",
       "4  514.0  150.0  mastercard  102.0  ...  samsung browser 6.2   32.0   \n",
       "\n",
       "       id_33           id_34  id_35 id_36 id_37  id_38  DeviceType  \\\n",
       "0        NaN             NaN    NaN   NaN   NaN    NaN         NaN   \n",
       "1        NaN             NaN    NaN   NaN   NaN    NaN         NaN   \n",
       "2        NaN             NaN    NaN   NaN   NaN    NaN         NaN   \n",
       "3        NaN             NaN    NaN   NaN   NaN    NaN         NaN   \n",
       "4  2220x1080  match_status:2      T     F     T      T      mobile   \n",
       "\n",
       "                      DeviceInfo  \n",
       "0                            NaN  \n",
       "1                            NaN  \n",
       "2                            NaN  \n",
       "3                            NaN  \n",
       "4  SAMSUNG SM-G892A Build/NRD90M  \n",
       "\n",
       "[5 rows x 434 columns]"
      ]
     },
     "execution_count": 4,
     "metadata": {},
     "output_type": "execute_result"
    }
   ],
   "source": [
    "train.head()"
   ]
  },
  {
   "cell_type": "code",
   "execution_count": 5,
   "metadata": {},
   "outputs": [
    {
     "name": "stdout",
     "output_type": "stream",
     "text": [
      "(590540, 434)\n",
      "(506691, 433)\n"
     ]
    }
   ],
   "source": [
    "print(train.shape)\n",
    "print(test.shape)"
   ]
  },
  {
   "cell_type": "code",
   "execution_count": 6,
   "metadata": {},
   "outputs": [
    {
     "name": "stdout",
     "output_type": "stream",
     "text": [
      "Mem. usage decreased to 650.48 Mb (66.8% reduction)\n",
      "Mem. usage decreased to 565.37 Mb (66.3% reduction)\n"
     ]
    }
   ],
   "source": [
    "# This Step is done to reduce memory by conversion\n",
    "# convert it to the low memory to fit the RAM\n",
    "def reduce_mem_usage(df, verbose=True):\n",
    "    numerics = ['int16', 'int32', 'int64', 'float16', 'float32', 'float64']\n",
    "    start_mem = df.memory_usage().sum() / 1024**2    \n",
    "    for col in df.columns:\n",
    "        col_type = df[col].dtypes\n",
    "        if col_type in numerics:\n",
    "            c_min = df[col].min()\n",
    "            c_max = df[col].max()\n",
    "            #Downsizing \n",
    "            if str(col_type)[:3] == 'int':\n",
    "                if c_min > np.iinfo(np.int8).min and c_max < np.iinfo(np.int8).max:\n",
    "                    #iinfo-Machine limits for integer datatype\n",
    "                    df[col] = df[col].astype(np.int8)\n",
    "                    #Casting pandas object to a certain type-to int8,int16,int32 &int64 depending on size\n",
    "                elif c_min > np.iinfo(np.int16).min and c_max < np.iinfo(np.int16).max:\n",
    "                    df[col] = df[col].astype(np.int16)\n",
    "                elif c_min > np.iinfo(np.int32).min and c_max < np.iinfo(np.int32).max:\n",
    "                    df[col] = df[col].astype(np.int32)\n",
    "                elif c_min > np.iinfo(np.int64).min and c_max < np.iinfo(np.int64).max:\n",
    "                    df[col] = df[col].astype(np.int64)  \n",
    "            else:\n",
    "                if c_min > np.finfo(np.float16).min and c_max < np.finfo(np.float16).max:\n",
    "                    df[col] = df[col].astype(np.float16)\n",
    "                elif c_min > np.finfo(np.float32).min and c_max < np.finfo(np.float32).max:\n",
    "                    df[col] = df[col].astype(np.float32)\n",
    "                else:\n",
    "                    df[col] = df[col].astype(np.float64)    \n",
    "    end_mem = df.memory_usage().sum() / 1024**2\n",
    "    if verbose: print('Mem. usage decreased to {:5.2f} Mb ({:.1f}% reduction)'.format(end_mem, 100 * (start_mem - end_mem) / start_mem))\n",
    "    return df\n",
    "# Using  above function to reduce memory usage for Train test df\n",
    "train_df=reduce_mem_usage(train)\n",
    "test_df=reduce_mem_usage(test)"
   ]
  },
  {
   "cell_type": "code",
   "execution_count": 7,
   "metadata": {},
   "outputs": [
    {
     "name": "stdout",
     "output_type": "stream",
     "text": [
      "Train shape:  (590540, 434)\n",
      "Test shape: (506691, 433)\n"
     ]
    }
   ],
   "source": [
    "print(\"Train shape: \", train.shape)\n",
    "print(\"Test shape:\", test.shape)"
   ]
  },
  {
   "cell_type": "code",
   "execution_count": 8,
   "metadata": {},
   "outputs": [
    {
     "name": "stdout",
     "output_type": "stream",
     "text": [
      "Training set:\n",
      "Feature 'ProductCD' has 5 categories\n",
      "Feature 'card4' has 5 categories\n",
      "Feature 'card6' has 5 categories\n",
      "Feature 'P_emaildomain' has 60 categories\n",
      "Feature 'R_emaildomain' has 61 categories\n",
      "Feature 'M1' has 3 categories\n",
      "Feature 'M2' has 3 categories\n",
      "Feature 'M3' has 3 categories\n",
      "Feature 'M4' has 4 categories\n",
      "Feature 'M5' has 3 categories\n",
      "Feature 'M6' has 3 categories\n",
      "Feature 'M7' has 3 categories\n",
      "Feature 'M8' has 3 categories\n",
      "Feature 'M9' has 3 categories\n",
      "Feature 'id_12' has 3 categories\n",
      "Feature 'id_15' has 4 categories\n",
      "Feature 'id_16' has 3 categories\n",
      "Feature 'id_23' has 4 categories\n",
      "Feature 'id_27' has 3 categories\n",
      "Feature 'id_28' has 3 categories\n",
      "Feature 'id_29' has 3 categories\n",
      "Feature 'id_30' has 76 categories\n",
      "Feature 'id_31' has 131 categories\n",
      "Feature 'id_33' has 261 categories\n",
      "Feature 'id_34' has 5 categories\n",
      "Feature 'id_35' has 3 categories\n",
      "Feature 'id_36' has 3 categories\n",
      "Feature 'id_37' has 3 categories\n",
      "Feature 'id_38' has 3 categories\n",
      "Feature 'DeviceType' has 3 categories\n",
      "Feature 'DeviceInfo' has 1787 categories\n",
      "****************\n",
      "Test set:\n",
      "Feature 'ProductCD' has 5 categories\n",
      "Feature 'card4' has 5 categories\n",
      "Feature 'card6' has 4 categories\n",
      "Feature 'P_emaildomain' has 61 categories\n",
      "Feature 'R_emaildomain' has 61 categories\n",
      "Feature 'M1' has 3 categories\n",
      "Feature 'M2' has 3 categories\n",
      "Feature 'M3' has 3 categories\n",
      "Feature 'M4' has 4 categories\n",
      "Feature 'M5' has 3 categories\n",
      "Feature 'M6' has 3 categories\n",
      "Feature 'M7' has 3 categories\n",
      "Feature 'M8' has 3 categories\n",
      "Feature 'M9' has 3 categories\n",
      "Feature 'id_12' has 3 categories\n",
      "Feature 'id_15' has 4 categories\n",
      "Feature 'id_16' has 3 categories\n",
      "Feature 'id_23' has 4 categories\n",
      "Feature 'id_27' has 3 categories\n",
      "Feature 'id_28' has 3 categories\n",
      "Feature 'id_29' has 3 categories\n",
      "Feature 'id_30' has 87 categories\n",
      "Feature 'id_31' has 136 categories\n",
      "Feature 'id_33' has 391 categories\n",
      "Feature 'id_34' has 3 categories\n",
      "Feature 'id_35' has 3 categories\n",
      "Feature 'id_36' has 3 categories\n",
      "Feature 'id_37' has 3 categories\n",
      "Feature 'id_38' has 3 categories\n",
      "Feature 'DeviceType' has 3 categories\n",
      "Feature 'DeviceInfo' has 2227 categories\n"
     ]
    }
   ],
   "source": [
    "# Explore Categorical features\n",
    "print('Training set:')\n",
    "for col_name in train_df.columns:\n",
    "    if train_df[col_name].dtypes == 'object' :\n",
    "        unique_cat = len(train_df[col_name].unique())\n",
    "        print(\"Feature '{col_name}' has {unique_cat} categories\".format(col_name=col_name, unique_cat=unique_cat))\n",
    "\n",
    "print(\"****************\")\n",
    "    \n",
    "print('Test set:')\n",
    "for col_name in test_df.columns:\n",
    "    if test_df[col_name].dtypes == 'object' :\n",
    "        unique_cat = len(test_df[col_name].unique())\n",
    "        print(\"Feature '{col_name}' has {unique_cat} categories\".format(col_name=col_name, unique_cat=unique_cat))"
   ]
  },
  {
   "cell_type": "code",
   "execution_count": 9,
   "metadata": {},
   "outputs": [
    {
     "data": {
      "text/plain": [
       "['ProductCD',\n",
       " 'card4',\n",
       " 'card6',\n",
       " 'P_emaildomain',\n",
       " 'R_emaildomain',\n",
       " 'M1',\n",
       " 'M2',\n",
       " 'M3',\n",
       " 'M4',\n",
       " 'M5',\n",
       " 'M6',\n",
       " 'M7',\n",
       " 'M8',\n",
       " 'M9',\n",
       " 'id_12',\n",
       " 'id_15',\n",
       " 'id_16',\n",
       " 'id_23',\n",
       " 'id_27',\n",
       " 'id_28',\n",
       " 'id_29',\n",
       " 'id_30',\n",
       " 'id_31',\n",
       " 'id_33',\n",
       " 'id_34',\n",
       " 'id_35',\n",
       " 'id_36',\n",
       " 'id_37',\n",
       " 'id_38',\n",
       " 'DeviceType',\n",
       " 'DeviceInfo']"
      ]
     },
     "execution_count": 9,
     "metadata": {},
     "output_type": "execute_result"
    }
   ],
   "source": [
    "cat_cols = [col for col in train_df.columns if train_df[col].dtype in ['object']]\n",
    "cat_cols"
   ]
  },
  {
   "cell_type": "code",
   "execution_count": 10,
   "metadata": {},
   "outputs": [
    {
     "data": {
      "text/plain": [
       "Index(['V1', 'V2', 'V3', 'V4', 'V5', 'V6', 'V7', 'V8', 'V9', 'V10',\n",
       "       ...\n",
       "       'V330', 'V331', 'V332', 'V333', 'V334', 'V335', 'V336', 'V337', 'V338',\n",
       "       'V339'],\n",
       "      dtype='object', length=339)"
      ]
     },
     "execution_count": 10,
     "metadata": {},
     "output_type": "execute_result"
    }
   ],
   "source": [
    "v_feat = train_df.columns[55:394]\n",
    "v_feat"
   ]
  },
  {
   "cell_type": "code",
   "execution_count": 11,
   "metadata": {},
   "outputs": [],
   "source": [
    "v_test_feat=test_df.columns[54:393]"
   ]
  },
  {
   "cell_type": "code",
   "execution_count": 12,
   "metadata": {},
   "outputs": [
    {
     "data": {
      "text/plain": [
       "Index(['V1', 'V2', 'V3', 'V4', 'V5', 'V6', 'V7', 'V8', 'V9', 'V10',\n",
       "       ...\n",
       "       'V330', 'V331', 'V332', 'V333', 'V334', 'V335', 'V336', 'V337', 'V338',\n",
       "       'V339'],\n",
       "      dtype='object', length=339)"
      ]
     },
     "execution_count": 12,
     "metadata": {},
     "output_type": "execute_result"
    }
   ],
   "source": [
    "v_test_feat"
   ]
  },
  {
   "cell_type": "code",
   "execution_count": 13,
   "metadata": {},
   "outputs": [],
   "source": [
    "from sklearn.preprocessing import minmax_scale\n",
    "from sklearn.decomposition import PCA"
   ]
  },
  {
   "cell_type": "code",
   "execution_count": 14,
   "metadata": {},
   "outputs": [],
   "source": [
    "#Replacing NULL values\n",
    "for col in v_feat:\n",
    "    train_df[col].fillna((train_df[col].min() - 2), inplace=True)\n",
    "    train_df[col] = (minmax_scale(train_df[col], feature_range=(0,1)))"
   ]
  },
  {
   "cell_type": "code",
   "execution_count": 15,
   "metadata": {},
   "outputs": [],
   "source": [
    "pca = PCA(n_components=35,random_state=5)\n",
    "principalComponents = pca.fit_transform(train_df[v_feat])"
   ]
  },
  {
   "cell_type": "code",
   "execution_count": 16,
   "metadata": {},
   "outputs": [
    {
     "data": {
      "text/plain": [
       "array([[-0.15733006,  0.91926589, -0.84373295, ...,  0.06969809,\n",
       "         0.01908068,  0.04523338],\n",
       "       [-0.08643819, -0.8001318 , -0.15224688, ...,  0.00823132,\n",
       "         0.00258103, -0.00395146],\n",
       "       [-0.80084342,  0.31691703,  0.27315972, ..., -0.00213845,\n",
       "        -0.00311002,  0.00740497],\n",
       "       ...,\n",
       "       [-0.93234751,  0.35644447,  0.29727175, ...,  0.00258769,\n",
       "        -0.00140363,  0.00789809],\n",
       "       [-0.88923966,  0.32724483,  0.28907554, ..., -0.00187598,\n",
       "        -0.01822701,  0.05123707],\n",
       "       [-1.06408158,  0.33512523,  0.34209797, ...,  0.01541071,\n",
       "        -0.02576041,  0.01007628]])"
      ]
     },
     "execution_count": 16,
     "metadata": {},
     "output_type": "execute_result"
    }
   ],
   "source": [
    "principalComponents"
   ]
  },
  {
   "cell_type": "code",
   "execution_count": 17,
   "metadata": {},
   "outputs": [],
   "source": [
    "principalDf = pd.DataFrame(principalComponents)"
   ]
  },
  {
   "cell_type": "code",
   "execution_count": 18,
   "metadata": {},
   "outputs": [
    {
     "data": {
      "text/html": [
       "<div>\n",
       "<style scoped>\n",
       "    .dataframe tbody tr th:only-of-type {\n",
       "        vertical-align: middle;\n",
       "    }\n",
       "\n",
       "    .dataframe tbody tr th {\n",
       "        vertical-align: top;\n",
       "    }\n",
       "\n",
       "    .dataframe thead th {\n",
       "        text-align: right;\n",
       "    }\n",
       "</style>\n",
       "<table border=\"1\" class=\"dataframe\">\n",
       "  <thead>\n",
       "    <tr style=\"text-align: right;\">\n",
       "      <th></th>\n",
       "      <th>0</th>\n",
       "      <th>1</th>\n",
       "      <th>2</th>\n",
       "      <th>3</th>\n",
       "      <th>4</th>\n",
       "      <th>5</th>\n",
       "      <th>6</th>\n",
       "      <th>7</th>\n",
       "      <th>8</th>\n",
       "      <th>9</th>\n",
       "      <th>...</th>\n",
       "      <th>25</th>\n",
       "      <th>26</th>\n",
       "      <th>27</th>\n",
       "      <th>28</th>\n",
       "      <th>29</th>\n",
       "      <th>30</th>\n",
       "      <th>31</th>\n",
       "      <th>32</th>\n",
       "      <th>33</th>\n",
       "      <th>34</th>\n",
       "    </tr>\n",
       "  </thead>\n",
       "  <tbody>\n",
       "    <tr>\n",
       "      <td>0</td>\n",
       "      <td>-0.157330</td>\n",
       "      <td>0.919266</td>\n",
       "      <td>-0.843733</td>\n",
       "      <td>0.307989</td>\n",
       "      <td>-0.089398</td>\n",
       "      <td>0.003048</td>\n",
       "      <td>-0.020015</td>\n",
       "      <td>-0.187605</td>\n",
       "      <td>0.038161</td>\n",
       "      <td>0.002644</td>\n",
       "      <td>...</td>\n",
       "      <td>-0.007287</td>\n",
       "      <td>0.004137</td>\n",
       "      <td>-0.043361</td>\n",
       "      <td>0.008989</td>\n",
       "      <td>-0.004525</td>\n",
       "      <td>-0.049473</td>\n",
       "      <td>-0.021763</td>\n",
       "      <td>0.069698</td>\n",
       "      <td>0.019081</td>\n",
       "      <td>0.045233</td>\n",
       "    </tr>\n",
       "    <tr>\n",
       "      <td>1</td>\n",
       "      <td>-0.086438</td>\n",
       "      <td>-0.800132</td>\n",
       "      <td>-0.152247</td>\n",
       "      <td>-0.363368</td>\n",
       "      <td>-0.101824</td>\n",
       "      <td>-0.002264</td>\n",
       "      <td>0.032351</td>\n",
       "      <td>-0.068962</td>\n",
       "      <td>0.040102</td>\n",
       "      <td>-0.180065</td>\n",
       "      <td>...</td>\n",
       "      <td>0.003692</td>\n",
       "      <td>0.001593</td>\n",
       "      <td>0.001673</td>\n",
       "      <td>-0.003802</td>\n",
       "      <td>-0.003731</td>\n",
       "      <td>-0.024195</td>\n",
       "      <td>-0.002311</td>\n",
       "      <td>0.008231</td>\n",
       "      <td>0.002581</td>\n",
       "      <td>-0.003951</td>\n",
       "    </tr>\n",
       "    <tr>\n",
       "      <td>2</td>\n",
       "      <td>-0.800843</td>\n",
       "      <td>0.316917</td>\n",
       "      <td>0.273160</td>\n",
       "      <td>-0.026327</td>\n",
       "      <td>0.043152</td>\n",
       "      <td>-0.008078</td>\n",
       "      <td>-0.039239</td>\n",
       "      <td>-0.217008</td>\n",
       "      <td>0.017641</td>\n",
       "      <td>0.033532</td>\n",
       "      <td>...</td>\n",
       "      <td>0.001721</td>\n",
       "      <td>0.003934</td>\n",
       "      <td>0.002866</td>\n",
       "      <td>-0.019697</td>\n",
       "      <td>-0.002890</td>\n",
       "      <td>-0.002079</td>\n",
       "      <td>0.005757</td>\n",
       "      <td>-0.002138</td>\n",
       "      <td>-0.003110</td>\n",
       "      <td>0.007405</td>\n",
       "    </tr>\n",
       "    <tr>\n",
       "      <td>3</td>\n",
       "      <td>-0.237308</td>\n",
       "      <td>-0.811481</td>\n",
       "      <td>-0.123694</td>\n",
       "      <td>-0.423546</td>\n",
       "      <td>-0.067284</td>\n",
       "      <td>0.025050</td>\n",
       "      <td>0.110473</td>\n",
       "      <td>-0.253713</td>\n",
       "      <td>0.004768</td>\n",
       "      <td>0.170437</td>\n",
       "      <td>...</td>\n",
       "      <td>0.025665</td>\n",
       "      <td>0.003899</td>\n",
       "      <td>0.003744</td>\n",
       "      <td>0.026352</td>\n",
       "      <td>-0.041906</td>\n",
       "      <td>0.009657</td>\n",
       "      <td>0.006851</td>\n",
       "      <td>0.008940</td>\n",
       "      <td>0.011320</td>\n",
       "      <td>0.006865</td>\n",
       "    </tr>\n",
       "    <tr>\n",
       "      <td>4</td>\n",
       "      <td>2.903822</td>\n",
       "      <td>0.380081</td>\n",
       "      <td>0.480550</td>\n",
       "      <td>-0.009628</td>\n",
       "      <td>-0.171648</td>\n",
       "      <td>1.170917</td>\n",
       "      <td>-0.178348</td>\n",
       "      <td>0.004477</td>\n",
       "      <td>0.043780</td>\n",
       "      <td>-0.001622</td>\n",
       "      <td>...</td>\n",
       "      <td>0.014021</td>\n",
       "      <td>0.013005</td>\n",
       "      <td>0.002317</td>\n",
       "      <td>0.014822</td>\n",
       "      <td>-0.000498</td>\n",
       "      <td>0.001924</td>\n",
       "      <td>0.006876</td>\n",
       "      <td>-0.008638</td>\n",
       "      <td>0.015000</td>\n",
       "      <td>0.105150</td>\n",
       "    </tr>\n",
       "  </tbody>\n",
       "</table>\n",
       "<p>5 rows × 35 columns</p>\n",
       "</div>"
      ],
      "text/plain": [
       "         0         1         2         3         4         5         6   \\\n",
       "0 -0.157330  0.919266 -0.843733  0.307989 -0.089398  0.003048 -0.020015   \n",
       "1 -0.086438 -0.800132 -0.152247 -0.363368 -0.101824 -0.002264  0.032351   \n",
       "2 -0.800843  0.316917  0.273160 -0.026327  0.043152 -0.008078 -0.039239   \n",
       "3 -0.237308 -0.811481 -0.123694 -0.423546 -0.067284  0.025050  0.110473   \n",
       "4  2.903822  0.380081  0.480550 -0.009628 -0.171648  1.170917 -0.178348   \n",
       "\n",
       "         7         8         9   ...        25        26        27        28  \\\n",
       "0 -0.187605  0.038161  0.002644  ... -0.007287  0.004137 -0.043361  0.008989   \n",
       "1 -0.068962  0.040102 -0.180065  ...  0.003692  0.001593  0.001673 -0.003802   \n",
       "2 -0.217008  0.017641  0.033532  ...  0.001721  0.003934  0.002866 -0.019697   \n",
       "3 -0.253713  0.004768  0.170437  ...  0.025665  0.003899  0.003744  0.026352   \n",
       "4  0.004477  0.043780 -0.001622  ...  0.014021  0.013005  0.002317  0.014822   \n",
       "\n",
       "         29        30        31        32        33        34  \n",
       "0 -0.004525 -0.049473 -0.021763  0.069698  0.019081  0.045233  \n",
       "1 -0.003731 -0.024195 -0.002311  0.008231  0.002581 -0.003951  \n",
       "2 -0.002890 -0.002079  0.005757 -0.002138 -0.003110  0.007405  \n",
       "3 -0.041906  0.009657  0.006851  0.008940  0.011320  0.006865  \n",
       "4 -0.000498  0.001924  0.006876 -0.008638  0.015000  0.105150  \n",
       "\n",
       "[5 rows x 35 columns]"
      ]
     },
     "execution_count": 18,
     "metadata": {},
     "output_type": "execute_result"
    }
   ],
   "source": [
    "principalDf.head()"
   ]
  },
  {
   "cell_type": "code",
   "execution_count": 19,
   "metadata": {},
   "outputs": [],
   "source": [
    "train_df.drop(v_feat,axis=1,inplace=True)"
   ]
  },
  {
   "cell_type": "code",
   "execution_count": 20,
   "metadata": {},
   "outputs": [
    {
     "data": {
      "text/plain": [
       "(590540, 95)"
      ]
     },
     "execution_count": 20,
     "metadata": {},
     "output_type": "execute_result"
    }
   ],
   "source": [
    "train_df.shape"
   ]
  },
  {
   "cell_type": "code",
   "execution_count": 21,
   "metadata": {},
   "outputs": [],
   "source": [
    "principalDf.rename(columns=lambda x: str('V')+str(x), inplace=True)"
   ]
  },
  {
   "cell_type": "code",
   "execution_count": 22,
   "metadata": {},
   "outputs": [
    {
     "data": {
      "text/html": [
       "<div>\n",
       "<style scoped>\n",
       "    .dataframe tbody tr th:only-of-type {\n",
       "        vertical-align: middle;\n",
       "    }\n",
       "\n",
       "    .dataframe tbody tr th {\n",
       "        vertical-align: top;\n",
       "    }\n",
       "\n",
       "    .dataframe thead th {\n",
       "        text-align: right;\n",
       "    }\n",
       "</style>\n",
       "<table border=\"1\" class=\"dataframe\">\n",
       "  <thead>\n",
       "    <tr style=\"text-align: right;\">\n",
       "      <th></th>\n",
       "      <th>V0</th>\n",
       "      <th>V1</th>\n",
       "      <th>V2</th>\n",
       "      <th>V3</th>\n",
       "      <th>V4</th>\n",
       "      <th>V5</th>\n",
       "      <th>V6</th>\n",
       "      <th>V7</th>\n",
       "      <th>V8</th>\n",
       "      <th>V9</th>\n",
       "      <th>...</th>\n",
       "      <th>V25</th>\n",
       "      <th>V26</th>\n",
       "      <th>V27</th>\n",
       "      <th>V28</th>\n",
       "      <th>V29</th>\n",
       "      <th>V30</th>\n",
       "      <th>V31</th>\n",
       "      <th>V32</th>\n",
       "      <th>V33</th>\n",
       "      <th>V34</th>\n",
       "    </tr>\n",
       "  </thead>\n",
       "  <tbody>\n",
       "    <tr>\n",
       "      <td>0</td>\n",
       "      <td>-0.157330</td>\n",
       "      <td>0.919266</td>\n",
       "      <td>-0.843733</td>\n",
       "      <td>0.307989</td>\n",
       "      <td>-0.089398</td>\n",
       "      <td>0.003048</td>\n",
       "      <td>-0.020015</td>\n",
       "      <td>-0.187605</td>\n",
       "      <td>0.038161</td>\n",
       "      <td>0.002644</td>\n",
       "      <td>...</td>\n",
       "      <td>-0.007287</td>\n",
       "      <td>0.004137</td>\n",
       "      <td>-0.043361</td>\n",
       "      <td>0.008989</td>\n",
       "      <td>-0.004525</td>\n",
       "      <td>-0.049473</td>\n",
       "      <td>-0.021763</td>\n",
       "      <td>0.069698</td>\n",
       "      <td>0.019081</td>\n",
       "      <td>0.045233</td>\n",
       "    </tr>\n",
       "    <tr>\n",
       "      <td>1</td>\n",
       "      <td>-0.086438</td>\n",
       "      <td>-0.800132</td>\n",
       "      <td>-0.152247</td>\n",
       "      <td>-0.363368</td>\n",
       "      <td>-0.101824</td>\n",
       "      <td>-0.002264</td>\n",
       "      <td>0.032351</td>\n",
       "      <td>-0.068962</td>\n",
       "      <td>0.040102</td>\n",
       "      <td>-0.180065</td>\n",
       "      <td>...</td>\n",
       "      <td>0.003692</td>\n",
       "      <td>0.001593</td>\n",
       "      <td>0.001673</td>\n",
       "      <td>-0.003802</td>\n",
       "      <td>-0.003731</td>\n",
       "      <td>-0.024195</td>\n",
       "      <td>-0.002311</td>\n",
       "      <td>0.008231</td>\n",
       "      <td>0.002581</td>\n",
       "      <td>-0.003951</td>\n",
       "    </tr>\n",
       "    <tr>\n",
       "      <td>2</td>\n",
       "      <td>-0.800843</td>\n",
       "      <td>0.316917</td>\n",
       "      <td>0.273160</td>\n",
       "      <td>-0.026327</td>\n",
       "      <td>0.043152</td>\n",
       "      <td>-0.008078</td>\n",
       "      <td>-0.039239</td>\n",
       "      <td>-0.217008</td>\n",
       "      <td>0.017641</td>\n",
       "      <td>0.033532</td>\n",
       "      <td>...</td>\n",
       "      <td>0.001721</td>\n",
       "      <td>0.003934</td>\n",
       "      <td>0.002866</td>\n",
       "      <td>-0.019697</td>\n",
       "      <td>-0.002890</td>\n",
       "      <td>-0.002079</td>\n",
       "      <td>0.005757</td>\n",
       "      <td>-0.002138</td>\n",
       "      <td>-0.003110</td>\n",
       "      <td>0.007405</td>\n",
       "    </tr>\n",
       "    <tr>\n",
       "      <td>3</td>\n",
       "      <td>-0.237308</td>\n",
       "      <td>-0.811481</td>\n",
       "      <td>-0.123694</td>\n",
       "      <td>-0.423546</td>\n",
       "      <td>-0.067284</td>\n",
       "      <td>0.025050</td>\n",
       "      <td>0.110473</td>\n",
       "      <td>-0.253713</td>\n",
       "      <td>0.004768</td>\n",
       "      <td>0.170437</td>\n",
       "      <td>...</td>\n",
       "      <td>0.025665</td>\n",
       "      <td>0.003899</td>\n",
       "      <td>0.003744</td>\n",
       "      <td>0.026352</td>\n",
       "      <td>-0.041906</td>\n",
       "      <td>0.009657</td>\n",
       "      <td>0.006851</td>\n",
       "      <td>0.008940</td>\n",
       "      <td>0.011320</td>\n",
       "      <td>0.006865</td>\n",
       "    </tr>\n",
       "    <tr>\n",
       "      <td>4</td>\n",
       "      <td>2.903822</td>\n",
       "      <td>0.380081</td>\n",
       "      <td>0.480550</td>\n",
       "      <td>-0.009628</td>\n",
       "      <td>-0.171648</td>\n",
       "      <td>1.170917</td>\n",
       "      <td>-0.178348</td>\n",
       "      <td>0.004477</td>\n",
       "      <td>0.043780</td>\n",
       "      <td>-0.001622</td>\n",
       "      <td>...</td>\n",
       "      <td>0.014021</td>\n",
       "      <td>0.013005</td>\n",
       "      <td>0.002317</td>\n",
       "      <td>0.014822</td>\n",
       "      <td>-0.000498</td>\n",
       "      <td>0.001924</td>\n",
       "      <td>0.006876</td>\n",
       "      <td>-0.008638</td>\n",
       "      <td>0.015000</td>\n",
       "      <td>0.105150</td>\n",
       "    </tr>\n",
       "  </tbody>\n",
       "</table>\n",
       "<p>5 rows × 35 columns</p>\n",
       "</div>"
      ],
      "text/plain": [
       "         V0        V1        V2        V3        V4        V5        V6  \\\n",
       "0 -0.157330  0.919266 -0.843733  0.307989 -0.089398  0.003048 -0.020015   \n",
       "1 -0.086438 -0.800132 -0.152247 -0.363368 -0.101824 -0.002264  0.032351   \n",
       "2 -0.800843  0.316917  0.273160 -0.026327  0.043152 -0.008078 -0.039239   \n",
       "3 -0.237308 -0.811481 -0.123694 -0.423546 -0.067284  0.025050  0.110473   \n",
       "4  2.903822  0.380081  0.480550 -0.009628 -0.171648  1.170917 -0.178348   \n",
       "\n",
       "         V7        V8        V9  ...       V25       V26       V27       V28  \\\n",
       "0 -0.187605  0.038161  0.002644  ... -0.007287  0.004137 -0.043361  0.008989   \n",
       "1 -0.068962  0.040102 -0.180065  ...  0.003692  0.001593  0.001673 -0.003802   \n",
       "2 -0.217008  0.017641  0.033532  ...  0.001721  0.003934  0.002866 -0.019697   \n",
       "3 -0.253713  0.004768  0.170437  ...  0.025665  0.003899  0.003744  0.026352   \n",
       "4  0.004477  0.043780 -0.001622  ...  0.014021  0.013005  0.002317  0.014822   \n",
       "\n",
       "        V29       V30       V31       V32       V33       V34  \n",
       "0 -0.004525 -0.049473 -0.021763  0.069698  0.019081  0.045233  \n",
       "1 -0.003731 -0.024195 -0.002311  0.008231  0.002581 -0.003951  \n",
       "2 -0.002890 -0.002079  0.005757 -0.002138 -0.003110  0.007405  \n",
       "3 -0.041906  0.009657  0.006851  0.008940  0.011320  0.006865  \n",
       "4 -0.000498  0.001924  0.006876 -0.008638  0.015000  0.105150  \n",
       "\n",
       "[5 rows x 35 columns]"
      ]
     },
     "execution_count": 22,
     "metadata": {},
     "output_type": "execute_result"
    }
   ],
   "source": [
    "principalDf.head()"
   ]
  },
  {
   "cell_type": "code",
   "execution_count": 23,
   "metadata": {},
   "outputs": [],
   "source": [
    " train_df = pd.concat([train_df, principalDf], axis=1)"
   ]
  },
  {
   "cell_type": "code",
   "execution_count": 24,
   "metadata": {},
   "outputs": [
    {
     "data": {
      "text/plain": [
       "(590540, 130)"
      ]
     },
     "execution_count": 24,
     "metadata": {},
     "output_type": "execute_result"
    }
   ],
   "source": [
    "train_df.shape"
   ]
  },
  {
   "cell_type": "code",
   "execution_count": 25,
   "metadata": {},
   "outputs": [],
   "source": [
    "#Replacing NULL values for test data\n",
    "for col in v_test_feat:\n",
    "    test_df[col].fillna((test_df[col].min() - 2), inplace=True)\n",
    "    test_df[col] = (minmax_scale(test_df[col], feature_range=(0,1)))"
   ]
  },
  {
   "cell_type": "code",
   "execution_count": 26,
   "metadata": {},
   "outputs": [],
   "source": [
    "pca = PCA(n_components=35,random_state=5)\n",
    "pComponents = pca.fit_transform(test_df[v_test_feat])"
   ]
  },
  {
   "cell_type": "code",
   "execution_count": 27,
   "metadata": {},
   "outputs": [],
   "source": [
    "test_principalDf = pd.DataFrame(pComponents)"
   ]
  },
  {
   "cell_type": "code",
   "execution_count": 28,
   "metadata": {},
   "outputs": [],
   "source": [
    "test_df.drop(v_test_feat,axis=1,inplace=True)"
   ]
  },
  {
   "cell_type": "code",
   "execution_count": 29,
   "metadata": {},
   "outputs": [],
   "source": [
    "test_principalDf.rename(columns=lambda x: str('V')+str(x), inplace=True)"
   ]
  },
  {
   "cell_type": "code",
   "execution_count": 30,
   "metadata": {},
   "outputs": [],
   "source": [
    " test_df = pd.concat([test_df, test_principalDf], axis=1)"
   ]
  },
  {
   "cell_type": "code",
   "execution_count": 31,
   "metadata": {},
   "outputs": [
    {
     "data": {
      "text/plain": [
       "(506691, 129)"
      ]
     },
     "execution_count": 31,
     "metadata": {},
     "output_type": "execute_result"
    }
   ],
   "source": [
    "test_df.shape"
   ]
  },
  {
   "cell_type": "code",
   "execution_count": 32,
   "metadata": {},
   "outputs": [
    {
     "data": {
      "text/plain": [
       "count      118666\n",
       "unique       1786\n",
       "top       Windows\n",
       "freq        47722\n",
       "Name: DeviceInfo, dtype: object"
      ]
     },
     "execution_count": 32,
     "metadata": {},
     "output_type": "execute_result"
    }
   ],
   "source": [
    "train_df['DeviceInfo'].describe()"
   ]
  },
  {
   "cell_type": "code",
   "execution_count": 33,
   "metadata": {},
   "outputs": [],
   "source": [
    "#Frequency Table-CrossTab\n",
    "data_freq=pd.crosstab(index=train_df['DeviceInfo'], columns=\"count\")    "
   ]
  },
  {
   "cell_type": "code",
   "execution_count": 34,
   "metadata": {},
   "outputs": [],
   "source": [
    "data_freq=data_freq[data_freq['count']>350]"
   ]
  },
  {
   "cell_type": "code",
   "execution_count": 35,
   "metadata": {},
   "outputs": [
    {
     "data": {
      "text/plain": [
       "(10, 1)"
      ]
     },
     "execution_count": 35,
     "metadata": {},
     "output_type": "execute_result"
    }
   ],
   "source": [
    "data_freq.shape"
   ]
  },
  {
   "cell_type": "code",
   "execution_count": 36,
   "metadata": {},
   "outputs": [
    {
     "data": {
      "text/html": [
       "<div>\n",
       "<style scoped>\n",
       "    .dataframe tbody tr th:only-of-type {\n",
       "        vertical-align: middle;\n",
       "    }\n",
       "\n",
       "    .dataframe tbody tr th {\n",
       "        vertical-align: top;\n",
       "    }\n",
       "\n",
       "    .dataframe thead th {\n",
       "        text-align: right;\n",
       "    }\n",
       "</style>\n",
       "<table border=\"1\" class=\"dataframe\">\n",
       "  <thead>\n",
       "    <tr style=\"text-align: right;\">\n",
       "      <th>col_0</th>\n",
       "      <th>count</th>\n",
       "    </tr>\n",
       "    <tr>\n",
       "      <th>DeviceInfo</th>\n",
       "      <th></th>\n",
       "    </tr>\n",
       "  </thead>\n",
       "  <tbody>\n",
       "    <tr>\n",
       "      <td>MacOS</td>\n",
       "      <td>12573</td>\n",
       "    </tr>\n",
       "    <tr>\n",
       "      <td>SM-G531H Build/LMY48B</td>\n",
       "      <td>410</td>\n",
       "    </tr>\n",
       "    <tr>\n",
       "      <td>SM-G610M Build/MMB29K</td>\n",
       "      <td>461</td>\n",
       "    </tr>\n",
       "    <tr>\n",
       "      <td>SM-J700M Build/MMB29K</td>\n",
       "      <td>549</td>\n",
       "    </tr>\n",
       "    <tr>\n",
       "      <td>Trident/7.0</td>\n",
       "      <td>7440</td>\n",
       "    </tr>\n",
       "    <tr>\n",
       "      <td>Windows</td>\n",
       "      <td>47722</td>\n",
       "    </tr>\n",
       "    <tr>\n",
       "      <td>iOS Device</td>\n",
       "      <td>19782</td>\n",
       "    </tr>\n",
       "    <tr>\n",
       "      <td>rv:11.0</td>\n",
       "      <td>1901</td>\n",
       "    </tr>\n",
       "    <tr>\n",
       "      <td>rv:57.0</td>\n",
       "      <td>962</td>\n",
       "    </tr>\n",
       "    <tr>\n",
       "      <td>rv:59.0</td>\n",
       "      <td>362</td>\n",
       "    </tr>\n",
       "  </tbody>\n",
       "</table>\n",
       "</div>"
      ],
      "text/plain": [
       "col_0                  count\n",
       "DeviceInfo                  \n",
       "MacOS                  12573\n",
       "SM-G531H Build/LMY48B    410\n",
       "SM-G610M Build/MMB29K    461\n",
       "SM-J700M Build/MMB29K    549\n",
       "Trident/7.0             7440\n",
       "Windows                47722\n",
       "iOS Device             19782\n",
       "rv:11.0                 1901\n",
       "rv:57.0                  962\n",
       "rv:59.0                  362"
      ]
     },
     "execution_count": 36,
     "metadata": {},
     "output_type": "execute_result"
    }
   ],
   "source": [
    "data_freq"
   ]
  },
  {
   "cell_type": "code",
   "execution_count": 37,
   "metadata": {},
   "outputs": [],
   "source": [
    "def change_value_Dev_Info(x) :\n",
    "    if x in ['ALE-L23 Build/HuaweiALE-L23', 'MacOS', 'Trident/7.0' ,'Windows','iOS Device','rv:11.0\t','rv:57.0','rv:59.0','SM-G531H Build/LMY48B','SM-G610M Build/MMB29K','SM-J700M Build/MMB29K'] :\n",
    "        return 0\n",
    "    else :\n",
    "        return 1\n",
    "    \n",
    "train_df.loc[:,'DeviceInfo'] = train_df['DeviceInfo'].apply(lambda x : change_value_Dev_Info(x))\n",
    "test_df.loc[:,'DeviceInfo'] = test_df['DeviceInfo'].apply(lambda x : change_value_Dev_Info(x))"
   ]
  },
  {
   "cell_type": "code",
   "execution_count": 38,
   "metadata": {},
   "outputs": [
    {
     "name": "stdout",
     "output_type": "stream",
     "text": [
      "(590540, 130)\n",
      "(506691, 129)\n"
     ]
    }
   ],
   "source": [
    "print(train_df.shape)\n",
    "print(test_df.shape)"
   ]
  },
  {
   "cell_type": "code",
   "execution_count": 39,
   "metadata": {},
   "outputs": [],
   "source": [
    "def change_value_P_emaildomain(x) :\n",
    "    if x in ['gmail.com', 'icloud.com', 'mail.com' , 'outlook.es', 'protonmail.com'] :\n",
    "        return x\n",
    "    else :\n",
    "        return 'etc'\n",
    "    \n",
    "train_df.loc[:,'P_emaildomain'] = train_df['P_emaildomain'].apply(lambda x : change_value_P_emaildomain(x))\n",
    "test_df.loc[:,'P_emaildomain'] = test_df['P_emaildomain'].apply(lambda x : change_value_P_emaildomain(x))"
   ]
  },
  {
   "cell_type": "code",
   "execution_count": 40,
   "metadata": {},
   "outputs": [],
   "source": [
    "def change_value_R_emaildomain(x) :\n",
    "    if x in ['gmail.com', 'icloud.com', 'mail.com' , 'outlook.es', 'protonmail.com'] :\n",
    "        return x\n",
    "    else :\n",
    "        return 'etc'\n",
    "    \n",
    "train_df.loc[:,'R_emaildomain'] = train_df['R_emaildomain'].apply(lambda x : change_value_P_emaildomain(x))\n",
    "test_df.loc[:,'R_emaildomain'] = test_df['R_emaildomain'].apply(lambda x : change_value_P_emaildomain(x))"
   ]
  },
  {
   "cell_type": "code",
   "execution_count": 41,
   "metadata": {},
   "outputs": [],
   "source": [
    "data_news=pd.crosstab(index=train_df['DeviceType'], columns=\"count\")    "
   ]
  },
  {
   "cell_type": "code",
   "execution_count": 42,
   "metadata": {},
   "outputs": [
    {
     "data": {
      "text/html": [
       "<div>\n",
       "<style scoped>\n",
       "    .dataframe tbody tr th:only-of-type {\n",
       "        vertical-align: middle;\n",
       "    }\n",
       "\n",
       "    .dataframe tbody tr th {\n",
       "        vertical-align: top;\n",
       "    }\n",
       "\n",
       "    .dataframe thead th {\n",
       "        text-align: right;\n",
       "    }\n",
       "</style>\n",
       "<table border=\"1\" class=\"dataframe\">\n",
       "  <thead>\n",
       "    <tr style=\"text-align: right;\">\n",
       "      <th>col_0</th>\n",
       "      <th>count</th>\n",
       "    </tr>\n",
       "    <tr>\n",
       "      <th>DeviceType</th>\n",
       "      <th></th>\n",
       "    </tr>\n",
       "  </thead>\n",
       "  <tbody>\n",
       "    <tr>\n",
       "      <td>desktop</td>\n",
       "      <td>85165</td>\n",
       "    </tr>\n",
       "    <tr>\n",
       "      <td>mobile</td>\n",
       "      <td>55645</td>\n",
       "    </tr>\n",
       "  </tbody>\n",
       "</table>\n",
       "</div>"
      ],
      "text/plain": [
       "col_0       count\n",
       "DeviceType       \n",
       "desktop     85165\n",
       "mobile      55645"
      ]
     },
     "execution_count": 42,
     "metadata": {},
     "output_type": "execute_result"
    }
   ],
   "source": [
    "data_news"
   ]
  },
  {
   "cell_type": "code",
   "execution_count": 43,
   "metadata": {},
   "outputs": [],
   "source": [
    "def change_value_Dev_Type(x) :\n",
    "    if x in ['desktop', 'mobile'] :\n",
    "        return 0\n",
    "    else :\n",
    "        return 1\n",
    "    \n",
    "train_df.loc[:,'DeviceType'] = train_df['DeviceType'].apply(lambda x : change_value_Dev_Type(x))\n",
    "test_df.loc[:,'DeviceType'] = test_df['DeviceType'].apply(lambda x : change_value_Dev_Type(x))"
   ]
  },
  {
   "cell_type": "code",
   "execution_count": 44,
   "metadata": {},
   "outputs": [],
   "source": [
    "#Replacing NULL values in Device Info and Device Type with 0 i.e-Unrecognized Activity\n",
    "train_df[['DeviceType', 'DeviceInfo']] = train_df[['DeviceType','DeviceInfo']].fillna(value=0)\n",
    "test_df[['DeviceType', 'DeviceInfo']] = test_df[['DeviceType','DeviceInfo']].fillna(value=0)"
   ]
  },
  {
   "cell_type": "code",
   "execution_count": 45,
   "metadata": {},
   "outputs": [],
   "source": [
    "m_feat = ['M1', 'M2', 'M3', 'M4', 'M5', 'M6', 'M7', 'M8', 'M9']\n",
    "\n",
    "for col in m_feat:\n",
    "    train_df[col].fillna('None', inplace=True)\n",
    "    test_df[col].fillna('None',inplace=True)"
   ]
  },
  {
   "cell_type": "code",
   "execution_count": 46,
   "metadata": {},
   "outputs": [
    {
     "data": {
      "text/plain": [
       "M1    object\n",
       "M2    object\n",
       "M3    object\n",
       "M4    object\n",
       "M5    object\n",
       "M6    object\n",
       "M7    object\n",
       "M8    object\n",
       "M9    object\n",
       "dtype: object"
      ]
     },
     "execution_count": 46,
     "metadata": {},
     "output_type": "execute_result"
    }
   ],
   "source": [
    "train_df[m_feat].dtypes"
   ]
  },
  {
   "cell_type": "code",
   "execution_count": 47,
   "metadata": {},
   "outputs": [
    {
     "data": {
      "text/html": [
       "<div>\n",
       "<style scoped>\n",
       "    .dataframe tbody tr th:only-of-type {\n",
       "        vertical-align: middle;\n",
       "    }\n",
       "\n",
       "    .dataframe tbody tr th {\n",
       "        vertical-align: top;\n",
       "    }\n",
       "\n",
       "    .dataframe thead th {\n",
       "        text-align: right;\n",
       "    }\n",
       "</style>\n",
       "<table border=\"1\" class=\"dataframe\">\n",
       "  <thead>\n",
       "    <tr style=\"text-align: right;\">\n",
       "      <th></th>\n",
       "      <th>M1</th>\n",
       "      <th>M2</th>\n",
       "      <th>M3</th>\n",
       "      <th>M4</th>\n",
       "      <th>M5</th>\n",
       "      <th>M6</th>\n",
       "      <th>M7</th>\n",
       "      <th>M8</th>\n",
       "      <th>M9</th>\n",
       "    </tr>\n",
       "  </thead>\n",
       "  <tbody>\n",
       "    <tr>\n",
       "      <td>count</td>\n",
       "      <td>590540</td>\n",
       "      <td>590540</td>\n",
       "      <td>590540</td>\n",
       "      <td>590540</td>\n",
       "      <td>590540</td>\n",
       "      <td>590540</td>\n",
       "      <td>590540</td>\n",
       "      <td>590540</td>\n",
       "      <td>590540</td>\n",
       "    </tr>\n",
       "    <tr>\n",
       "      <td>unique</td>\n",
       "      <td>3</td>\n",
       "      <td>3</td>\n",
       "      <td>3</td>\n",
       "      <td>4</td>\n",
       "      <td>3</td>\n",
       "      <td>3</td>\n",
       "      <td>3</td>\n",
       "      <td>3</td>\n",
       "      <td>3</td>\n",
       "    </tr>\n",
       "    <tr>\n",
       "      <td>top</td>\n",
       "      <td>T</td>\n",
       "      <td>T</td>\n",
       "      <td>None</td>\n",
       "      <td>None</td>\n",
       "      <td>None</td>\n",
       "      <td>F</td>\n",
       "      <td>None</td>\n",
       "      <td>None</td>\n",
       "      <td>None</td>\n",
       "    </tr>\n",
       "    <tr>\n",
       "      <td>freq</td>\n",
       "      <td>319415</td>\n",
       "      <td>285468</td>\n",
       "      <td>271100</td>\n",
       "      <td>281444</td>\n",
       "      <td>350482</td>\n",
       "      <td>227856</td>\n",
       "      <td>346265</td>\n",
       "      <td>346252</td>\n",
       "      <td>346252</td>\n",
       "    </tr>\n",
       "  </tbody>\n",
       "</table>\n",
       "</div>"
      ],
      "text/plain": [
       "            M1      M2      M3      M4      M5      M6      M7      M8      M9\n",
       "count   590540  590540  590540  590540  590540  590540  590540  590540  590540\n",
       "unique       3       3       3       4       3       3       3       3       3\n",
       "top          T       T    None    None    None       F    None    None    None\n",
       "freq    319415  285468  271100  281444  350482  227856  346265  346252  346252"
      ]
     },
     "execution_count": 47,
     "metadata": {},
     "output_type": "execute_result"
    }
   ],
   "source": [
    "train_df[m_feat].describe()"
   ]
  },
  {
   "cell_type": "code",
   "execution_count": 48,
   "metadata": {},
   "outputs": [],
   "source": [
    "d_feat =['D1', 'D2', 'D3', 'D4', 'D5', 'D6', 'D7', 'D8', 'D9', 'D10', 'D11','D12', 'D13', 'D14', 'D15']"
   ]
  },
  {
   "cell_type": "code",
   "execution_count": 49,
   "metadata": {},
   "outputs": [
    {
     "data": {
      "text/html": [
       "<div>\n",
       "<style scoped>\n",
       "    .dataframe tbody tr th:only-of-type {\n",
       "        vertical-align: middle;\n",
       "    }\n",
       "\n",
       "    .dataframe tbody tr th {\n",
       "        vertical-align: top;\n",
       "    }\n",
       "\n",
       "    .dataframe thead th {\n",
       "        text-align: right;\n",
       "    }\n",
       "</style>\n",
       "<table border=\"1\" class=\"dataframe\">\n",
       "  <thead>\n",
       "    <tr style=\"text-align: right;\">\n",
       "      <th></th>\n",
       "      <th>D1</th>\n",
       "      <th>D2</th>\n",
       "      <th>D3</th>\n",
       "      <th>D4</th>\n",
       "      <th>D5</th>\n",
       "      <th>D6</th>\n",
       "      <th>D7</th>\n",
       "      <th>D8</th>\n",
       "      <th>D9</th>\n",
       "      <th>D10</th>\n",
       "      <th>D11</th>\n",
       "      <th>D12</th>\n",
       "      <th>D13</th>\n",
       "      <th>D14</th>\n",
       "      <th>D15</th>\n",
       "    </tr>\n",
       "  </thead>\n",
       "  <tbody>\n",
       "    <tr>\n",
       "      <td>count</td>\n",
       "      <td>589271.0</td>\n",
       "      <td>309743.0</td>\n",
       "      <td>327662.0</td>\n",
       "      <td>421618.0</td>\n",
       "      <td>280699.0</td>\n",
       "      <td>73187.0</td>\n",
       "      <td>38917.0</td>\n",
       "      <td>74926.000000</td>\n",
       "      <td>74926.000000</td>\n",
       "      <td>514518.0</td>\n",
       "      <td>311253.0</td>\n",
       "      <td>64717.0</td>\n",
       "      <td>61952.0</td>\n",
       "      <td>62187.0</td>\n",
       "      <td>501427.0</td>\n",
       "    </tr>\n",
       "    <tr>\n",
       "      <td>mean</td>\n",
       "      <td>NaN</td>\n",
       "      <td>NaN</td>\n",
       "      <td>NaN</td>\n",
       "      <td>NaN</td>\n",
       "      <td>NaN</td>\n",
       "      <td>NaN</td>\n",
       "      <td>inf</td>\n",
       "      <td>NaN</td>\n",
       "      <td>0.560059</td>\n",
       "      <td>NaN</td>\n",
       "      <td>NaN</td>\n",
       "      <td>inf</td>\n",
       "      <td>inf</td>\n",
       "      <td>inf</td>\n",
       "      <td>NaN</td>\n",
       "    </tr>\n",
       "    <tr>\n",
       "      <td>std</td>\n",
       "      <td>NaN</td>\n",
       "      <td>NaN</td>\n",
       "      <td>NaN</td>\n",
       "      <td>NaN</td>\n",
       "      <td>NaN</td>\n",
       "      <td>NaN</td>\n",
       "      <td>inf</td>\n",
       "      <td>NaN</td>\n",
       "      <td>0.316650</td>\n",
       "      <td>NaN</td>\n",
       "      <td>NaN</td>\n",
       "      <td>inf</td>\n",
       "      <td>inf</td>\n",
       "      <td>inf</td>\n",
       "      <td>NaN</td>\n",
       "    </tr>\n",
       "    <tr>\n",
       "      <td>min</td>\n",
       "      <td>0.0</td>\n",
       "      <td>0.0</td>\n",
       "      <td>0.0</td>\n",
       "      <td>-122.0</td>\n",
       "      <td>0.0</td>\n",
       "      <td>-83.0</td>\n",
       "      <td>0.0</td>\n",
       "      <td>0.000000</td>\n",
       "      <td>0.000000</td>\n",
       "      <td>0.0</td>\n",
       "      <td>-53.0</td>\n",
       "      <td>-83.0</td>\n",
       "      <td>0.0</td>\n",
       "      <td>-193.0</td>\n",
       "      <td>-83.0</td>\n",
       "    </tr>\n",
       "    <tr>\n",
       "      <td>25%</td>\n",
       "      <td>0.0</td>\n",
       "      <td>26.0</td>\n",
       "      <td>1.0</td>\n",
       "      <td>0.0</td>\n",
       "      <td>1.0</td>\n",
       "      <td>0.0</td>\n",
       "      <td>0.0</td>\n",
       "      <td>0.958496</td>\n",
       "      <td>0.208374</td>\n",
       "      <td>0.0</td>\n",
       "      <td>0.0</td>\n",
       "      <td>0.0</td>\n",
       "      <td>0.0</td>\n",
       "      <td>0.0</td>\n",
       "      <td>0.0</td>\n",
       "    </tr>\n",
       "    <tr>\n",
       "      <td>50%</td>\n",
       "      <td>3.0</td>\n",
       "      <td>97.0</td>\n",
       "      <td>8.0</td>\n",
       "      <td>26.0</td>\n",
       "      <td>10.0</td>\n",
       "      <td>0.0</td>\n",
       "      <td>0.0</td>\n",
       "      <td>37.875000</td>\n",
       "      <td>0.666504</td>\n",
       "      <td>15.0</td>\n",
       "      <td>43.0</td>\n",
       "      <td>0.0</td>\n",
       "      <td>0.0</td>\n",
       "      <td>0.0</td>\n",
       "      <td>52.0</td>\n",
       "    </tr>\n",
       "    <tr>\n",
       "      <td>75%</td>\n",
       "      <td>122.0</td>\n",
       "      <td>276.0</td>\n",
       "      <td>27.0</td>\n",
       "      <td>253.0</td>\n",
       "      <td>32.0</td>\n",
       "      <td>40.0</td>\n",
       "      <td>17.0</td>\n",
       "      <td>188.000000</td>\n",
       "      <td>0.833496</td>\n",
       "      <td>197.0</td>\n",
       "      <td>274.0</td>\n",
       "      <td>13.0</td>\n",
       "      <td>0.0</td>\n",
       "      <td>2.0</td>\n",
       "      <td>314.0</td>\n",
       "    </tr>\n",
       "    <tr>\n",
       "      <td>max</td>\n",
       "      <td>640.0</td>\n",
       "      <td>640.0</td>\n",
       "      <td>819.0</td>\n",
       "      <td>869.0</td>\n",
       "      <td>819.0</td>\n",
       "      <td>873.0</td>\n",
       "      <td>843.0</td>\n",
       "      <td>1708.000000</td>\n",
       "      <td>0.958496</td>\n",
       "      <td>876.0</td>\n",
       "      <td>670.0</td>\n",
       "      <td>648.0</td>\n",
       "      <td>847.0</td>\n",
       "      <td>878.0</td>\n",
       "      <td>879.0</td>\n",
       "    </tr>\n",
       "  </tbody>\n",
       "</table>\n",
       "</div>"
      ],
      "text/plain": [
       "             D1        D2        D3        D4        D5       D6       D7  \\\n",
       "count  589271.0  309743.0  327662.0  421618.0  280699.0  73187.0  38917.0   \n",
       "mean        NaN       NaN       NaN       NaN       NaN      NaN      inf   \n",
       "std         NaN       NaN       NaN       NaN       NaN      NaN      inf   \n",
       "min         0.0       0.0       0.0    -122.0       0.0    -83.0      0.0   \n",
       "25%         0.0      26.0       1.0       0.0       1.0      0.0      0.0   \n",
       "50%         3.0      97.0       8.0      26.0      10.0      0.0      0.0   \n",
       "75%       122.0     276.0      27.0     253.0      32.0     40.0     17.0   \n",
       "max       640.0     640.0     819.0     869.0     819.0    873.0    843.0   \n",
       "\n",
       "                 D8            D9       D10       D11      D12      D13  \\\n",
       "count  74926.000000  74926.000000  514518.0  311253.0  64717.0  61952.0   \n",
       "mean            NaN      0.560059       NaN       NaN      inf      inf   \n",
       "std             NaN      0.316650       NaN       NaN      inf      inf   \n",
       "min        0.000000      0.000000       0.0     -53.0    -83.0      0.0   \n",
       "25%        0.958496      0.208374       0.0       0.0      0.0      0.0   \n",
       "50%       37.875000      0.666504      15.0      43.0      0.0      0.0   \n",
       "75%      188.000000      0.833496     197.0     274.0     13.0      0.0   \n",
       "max     1708.000000      0.958496     876.0     670.0    648.0    847.0   \n",
       "\n",
       "           D14       D15  \n",
       "count  62187.0  501427.0  \n",
       "mean       inf       NaN  \n",
       "std        inf       NaN  \n",
       "min     -193.0     -83.0  \n",
       "25%        0.0       0.0  \n",
       "50%        0.0      52.0  \n",
       "75%        2.0     314.0  \n",
       "max      878.0     879.0  "
      ]
     },
     "execution_count": 49,
     "metadata": {},
     "output_type": "execute_result"
    }
   ],
   "source": [
    "train_df[d_feat].describe()"
   ]
  },
  {
   "cell_type": "code",
   "execution_count": 50,
   "metadata": {},
   "outputs": [
    {
     "data": {
      "text/plain": [
       "D1       1269\n",
       "D2     280797\n",
       "D3     262878\n",
       "D4     168922\n",
       "D5     309841\n",
       "D6     517353\n",
       "D7     551623\n",
       "D8     515614\n",
       "D9     515614\n",
       "D10     76022\n",
       "D11    279287\n",
       "D12    525823\n",
       "D13    528588\n",
       "D14    528353\n",
       "D15     89113\n",
       "dtype: int64"
      ]
     },
     "execution_count": 50,
     "metadata": {},
     "output_type": "execute_result"
    }
   ],
   "source": [
    "train_df[d_feat].isnull().sum()"
   ]
  },
  {
   "cell_type": "code",
   "execution_count": 51,
   "metadata": {},
   "outputs": [
    {
     "data": {
      "text/html": [
       "<div>\n",
       "<style scoped>\n",
       "    .dataframe tbody tr th:only-of-type {\n",
       "        vertical-align: middle;\n",
       "    }\n",
       "\n",
       "    .dataframe tbody tr th {\n",
       "        vertical-align: top;\n",
       "    }\n",
       "\n",
       "    .dataframe thead th {\n",
       "        text-align: right;\n",
       "    }\n",
       "</style>\n",
       "<table border=\"1\" class=\"dataframe\">\n",
       "  <thead>\n",
       "    <tr style=\"text-align: right;\">\n",
       "      <th></th>\n",
       "      <th>D1</th>\n",
       "      <th>D2</th>\n",
       "      <th>D3</th>\n",
       "      <th>D4</th>\n",
       "      <th>D5</th>\n",
       "      <th>D6</th>\n",
       "      <th>D7</th>\n",
       "      <th>D8</th>\n",
       "      <th>D9</th>\n",
       "      <th>D10</th>\n",
       "      <th>D11</th>\n",
       "      <th>D12</th>\n",
       "      <th>D13</th>\n",
       "      <th>D14</th>\n",
       "      <th>D15</th>\n",
       "    </tr>\n",
       "  </thead>\n",
       "  <tbody>\n",
       "    <tr>\n",
       "      <td>count</td>\n",
       "      <td>589271.0</td>\n",
       "      <td>309743.0</td>\n",
       "      <td>327662.0</td>\n",
       "      <td>421618.0</td>\n",
       "      <td>280699.0</td>\n",
       "      <td>73187.0</td>\n",
       "      <td>38917.0</td>\n",
       "      <td>74926.000000</td>\n",
       "      <td>74926.000000</td>\n",
       "      <td>514518.0</td>\n",
       "      <td>311253.0</td>\n",
       "      <td>64717.0</td>\n",
       "      <td>61952.0</td>\n",
       "      <td>62187.0</td>\n",
       "      <td>501427.0</td>\n",
       "    </tr>\n",
       "    <tr>\n",
       "      <td>mean</td>\n",
       "      <td>NaN</td>\n",
       "      <td>NaN</td>\n",
       "      <td>NaN</td>\n",
       "      <td>NaN</td>\n",
       "      <td>NaN</td>\n",
       "      <td>NaN</td>\n",
       "      <td>inf</td>\n",
       "      <td>NaN</td>\n",
       "      <td>0.560059</td>\n",
       "      <td>NaN</td>\n",
       "      <td>NaN</td>\n",
       "      <td>inf</td>\n",
       "      <td>inf</td>\n",
       "      <td>inf</td>\n",
       "      <td>NaN</td>\n",
       "    </tr>\n",
       "    <tr>\n",
       "      <td>std</td>\n",
       "      <td>NaN</td>\n",
       "      <td>NaN</td>\n",
       "      <td>NaN</td>\n",
       "      <td>NaN</td>\n",
       "      <td>NaN</td>\n",
       "      <td>NaN</td>\n",
       "      <td>inf</td>\n",
       "      <td>NaN</td>\n",
       "      <td>0.316650</td>\n",
       "      <td>NaN</td>\n",
       "      <td>NaN</td>\n",
       "      <td>inf</td>\n",
       "      <td>inf</td>\n",
       "      <td>inf</td>\n",
       "      <td>NaN</td>\n",
       "    </tr>\n",
       "    <tr>\n",
       "      <td>min</td>\n",
       "      <td>0.0</td>\n",
       "      <td>0.0</td>\n",
       "      <td>0.0</td>\n",
       "      <td>-122.0</td>\n",
       "      <td>0.0</td>\n",
       "      <td>-83.0</td>\n",
       "      <td>0.0</td>\n",
       "      <td>0.000000</td>\n",
       "      <td>0.000000</td>\n",
       "      <td>0.0</td>\n",
       "      <td>-53.0</td>\n",
       "      <td>-83.0</td>\n",
       "      <td>0.0</td>\n",
       "      <td>-193.0</td>\n",
       "      <td>-83.0</td>\n",
       "    </tr>\n",
       "    <tr>\n",
       "      <td>25%</td>\n",
       "      <td>0.0</td>\n",
       "      <td>26.0</td>\n",
       "      <td>1.0</td>\n",
       "      <td>0.0</td>\n",
       "      <td>1.0</td>\n",
       "      <td>0.0</td>\n",
       "      <td>0.0</td>\n",
       "      <td>0.958496</td>\n",
       "      <td>0.208374</td>\n",
       "      <td>0.0</td>\n",
       "      <td>0.0</td>\n",
       "      <td>0.0</td>\n",
       "      <td>0.0</td>\n",
       "      <td>0.0</td>\n",
       "      <td>0.0</td>\n",
       "    </tr>\n",
       "    <tr>\n",
       "      <td>50%</td>\n",
       "      <td>3.0</td>\n",
       "      <td>97.0</td>\n",
       "      <td>8.0</td>\n",
       "      <td>26.0</td>\n",
       "      <td>10.0</td>\n",
       "      <td>0.0</td>\n",
       "      <td>0.0</td>\n",
       "      <td>37.875000</td>\n",
       "      <td>0.666504</td>\n",
       "      <td>15.0</td>\n",
       "      <td>43.0</td>\n",
       "      <td>0.0</td>\n",
       "      <td>0.0</td>\n",
       "      <td>0.0</td>\n",
       "      <td>52.0</td>\n",
       "    </tr>\n",
       "    <tr>\n",
       "      <td>75%</td>\n",
       "      <td>122.0</td>\n",
       "      <td>276.0</td>\n",
       "      <td>27.0</td>\n",
       "      <td>253.0</td>\n",
       "      <td>32.0</td>\n",
       "      <td>40.0</td>\n",
       "      <td>17.0</td>\n",
       "      <td>188.000000</td>\n",
       "      <td>0.833496</td>\n",
       "      <td>197.0</td>\n",
       "      <td>274.0</td>\n",
       "      <td>13.0</td>\n",
       "      <td>0.0</td>\n",
       "      <td>2.0</td>\n",
       "      <td>314.0</td>\n",
       "    </tr>\n",
       "    <tr>\n",
       "      <td>max</td>\n",
       "      <td>640.0</td>\n",
       "      <td>640.0</td>\n",
       "      <td>819.0</td>\n",
       "      <td>869.0</td>\n",
       "      <td>819.0</td>\n",
       "      <td>873.0</td>\n",
       "      <td>843.0</td>\n",
       "      <td>1708.000000</td>\n",
       "      <td>0.958496</td>\n",
       "      <td>876.0</td>\n",
       "      <td>670.0</td>\n",
       "      <td>648.0</td>\n",
       "      <td>847.0</td>\n",
       "      <td>878.0</td>\n",
       "      <td>879.0</td>\n",
       "    </tr>\n",
       "  </tbody>\n",
       "</table>\n",
       "</div>"
      ],
      "text/plain": [
       "             D1        D2        D3        D4        D5       D6       D7  \\\n",
       "count  589271.0  309743.0  327662.0  421618.0  280699.0  73187.0  38917.0   \n",
       "mean        NaN       NaN       NaN       NaN       NaN      NaN      inf   \n",
       "std         NaN       NaN       NaN       NaN       NaN      NaN      inf   \n",
       "min         0.0       0.0       0.0    -122.0       0.0    -83.0      0.0   \n",
       "25%         0.0      26.0       1.0       0.0       1.0      0.0      0.0   \n",
       "50%         3.0      97.0       8.0      26.0      10.0      0.0      0.0   \n",
       "75%       122.0     276.0      27.0     253.0      32.0     40.0     17.0   \n",
       "max       640.0     640.0     819.0     869.0     819.0    873.0    843.0   \n",
       "\n",
       "                 D8            D9       D10       D11      D12      D13  \\\n",
       "count  74926.000000  74926.000000  514518.0  311253.0  64717.0  61952.0   \n",
       "mean            NaN      0.560059       NaN       NaN      inf      inf   \n",
       "std             NaN      0.316650       NaN       NaN      inf      inf   \n",
       "min        0.000000      0.000000       0.0     -53.0    -83.0      0.0   \n",
       "25%        0.958496      0.208374       0.0       0.0      0.0      0.0   \n",
       "50%       37.875000      0.666504      15.0      43.0      0.0      0.0   \n",
       "75%      188.000000      0.833496     197.0     274.0     13.0      0.0   \n",
       "max     1708.000000      0.958496     876.0     670.0    648.0    847.0   \n",
       "\n",
       "           D14       D15  \n",
       "count  62187.0  501427.0  \n",
       "mean       inf       NaN  \n",
       "std        inf       NaN  \n",
       "min     -193.0     -83.0  \n",
       "25%        0.0       0.0  \n",
       "50%        0.0      52.0  \n",
       "75%        2.0     314.0  \n",
       "max      878.0     879.0  "
      ]
     },
     "execution_count": 51,
     "metadata": {},
     "output_type": "execute_result"
    }
   ],
   "source": [
    "train_df[d_feat].describe()"
   ]
  },
  {
   "cell_type": "code",
   "execution_count": 52,
   "metadata": {},
   "outputs": [],
   "source": [
    "for col in d_feat:\n",
    "    train_df[col] = (minmax_scale(train_df[col], feature_range=(0,1)))\n",
    "    train_df[col] = train_df[col].fillna(-1)"
   ]
  },
  {
   "cell_type": "code",
   "execution_count": 53,
   "metadata": {},
   "outputs": [],
   "source": [
    "for col in d_feat:\n",
    "    test_df[col] = (minmax_scale(test_df[col], feature_range=(0,1)))\n",
    "    test_df[col] = test_df[col].fillna(-1)"
   ]
  },
  {
   "cell_type": "code",
   "execution_count": 54,
   "metadata": {},
   "outputs": [
    {
     "name": "stdout",
     "output_type": "stream",
     "text": [
      "(590540, 130)\n",
      "(506691, 129)\n"
     ]
    }
   ],
   "source": [
    "print(train_df.shape)\n",
    "print(test_df.shape)"
   ]
  },
  {
   "cell_type": "code",
   "execution_count": 55,
   "metadata": {},
   "outputs": [],
   "source": [
    "c_feat = ['C1', 'C2', 'C3', 'C4', 'C5', 'C6', 'C7','C8', 'C9', 'C10', 'C11', 'C12', 'C13', 'C14']\n",
    "\n",
    "for col in c_feat:\n",
    "    train_df[col] = train_df[col].fillna((train_df[col].min() - 1))\n",
    "    train_df[col] = (minmax_scale(train_df[col], feature_range=(0,1)))"
   ]
  },
  {
   "cell_type": "code",
   "execution_count": 56,
   "metadata": {},
   "outputs": [],
   "source": [
    "for col in c_feat:\n",
    "    test_df[col] = test_df[col].fillna((test_df[col].min() - 1))\n",
    "    test_df[col] = (minmax_scale(test_df[col], feature_range=(0,1)))"
   ]
  },
  {
   "cell_type": "code",
   "execution_count": 57,
   "metadata": {},
   "outputs": [],
   "source": [
    "id_cols=['id_01', 'id_02', 'id_03', 'id_04', 'id_05', 'id_06', 'id_07', 'id_08',\n",
    "       'id_09', 'id_10', 'id_11', 'id_12', 'id_13', 'id_14', 'id_15', 'id_16',\n",
    "       'id_17', 'id_18', 'id_19', 'id_20', 'id_21', 'id_22', 'id_23', 'id_24',\n",
    "       'id_25', 'id_26', 'id_27', 'id_28', 'id_29', 'id_30', 'id_31', 'id_32',\n",
    "       'id_33', 'id_34','id_35','id_36','id_37','id_38']"
   ]
  },
  {
   "cell_type": "code",
   "execution_count": 58,
   "metadata": {},
   "outputs": [
    {
     "name": "stdout",
     "output_type": "stream",
     "text": [
      "Feature 'id_01' has float16 \n",
      "Feature 'id_02' has float32 \n",
      "Feature 'id_03' has float16 \n",
      "Feature 'id_04' has float16 \n",
      "Feature 'id_05' has float16 \n",
      "Feature 'id_06' has float16 \n",
      "Feature 'id_07' has float16 \n",
      "Feature 'id_08' has float16 \n",
      "Feature 'id_09' has float16 \n",
      "Feature 'id_10' has float16 \n",
      "Feature 'id_11' has float16 \n",
      "Feature 'id_12' has object \n",
      "Feature 'id_13' has float16 \n",
      "Feature 'id_14' has float16 \n",
      "Feature 'id_15' has object \n",
      "Feature 'id_16' has object \n",
      "Feature 'id_17' has float16 \n",
      "Feature 'id_18' has float16 \n",
      "Feature 'id_19' has float16 \n",
      "Feature 'id_20' has float16 \n",
      "Feature 'id_21' has float16 \n",
      "Feature 'id_22' has float16 \n",
      "Feature 'id_23' has object \n",
      "Feature 'id_24' has float16 \n",
      "Feature 'id_25' has float16 \n",
      "Feature 'id_26' has float16 \n",
      "Feature 'id_27' has object \n",
      "Feature 'id_28' has object \n",
      "Feature 'id_29' has object \n",
      "Feature 'id_30' has object \n",
      "Feature 'id_31' has object \n",
      "Feature 'id_32' has float16 \n",
      "Feature 'id_33' has object \n",
      "Feature 'id_34' has object \n",
      "Feature 'id_35' has object \n",
      "Feature 'id_36' has object \n",
      "Feature 'id_37' has object \n",
      "Feature 'id_38' has object \n"
     ]
    }
   ],
   "source": [
    "for col in id_cols:\n",
    "     print(\"Feature '{col_name}' has {unique_cat} \".format(col_name=col, unique_cat=train_df[col].dtype))"
   ]
  },
  {
   "cell_type": "code",
   "execution_count": 59,
   "metadata": {},
   "outputs": [
    {
     "data": {
      "text/plain": [
       "['id_12',\n",
       " 'id_15',\n",
       " 'id_16',\n",
       " 'id_23',\n",
       " 'id_27',\n",
       " 'id_28',\n",
       " 'id_29',\n",
       " 'id_30',\n",
       " 'id_31',\n",
       " 'id_33',\n",
       " 'id_34',\n",
       " 'id_35',\n",
       " 'id_36',\n",
       " 'id_37',\n",
       " 'id_38']"
      ]
     },
     "execution_count": 59,
     "metadata": {},
     "output_type": "execute_result"
    }
   ],
   "source": [
    "cat_id_cols = [col for col in id_cols if train_df[col].dtype in ['object']]\n",
    "\n",
    "cat_id_cols"
   ]
  },
  {
   "cell_type": "code",
   "execution_count": 60,
   "metadata": {},
   "outputs": [
    {
     "data": {
      "text/plain": [
       "['id_12',\n",
       " 'id_15',\n",
       " 'id_16',\n",
       " 'id_23',\n",
       " 'id_27',\n",
       " 'id_28',\n",
       " 'id_29',\n",
       " 'id_30',\n",
       " 'id_31',\n",
       " 'id_33',\n",
       " 'id_34',\n",
       " 'id_35',\n",
       " 'id_36',\n",
       " 'id_37',\n",
       " 'id_38']"
      ]
     },
     "execution_count": 60,
     "metadata": {},
     "output_type": "execute_result"
    }
   ],
   "source": [
    "test_cat_id=[col for col in id_cols if test_df[col].dtype in ['object']]\n",
    "test_cat_id"
   ]
  },
  {
   "cell_type": "code",
   "execution_count": 61,
   "metadata": {},
   "outputs": [
    {
     "data": {
      "text/plain": [
       "id_12    446307\n",
       "id_15    449555\n",
       "id_16    461200\n",
       "id_23    585371\n",
       "id_27    585371\n",
       "id_28    449562\n",
       "id_29    449562\n",
       "id_30    512975\n",
       "id_31    450258\n",
       "id_33    517251\n",
       "id_34    512735\n",
       "id_35    449555\n",
       "id_36    449555\n",
       "id_37    449555\n",
       "id_38    449555\n",
       "dtype: int64"
      ]
     },
     "execution_count": 61,
     "metadata": {},
     "output_type": "execute_result"
    }
   ],
   "source": [
    "tr_cat=train_df[cat_id_cols]\n",
    "tr_cat.isnull().sum()"
   ]
  },
  {
   "cell_type": "code",
   "execution_count": 62,
   "metadata": {
    "_kg_hide-output": true
   },
   "outputs": [],
   "source": [
    "train_df.drop(cat_id_cols,axis=1,inplace=True)\n",
    "test_df.drop(cat_id_cols,axis=1,inplace=True)"
   ]
  },
  {
   "cell_type": "code",
   "execution_count": 63,
   "metadata": {},
   "outputs": [
    {
     "data": {
      "text/plain": [
       "Index(['id_01', 'id_02', 'id_03', 'id_04', 'id_05', 'id_06', 'id_07', 'id_08',\n",
       "       'id_09', 'id_10', 'id_11', 'id_13', 'id_14', 'id_17', 'id_18', 'id_19',\n",
       "       'id_20', 'id_21', 'id_22', 'id_24', 'id_25', 'id_26', 'id_32'],\n",
       "      dtype='object')"
      ]
     },
     "execution_count": 63,
     "metadata": {},
     "output_type": "execute_result"
    }
   ],
   "source": [
    "id_cols=train_df.columns[55:78]\n",
    "id_cols"
   ]
  },
  {
   "cell_type": "code",
   "execution_count": 64,
   "metadata": {},
   "outputs": [],
   "source": [
    "for col in id_cols:\n",
    "    train_df[col] = (minmax_scale(train_df[col], feature_range=(0,1)))\n",
    "    train_df[col].fillna(-1, inplace=True)"
   ]
  },
  {
   "cell_type": "code",
   "execution_count": 65,
   "metadata": {},
   "outputs": [
    {
     "data": {
      "text/plain": [
       "Index(['id_01', 'id_02', 'id_03', 'id_04', 'id_05', 'id_06', 'id_07', 'id_08',\n",
       "       'id_09', 'id_10', 'id_11', 'id_13', 'id_14', 'id_17', 'id_18', 'id_19',\n",
       "       'id_20', 'id_21', 'id_22', 'id_24', 'id_25', 'id_26', 'id_32'],\n",
       "      dtype='object')"
      ]
     },
     "execution_count": 65,
     "metadata": {},
     "output_type": "execute_result"
    }
   ],
   "source": [
    "test_id_cols=test_df.columns[54:77]\n",
    "test_id_cols"
   ]
  },
  {
   "cell_type": "code",
   "execution_count": 66,
   "metadata": {},
   "outputs": [],
   "source": [
    "for col in test_id_cols:\n",
    "    test_df[col] = (minmax_scale(test_df[col], feature_range=(0,1)))\n",
    "    test_df[col].fillna(-1, inplace=True)"
   ]
  },
  {
   "cell_type": "code",
   "execution_count": 67,
   "metadata": {},
   "outputs": [
    {
     "data": {
      "text/plain": [
       "count    524834.0\n",
       "mean          NaN\n",
       "std           NaN\n",
       "min         100.0\n",
       "25%         204.0\n",
       "50%         299.0\n",
       "75%         330.0\n",
       "max         540.0\n",
       "Name: addr1, dtype: float64"
      ]
     },
     "execution_count": 67,
     "metadata": {},
     "output_type": "execute_result"
    }
   ],
   "source": [
    "train_df['addr1'].describe()"
   ]
  },
  {
   "cell_type": "code",
   "execution_count": 68,
   "metadata": {},
   "outputs": [],
   "source": [
    "train_df['addr1'] = (minmax_scale(train_df['addr1'], feature_range=(0,1)))\n",
    "train_df['addr1'].fillna((train_df['addr1'].max() - 200), inplace=True)"
   ]
  },
  {
   "cell_type": "code",
   "execution_count": 69,
   "metadata": {},
   "outputs": [
    {
     "data": {
      "text/plain": [
       "count    441082.0\n",
       "mean          NaN\n",
       "std           NaN\n",
       "min         100.0\n",
       "25%         204.0\n",
       "50%         299.0\n",
       "75%         330.0\n",
       "max         540.0\n",
       "Name: addr1, dtype: float64"
      ]
     },
     "execution_count": 69,
     "metadata": {},
     "output_type": "execute_result"
    }
   ],
   "source": [
    "test_df['addr1'].describe()"
   ]
  },
  {
   "cell_type": "code",
   "execution_count": 70,
   "metadata": {},
   "outputs": [],
   "source": [
    "test_df['addr1'] = (minmax_scale(test_df['addr1'], feature_range=(0,1)))\n",
    "test_df['addr1'].fillna((test_df['addr1'].max() - 200), inplace=True)"
   ]
  },
  {
   "cell_type": "code",
   "execution_count": 71,
   "metadata": {},
   "outputs": [
    {
     "data": {
      "text/plain": [
       "count    524834.0\n",
       "mean          NaN\n",
       "std           0.0\n",
       "min          10.0\n",
       "25%          87.0\n",
       "50%          87.0\n",
       "75%          87.0\n",
       "max         102.0\n",
       "Name: addr2, dtype: float64"
      ]
     },
     "execution_count": 71,
     "metadata": {},
     "output_type": "execute_result"
    }
   ],
   "source": [
    "train_df['addr2'].describe()"
   ]
  },
  {
   "cell_type": "code",
   "execution_count": 72,
   "metadata": {},
   "outputs": [],
   "source": [
    "train_df['addr2'].fillna(87,inplace=True)"
   ]
  },
  {
   "cell_type": "code",
   "execution_count": 73,
   "metadata": {},
   "outputs": [
    {
     "data": {
      "text/plain": [
       "count    441082.0\n",
       "mean          NaN\n",
       "std           0.0\n",
       "min          10.0\n",
       "25%          87.0\n",
       "50%          87.0\n",
       "75%          87.0\n",
       "max         102.0\n",
       "Name: addr2, dtype: float64"
      ]
     },
     "execution_count": 73,
     "metadata": {},
     "output_type": "execute_result"
    }
   ],
   "source": [
    "test_df['addr2'].describe()"
   ]
  },
  {
   "cell_type": "code",
   "execution_count": 74,
   "metadata": {},
   "outputs": [],
   "source": [
    "test_df['addr2'].fillna(87,inplace=True)"
   ]
  },
  {
   "cell_type": "code",
   "execution_count": 75,
   "metadata": {},
   "outputs": [
    {
     "name": "stdout",
     "output_type": "stream",
     "text": [
      "(590540, 115)\n",
      "(506691, 114)\n"
     ]
    }
   ],
   "source": [
    "print(train_df.shape)\n",
    "print(test_df.shape)"
   ]
  },
  {
   "cell_type": "code",
   "execution_count": 76,
   "metadata": {},
   "outputs": [
    {
     "data": {
      "text/plain": [
       "['card1', 'card2', 'card3', 'card4', 'card5', 'card6']"
      ]
     },
     "execution_count": 76,
     "metadata": {},
     "output_type": "execute_result"
    }
   ],
   "source": [
    "card_feat=['card1', 'card2', 'card3', 'card4', 'card5', 'card6']\n",
    "card_feat"
   ]
  },
  {
   "cell_type": "code",
   "execution_count": 77,
   "metadata": {},
   "outputs": [
    {
     "name": "stdout",
     "output_type": "stream",
     "text": [
      "Feature 'card1' has int16 \n",
      "Feature 'card2' has float16 \n",
      "Feature 'card3' has float16 \n",
      "Feature 'card4' has object \n",
      "Feature 'card5' has float16 \n",
      "Feature 'card6' has object \n"
     ]
    }
   ],
   "source": [
    "for col in card_feat:\n",
    "     print(\"Feature '{col_name}' has {unique_cat} \".format(col_name=col, unique_cat=train_df[col].dtype))"
   ]
  },
  {
   "cell_type": "code",
   "execution_count": 78,
   "metadata": {},
   "outputs": [
    {
     "data": {
      "text/plain": [
       "['card4', 'card6']"
      ]
     },
     "execution_count": 78,
     "metadata": {},
     "output_type": "execute_result"
    }
   ],
   "source": [
    "train_cat_card=[col for col in card_feat if train_df[col].dtype in ['object']]\n",
    "train_cat_card"
   ]
  },
  {
   "cell_type": "code",
   "execution_count": 79,
   "metadata": {},
   "outputs": [
    {
     "data": {
      "text/plain": [
       "['card1', 'card2', 'card3', 'card5']"
      ]
     },
     "execution_count": 79,
     "metadata": {},
     "output_type": "execute_result"
    }
   ],
   "source": [
    "num_card=[col for col in card_feat if train_df[col].dtype not in ['object']]\n",
    "num_card"
   ]
  },
  {
   "cell_type": "code",
   "execution_count": 80,
   "metadata": {},
   "outputs": [],
   "source": [
    "card_types=pd.crosstab(index=train_df['card4'], columns=\"count\")    "
   ]
  },
  {
   "cell_type": "code",
   "execution_count": 81,
   "metadata": {},
   "outputs": [
    {
     "data": {
      "text/html": [
       "<div>\n",
       "<style scoped>\n",
       "    .dataframe tbody tr th:only-of-type {\n",
       "        vertical-align: middle;\n",
       "    }\n",
       "\n",
       "    .dataframe tbody tr th {\n",
       "        vertical-align: top;\n",
       "    }\n",
       "\n",
       "    .dataframe thead th {\n",
       "        text-align: right;\n",
       "    }\n",
       "</style>\n",
       "<table border=\"1\" class=\"dataframe\">\n",
       "  <thead>\n",
       "    <tr style=\"text-align: right;\">\n",
       "      <th>col_0</th>\n",
       "      <th>count</th>\n",
       "    </tr>\n",
       "    <tr>\n",
       "      <th>card4</th>\n",
       "      <th></th>\n",
       "    </tr>\n",
       "  </thead>\n",
       "  <tbody>\n",
       "    <tr>\n",
       "      <td>american express</td>\n",
       "      <td>8328</td>\n",
       "    </tr>\n",
       "    <tr>\n",
       "      <td>discover</td>\n",
       "      <td>6651</td>\n",
       "    </tr>\n",
       "    <tr>\n",
       "      <td>mastercard</td>\n",
       "      <td>189217</td>\n",
       "    </tr>\n",
       "    <tr>\n",
       "      <td>visa</td>\n",
       "      <td>384767</td>\n",
       "    </tr>\n",
       "  </tbody>\n",
       "</table>\n",
       "</div>"
      ],
      "text/plain": [
       "col_0              count\n",
       "card4                   \n",
       "american express    8328\n",
       "discover            6651\n",
       "mastercard        189217\n",
       "visa              384767"
      ]
     },
     "execution_count": 81,
     "metadata": {},
     "output_type": "execute_result"
    }
   ],
   "source": [
    "card_types"
   ]
  },
  {
   "cell_type": "code",
   "execution_count": 82,
   "metadata": {},
   "outputs": [],
   "source": [
    "new_card_types=pd.crosstab(index=train_df['card6'], columns=\"count\")   "
   ]
  },
  {
   "cell_type": "code",
   "execution_count": 83,
   "metadata": {},
   "outputs": [
    {
     "data": {
      "text/html": [
       "<div>\n",
       "<style scoped>\n",
       "    .dataframe tbody tr th:only-of-type {\n",
       "        vertical-align: middle;\n",
       "    }\n",
       "\n",
       "    .dataframe tbody tr th {\n",
       "        vertical-align: top;\n",
       "    }\n",
       "\n",
       "    .dataframe thead th {\n",
       "        text-align: right;\n",
       "    }\n",
       "</style>\n",
       "<table border=\"1\" class=\"dataframe\">\n",
       "  <thead>\n",
       "    <tr style=\"text-align: right;\">\n",
       "      <th>col_0</th>\n",
       "      <th>count</th>\n",
       "    </tr>\n",
       "    <tr>\n",
       "      <th>card6</th>\n",
       "      <th></th>\n",
       "    </tr>\n",
       "  </thead>\n",
       "  <tbody>\n",
       "    <tr>\n",
       "      <td>charge card</td>\n",
       "      <td>15</td>\n",
       "    </tr>\n",
       "    <tr>\n",
       "      <td>credit</td>\n",
       "      <td>148986</td>\n",
       "    </tr>\n",
       "    <tr>\n",
       "      <td>debit</td>\n",
       "      <td>439938</td>\n",
       "    </tr>\n",
       "    <tr>\n",
       "      <td>debit or credit</td>\n",
       "      <td>30</td>\n",
       "    </tr>\n",
       "  </tbody>\n",
       "</table>\n",
       "</div>"
      ],
      "text/plain": [
       "col_0             count\n",
       "card6                  \n",
       "charge card          15\n",
       "credit           148986\n",
       "debit            439938\n",
       "debit or credit      30"
      ]
     },
     "execution_count": 83,
     "metadata": {},
     "output_type": "execute_result"
    }
   ],
   "source": [
    "new_card_types"
   ]
  },
  {
   "cell_type": "code",
   "execution_count": 84,
   "metadata": {},
   "outputs": [],
   "source": [
    "for col in train_cat_card:\n",
    "    train_df[col] = train_df[col].fillna('None')"
   ]
  },
  {
   "cell_type": "code",
   "execution_count": 85,
   "metadata": {},
   "outputs": [],
   "source": [
    "for col in train_cat_card:\n",
    "    test_df[col] = test_df[col].fillna('None')"
   ]
  },
  {
   "cell_type": "code",
   "execution_count": 86,
   "metadata": {},
   "outputs": [],
   "source": [
    "for col in num_card:\n",
    "    train_df[col] = train_df[col].fillna((train_df[col].min() - 1))\n",
    "    train_df[col] = (minmax_scale(train_df[col], feature_range=(0,1)))"
   ]
  },
  {
   "cell_type": "code",
   "execution_count": 87,
   "metadata": {},
   "outputs": [],
   "source": [
    "for col in num_card:\n",
    "    test_df[col] = test_df[col].fillna((test_df[col].min() - 1))\n",
    "    test_df[col] = (minmax_scale(test_df[col], feature_range=(0,1)))"
   ]
  },
  {
   "cell_type": "code",
   "execution_count": 88,
   "metadata": {},
   "outputs": [
    {
     "name": "stdout",
     "output_type": "stream",
     "text": [
      "        TransactionID isFraud TransactionDT TransactionAmt ProductCD    card1  \\\n",
      "Count               0       0             0              0         0        0   \n",
      "Percent             0       0             0              0         0        0   \n",
      "dtypes          int32    int8         int32        float16    object  float64   \n",
      "\n",
      "           card2    card3   card4    card5  ...      V25      V26      V27  \\\n",
      "Count          0        0       0        0  ...        0        0        0   \n",
      "Percent        0        0       0        0  ...        0        0        0   \n",
      "dtypes   float16  float16  object  float16  ...  float64  float64  float64   \n",
      "\n",
      "             V28      V29      V30      V31      V32      V33      V34  \n",
      "Count          0        0        0        0        0        0        0  \n",
      "Percent        0        0        0        0        0        0        0  \n",
      "dtypes   float64  float64  float64  float64  float64  float64  float64  \n",
      "\n",
      "[3 rows x 115 columns]\n"
     ]
    }
   ],
   "source": [
    "# Check missing data - Many Columns have more than 50% NA/Null records\n",
    "def missing_data(df) :\n",
    "    count = df.isnull().sum()\n",
    "    percent = (df.isnull().sum()) / (df.isnull().count()) * 100\n",
    "    total = pd.concat([count, percent], axis=1, keys = ['Count', 'Percent'])\n",
    "    types = []\n",
    "    for col in df.columns :\n",
    "        dtypes = str(df[col].dtype)\n",
    "        types.append(dtypes)\n",
    "    total['dtypes'] = types\n",
    "    \n",
    "    return np.transpose(total)\n",
    "\n",
    "total=missing_data(train_df)\n",
    "print(total)"
   ]
  },
  {
   "cell_type": "code",
   "execution_count": 89,
   "metadata": {},
   "outputs": [
    {
     "data": {
      "text/plain": [
       "array(['dist1', 'dist2'], dtype=object)"
      ]
     },
     "execution_count": 89,
     "metadata": {},
     "output_type": "execute_result"
    }
   ],
   "source": [
    "## WE will Drop columns with more 50% Null value.\n",
    "null_percent = train_df.isnull().sum()/train_df.shape[0]*100\n",
    "\n",
    "cols_to_drop = np.array(null_percent[null_percent > 50].index)\n",
    "\n",
    "cols_to_drop\n"
   ]
  },
  {
   "cell_type": "code",
   "execution_count": 90,
   "metadata": {},
   "outputs": [],
   "source": [
    "# Drop Columns (cols_to_drop) from train and test\n",
    "train_df = train_df.drop(cols_to_drop, axis=1)\n",
    "test_df = test_df.drop(cols_to_drop,axis=1)"
   ]
  },
  {
   "cell_type": "code",
   "execution_count": 91,
   "metadata": {},
   "outputs": [
    {
     "data": {
      "text/html": [
       "<div>\n",
       "<style scoped>\n",
       "    .dataframe tbody tr th:only-of-type {\n",
       "        vertical-align: middle;\n",
       "    }\n",
       "\n",
       "    .dataframe tbody tr th {\n",
       "        vertical-align: top;\n",
       "    }\n",
       "\n",
       "    .dataframe thead th {\n",
       "        text-align: right;\n",
       "    }\n",
       "</style>\n",
       "<table border=\"1\" class=\"dataframe\">\n",
       "  <thead>\n",
       "    <tr style=\"text-align: right;\">\n",
       "      <th></th>\n",
       "      <th>TransactionID</th>\n",
       "      <th>TransactionDT</th>\n",
       "      <th>TransactionAmt</th>\n",
       "      <th>ProductCD</th>\n",
       "      <th>card1</th>\n",
       "      <th>card2</th>\n",
       "      <th>card3</th>\n",
       "      <th>card4</th>\n",
       "      <th>card5</th>\n",
       "      <th>card6</th>\n",
       "      <th>...</th>\n",
       "      <th>V25</th>\n",
       "      <th>V26</th>\n",
       "      <th>V27</th>\n",
       "      <th>V28</th>\n",
       "      <th>V29</th>\n",
       "      <th>V30</th>\n",
       "      <th>V31</th>\n",
       "      <th>V32</th>\n",
       "      <th>V33</th>\n",
       "      <th>V34</th>\n",
       "    </tr>\n",
       "  </thead>\n",
       "  <tbody>\n",
       "    <tr>\n",
       "      <td>0</td>\n",
       "      <td>3663549</td>\n",
       "      <td>18403224</td>\n",
       "      <td>31.953125</td>\n",
       "      <td>W</td>\n",
       "      <td>0.540814</td>\n",
       "      <td>0.023926</td>\n",
       "      <td>0.383789</td>\n",
       "      <td>visa</td>\n",
       "      <td>0.919922</td>\n",
       "      <td>debit</td>\n",
       "      <td>...</td>\n",
       "      <td>0.050786</td>\n",
       "      <td>0.000686</td>\n",
       "      <td>0.004549</td>\n",
       "      <td>-0.054497</td>\n",
       "      <td>-0.042375</td>\n",
       "      <td>0.034993</td>\n",
       "      <td>-0.020758</td>\n",
       "      <td>0.020852</td>\n",
       "      <td>-0.034361</td>\n",
       "      <td>0.030318</td>\n",
       "    </tr>\n",
       "    <tr>\n",
       "      <td>1</td>\n",
       "      <td>3663550</td>\n",
       "      <td>18403263</td>\n",
       "      <td>49.000000</td>\n",
       "      <td>W</td>\n",
       "      <td>0.188032</td>\n",
       "      <td>0.023926</td>\n",
       "      <td>0.383789</td>\n",
       "      <td>visa</td>\n",
       "      <td>0.919922</td>\n",
       "      <td>debit</td>\n",
       "      <td>...</td>\n",
       "      <td>-0.036079</td>\n",
       "      <td>0.021923</td>\n",
       "      <td>-0.002874</td>\n",
       "      <td>0.006354</td>\n",
       "      <td>0.008943</td>\n",
       "      <td>0.009513</td>\n",
       "      <td>-0.006858</td>\n",
       "      <td>-0.009216</td>\n",
       "      <td>0.001155</td>\n",
       "      <td>0.010418</td>\n",
       "    </tr>\n",
       "    <tr>\n",
       "      <td>2</td>\n",
       "      <td>3663551</td>\n",
       "      <td>18403310</td>\n",
       "      <td>171.000000</td>\n",
       "      <td>W</td>\n",
       "      <td>0.199759</td>\n",
       "      <td>0.948242</td>\n",
       "      <td>0.383789</td>\n",
       "      <td>visa</td>\n",
       "      <td>0.919922</td>\n",
       "      <td>debit</td>\n",
       "      <td>...</td>\n",
       "      <td>-0.072811</td>\n",
       "      <td>0.059917</td>\n",
       "      <td>-0.000045</td>\n",
       "      <td>0.005930</td>\n",
       "      <td>0.009996</td>\n",
       "      <td>0.022444</td>\n",
       "      <td>-0.002850</td>\n",
       "      <td>0.011359</td>\n",
       "      <td>-0.006566</td>\n",
       "      <td>0.004513</td>\n",
       "    </tr>\n",
       "    <tr>\n",
       "      <td>3</td>\n",
       "      <td>3663552</td>\n",
       "      <td>18403310</td>\n",
       "      <td>285.000000</td>\n",
       "      <td>W</td>\n",
       "      <td>0.574155</td>\n",
       "      <td>0.520508</td>\n",
       "      <td>0.383789</td>\n",
       "      <td>visa</td>\n",
       "      <td>0.485352</td>\n",
       "      <td>debit</td>\n",
       "      <td>...</td>\n",
       "      <td>0.019797</td>\n",
       "      <td>-0.034435</td>\n",
       "      <td>-0.011208</td>\n",
       "      <td>0.026025</td>\n",
       "      <td>0.012015</td>\n",
       "      <td>-0.006111</td>\n",
       "      <td>0.036744</td>\n",
       "      <td>0.031950</td>\n",
       "      <td>-0.003113</td>\n",
       "      <td>0.033180</td>\n",
       "    </tr>\n",
       "    <tr>\n",
       "      <td>4</td>\n",
       "      <td>3663553</td>\n",
       "      <td>18403317</td>\n",
       "      <td>67.937500</td>\n",
       "      <td>W</td>\n",
       "      <td>0.978213</td>\n",
       "      <td>0.704102</td>\n",
       "      <td>0.383789</td>\n",
       "      <td>mastercard</td>\n",
       "      <td>0.130371</td>\n",
       "      <td>debit</td>\n",
       "      <td>...</td>\n",
       "      <td>0.005182</td>\n",
       "      <td>0.031470</td>\n",
       "      <td>-0.035384</td>\n",
       "      <td>0.001521</td>\n",
       "      <td>-0.037393</td>\n",
       "      <td>-0.014020</td>\n",
       "      <td>-0.007501</td>\n",
       "      <td>0.008602</td>\n",
       "      <td>-0.003371</td>\n",
       "      <td>0.019573</td>\n",
       "    </tr>\n",
       "    <tr>\n",
       "      <td>...</td>\n",
       "      <td>...</td>\n",
       "      <td>...</td>\n",
       "      <td>...</td>\n",
       "      <td>...</td>\n",
       "      <td>...</td>\n",
       "      <td>...</td>\n",
       "      <td>...</td>\n",
       "      <td>...</td>\n",
       "      <td>...</td>\n",
       "      <td>...</td>\n",
       "      <td>...</td>\n",
       "      <td>...</td>\n",
       "      <td>...</td>\n",
       "      <td>...</td>\n",
       "      <td>...</td>\n",
       "      <td>...</td>\n",
       "      <td>...</td>\n",
       "      <td>...</td>\n",
       "      <td>...</td>\n",
       "      <td>...</td>\n",
       "      <td>...</td>\n",
       "    </tr>\n",
       "    <tr>\n",
       "      <td>506686</td>\n",
       "      <td>4170235</td>\n",
       "      <td>34214279</td>\n",
       "      <td>94.687500</td>\n",
       "      <td>C</td>\n",
       "      <td>0.737583</td>\n",
       "      <td>0.550781</td>\n",
       "      <td>0.646484</td>\n",
       "      <td>mastercard</td>\n",
       "      <td>0.905273</td>\n",
       "      <td>debit</td>\n",
       "      <td>...</td>\n",
       "      <td>-0.083302</td>\n",
       "      <td>-0.074235</td>\n",
       "      <td>0.007352</td>\n",
       "      <td>-0.060943</td>\n",
       "      <td>-0.011302</td>\n",
       "      <td>0.034233</td>\n",
       "      <td>0.010905</td>\n",
       "      <td>-0.011029</td>\n",
       "      <td>0.053705</td>\n",
       "      <td>-0.011320</td>\n",
       "    </tr>\n",
       "    <tr>\n",
       "      <td>506687</td>\n",
       "      <td>4170236</td>\n",
       "      <td>34214287</td>\n",
       "      <td>12.171875</td>\n",
       "      <td>C</td>\n",
       "      <td>0.123764</td>\n",
       "      <td>0.616211</td>\n",
       "      <td>0.646484</td>\n",
       "      <td>mastercard</td>\n",
       "      <td>0.905273</td>\n",
       "      <td>debit</td>\n",
       "      <td>...</td>\n",
       "      <td>-0.015640</td>\n",
       "      <td>0.008709</td>\n",
       "      <td>-0.002982</td>\n",
       "      <td>0.010650</td>\n",
       "      <td>0.007983</td>\n",
       "      <td>-0.009036</td>\n",
       "      <td>-0.053824</td>\n",
       "      <td>0.004227</td>\n",
       "      <td>-0.001708</td>\n",
       "      <td>0.017741</td>\n",
       "    </tr>\n",
       "    <tr>\n",
       "      <td>506688</td>\n",
       "      <td>4170237</td>\n",
       "      <td>34214326</td>\n",
       "      <td>49.000000</td>\n",
       "      <td>W</td>\n",
       "      <td>0.900207</td>\n",
       "      <td>0.780273</td>\n",
       "      <td>0.383789</td>\n",
       "      <td>visa</td>\n",
       "      <td>0.919922</td>\n",
       "      <td>debit</td>\n",
       "      <td>...</td>\n",
       "      <td>0.005143</td>\n",
       "      <td>0.006748</td>\n",
       "      <td>-0.000586</td>\n",
       "      <td>0.007644</td>\n",
       "      <td>-0.000840</td>\n",
       "      <td>0.007159</td>\n",
       "      <td>-0.002926</td>\n",
       "      <td>-0.003240</td>\n",
       "      <td>0.002680</td>\n",
       "      <td>-0.002723</td>\n",
       "    </tr>\n",
       "    <tr>\n",
       "      <td>506689</td>\n",
       "      <td>4170238</td>\n",
       "      <td>34214337</td>\n",
       "      <td>202.000000</td>\n",
       "      <td>W</td>\n",
       "      <td>0.897908</td>\n",
       "      <td>0.832031</td>\n",
       "      <td>0.383789</td>\n",
       "      <td>mastercard</td>\n",
       "      <td>0.905273</td>\n",
       "      <td>debit</td>\n",
       "      <td>...</td>\n",
       "      <td>0.005143</td>\n",
       "      <td>0.006748</td>\n",
       "      <td>-0.000586</td>\n",
       "      <td>0.007644</td>\n",
       "      <td>-0.000840</td>\n",
       "      <td>0.007159</td>\n",
       "      <td>-0.002926</td>\n",
       "      <td>-0.003240</td>\n",
       "      <td>0.002680</td>\n",
       "      <td>-0.002723</td>\n",
       "    </tr>\n",
       "    <tr>\n",
       "      <td>506690</td>\n",
       "      <td>4170239</td>\n",
       "      <td>34214345</td>\n",
       "      <td>24.343750</td>\n",
       "      <td>C</td>\n",
       "      <td>0.270867</td>\n",
       "      <td>0.137695</td>\n",
       "      <td>0.338867</td>\n",
       "      <td>visa</td>\n",
       "      <td>0.347656</td>\n",
       "      <td>credit</td>\n",
       "      <td>...</td>\n",
       "      <td>-0.002983</td>\n",
       "      <td>0.003349</td>\n",
       "      <td>-0.019768</td>\n",
       "      <td>-0.002375</td>\n",
       "      <td>-0.003780</td>\n",
       "      <td>-0.013277</td>\n",
       "      <td>-0.009511</td>\n",
       "      <td>-0.003895</td>\n",
       "      <td>-0.009804</td>\n",
       "      <td>0.004185</td>\n",
       "    </tr>\n",
       "  </tbody>\n",
       "</table>\n",
       "<p>506691 rows × 112 columns</p>\n",
       "</div>"
      ],
      "text/plain": [
       "        TransactionID  TransactionDT  TransactionAmt ProductCD     card1  \\\n",
       "0             3663549       18403224       31.953125         W  0.540814   \n",
       "1             3663550       18403263       49.000000         W  0.188032   \n",
       "2             3663551       18403310      171.000000         W  0.199759   \n",
       "3             3663552       18403310      285.000000         W  0.574155   \n",
       "4             3663553       18403317       67.937500         W  0.978213   \n",
       "...               ...            ...             ...       ...       ...   \n",
       "506686        4170235       34214279       94.687500         C  0.737583   \n",
       "506687        4170236       34214287       12.171875         C  0.123764   \n",
       "506688        4170237       34214326       49.000000         W  0.900207   \n",
       "506689        4170238       34214337      202.000000         W  0.897908   \n",
       "506690        4170239       34214345       24.343750         C  0.270867   \n",
       "\n",
       "           card2     card3       card4     card5   card6  ...       V25  \\\n",
       "0       0.023926  0.383789        visa  0.919922   debit  ...  0.050786   \n",
       "1       0.023926  0.383789        visa  0.919922   debit  ... -0.036079   \n",
       "2       0.948242  0.383789        visa  0.919922   debit  ... -0.072811   \n",
       "3       0.520508  0.383789        visa  0.485352   debit  ...  0.019797   \n",
       "4       0.704102  0.383789  mastercard  0.130371   debit  ...  0.005182   \n",
       "...          ...       ...         ...       ...     ...  ...       ...   \n",
       "506686  0.550781  0.646484  mastercard  0.905273   debit  ... -0.083302   \n",
       "506687  0.616211  0.646484  mastercard  0.905273   debit  ... -0.015640   \n",
       "506688  0.780273  0.383789        visa  0.919922   debit  ...  0.005143   \n",
       "506689  0.832031  0.383789  mastercard  0.905273   debit  ...  0.005143   \n",
       "506690  0.137695  0.338867        visa  0.347656  credit  ... -0.002983   \n",
       "\n",
       "             V26       V27       V28       V29       V30       V31       V32  \\\n",
       "0       0.000686  0.004549 -0.054497 -0.042375  0.034993 -0.020758  0.020852   \n",
       "1       0.021923 -0.002874  0.006354  0.008943  0.009513 -0.006858 -0.009216   \n",
       "2       0.059917 -0.000045  0.005930  0.009996  0.022444 -0.002850  0.011359   \n",
       "3      -0.034435 -0.011208  0.026025  0.012015 -0.006111  0.036744  0.031950   \n",
       "4       0.031470 -0.035384  0.001521 -0.037393 -0.014020 -0.007501  0.008602   \n",
       "...          ...       ...       ...       ...       ...       ...       ...   \n",
       "506686 -0.074235  0.007352 -0.060943 -0.011302  0.034233  0.010905 -0.011029   \n",
       "506687  0.008709 -0.002982  0.010650  0.007983 -0.009036 -0.053824  0.004227   \n",
       "506688  0.006748 -0.000586  0.007644 -0.000840  0.007159 -0.002926 -0.003240   \n",
       "506689  0.006748 -0.000586  0.007644 -0.000840  0.007159 -0.002926 -0.003240   \n",
       "506690  0.003349 -0.019768 -0.002375 -0.003780 -0.013277 -0.009511 -0.003895   \n",
       "\n",
       "             V33       V34  \n",
       "0      -0.034361  0.030318  \n",
       "1       0.001155  0.010418  \n",
       "2      -0.006566  0.004513  \n",
       "3      -0.003113  0.033180  \n",
       "4      -0.003371  0.019573  \n",
       "...          ...       ...  \n",
       "506686  0.053705 -0.011320  \n",
       "506687 -0.001708  0.017741  \n",
       "506688  0.002680 -0.002723  \n",
       "506689  0.002680 -0.002723  \n",
       "506690 -0.009804  0.004185  \n",
       "\n",
       "[506691 rows x 112 columns]"
      ]
     },
     "execution_count": 91,
     "metadata": {},
     "output_type": "execute_result"
    }
   ],
   "source": [
    "train_df.fillna(-999)\n",
    "test_df.fillna(-999)"
   ]
  },
  {
   "cell_type": "code",
   "execution_count": 92,
   "metadata": {},
   "outputs": [],
   "source": [
    "train_y = train_df['isFraud']\n",
    "train_X = train_df.drop('isFraud', axis=1)"
   ]
  },
  {
   "cell_type": "code",
   "execution_count": 93,
   "metadata": {},
   "outputs": [
    {
     "name": "stdout",
     "output_type": "stream",
     "text": [
      "(590540, 112)\n",
      "(506691, 112)\n"
     ]
    }
   ],
   "source": [
    "print(train_X.shape)\n",
    "print(test_df.shape)"
   ]
  },
  {
   "cell_type": "code",
   "execution_count": 94,
   "metadata": {},
   "outputs": [
    {
     "data": {
      "text/plain": [
       "Series([], dtype: float64)"
      ]
     },
     "execution_count": 94,
     "metadata": {},
     "output_type": "execute_result"
    }
   ],
   "source": [
    "null_columns=train_df.columns[train_df.isnull().any()]\n",
    "train_df[null_columns].isnull().sum()"
   ]
  },
  {
   "cell_type": "code",
   "execution_count": 95,
   "metadata": {},
   "outputs": [
    {
     "data": {
      "text/plain": [
       "Series([], dtype: float64)"
      ]
     },
     "execution_count": 95,
     "metadata": {},
     "output_type": "execute_result"
    }
   ],
   "source": [
    "null_columns=test_df.columns[test_df.isnull().any()]\n",
    "test_df[null_columns].isnull().sum()"
   ]
  },
  {
   "cell_type": "code",
   "execution_count": 96,
   "metadata": {},
   "outputs": [],
   "source": [
    "# Label Encoding for categorical variables.\n",
    "for f in train_X.columns:\n",
    "    if train_X[f].dtype=='object' or test_df[f].dtype=='object': \n",
    "        lbl = preprocessing.LabelEncoder()\n",
    "        lbl.fit(list(train_X[f].values) + list(test_df[f].values))\n",
    "        train_X[f] = lbl.transform(list(train_X[f].values))\n",
    "        test_df[f] = lbl.transform(list(test_df[f].values))"
   ]
  },
  {
   "cell_type": "code",
   "execution_count": 97,
   "metadata": {},
   "outputs": [
    {
     "name": "stderr",
     "output_type": "stream",
     "text": [
      "/opt/conda/lib/python3.6/site-packages/sklearn/linear_model/logistic.py:432: FutureWarning: Default solver will be changed to 'lbfgs' in 0.22. Specify a solver to silence this warning.\n",
      "  FutureWarning)\n"
     ]
    },
    {
     "data": {
      "text/plain": [
       "LogisticRegression(C=1.0, class_weight=None, dual=False, fit_intercept=True,\n",
       "                   intercept_scaling=1, l1_ratio=None, max_iter=100,\n",
       "                   multi_class='warn', n_jobs=None, penalty='l2',\n",
       "                   random_state=None, solver='warn', tol=0.0001, verbose=0,\n",
       "                   warm_start=False)"
      ]
     },
     "execution_count": 97,
     "metadata": {},
     "output_type": "execute_result"
    }
   ],
   "source": [
    "## Create Base Model - LogisticRegression\n",
    "\n",
    "logreg = LogisticRegression()\n",
    "logreg.fit(train_X, train_y)"
   ]
  },
  {
   "cell_type": "code",
   "execution_count": 98,
   "metadata": {},
   "outputs": [
    {
     "data": {
      "text/html": [
       "<div>\n",
       "<style scoped>\n",
       "    .dataframe tbody tr th:only-of-type {\n",
       "        vertical-align: middle;\n",
       "    }\n",
       "\n",
       "    .dataframe tbody tr th {\n",
       "        vertical-align: top;\n",
       "    }\n",
       "\n",
       "    .dataframe thead th {\n",
       "        text-align: right;\n",
       "    }\n",
       "</style>\n",
       "<table border=\"1\" class=\"dataframe\">\n",
       "  <thead>\n",
       "    <tr style=\"text-align: right;\">\n",
       "      <th></th>\n",
       "      <th>isFraud</th>\n",
       "    </tr>\n",
       "    <tr>\n",
       "      <th>TransactionID</th>\n",
       "      <th></th>\n",
       "    </tr>\n",
       "  </thead>\n",
       "  <tbody>\n",
       "    <tr>\n",
       "      <td>3663549</td>\n",
       "      <td>0.042166</td>\n",
       "    </tr>\n",
       "    <tr>\n",
       "      <td>3663550</td>\n",
       "      <td>0.042166</td>\n",
       "    </tr>\n",
       "    <tr>\n",
       "      <td>3663551</td>\n",
       "      <td>0.042166</td>\n",
       "    </tr>\n",
       "    <tr>\n",
       "      <td>3663552</td>\n",
       "      <td>0.042166</td>\n",
       "    </tr>\n",
       "    <tr>\n",
       "      <td>3663553</td>\n",
       "      <td>0.042166</td>\n",
       "    </tr>\n",
       "  </tbody>\n",
       "</table>\n",
       "</div>"
      ],
      "text/plain": [
       "                isFraud\n",
       "TransactionID          \n",
       "3663549        0.042166\n",
       "3663550        0.042166\n",
       "3663551        0.042166\n",
       "3663552        0.042166\n",
       "3663553        0.042166"
      ]
     },
     "execution_count": 98,
     "metadata": {},
     "output_type": "execute_result"
    }
   ],
   "source": [
    "submission = pd.read_csv('../input/ieee-fraud-detection/sample_submission.csv',index_col='TransactionID')\n",
    "submission['isFraud'] = logreg.predict_proba(test_df)[:,1]\n",
    "submission.to_csv('Logreg_submission.csv')\n",
    "submission.head()"
   ]
  },
  {
   "cell_type": "code",
   "execution_count": 99,
   "metadata": {},
   "outputs": [],
   "source": [
    "X=train_X \n",
    "X_test=test_df\n",
    "y=train_df['isFraud']"
   ]
  },
  {
   "cell_type": "code",
   "execution_count": 100,
   "metadata": {},
   "outputs": [],
   "source": [
    "n_fold = 5\n",
    "folds = TimeSeriesSplit(n_splits=n_fold)\n",
    "folds = model_selection.KFold(n_splits=5)"
   ]
  },
  {
   "cell_type": "code",
   "execution_count": 101,
   "metadata": {},
   "outputs": [],
   "source": [
    "def fast_auc(y_true, y_prob):\n",
    "    y_true = np.asarray(y_true)\n",
    "    y_true = y_true[np.argsort(y_prob)]\n",
    "    nfalse = 0\n",
    "    auc = 0\n",
    "    n = len(y_true)\n",
    "    for i in range(n):\n",
    "        y_i = y_true[i]\n",
    "        nfalse += (1 - y_i)\n",
    "        auc += y_i * nfalse\n",
    "    auc /= (nfalse * (n - nfalse))\n",
    "    return auc\n",
    "\n",
    "\n",
    "def eval_auc(y_true, y_pred):\n",
    "    \"\"\"\n",
    "    Fast auc eval function for lgb.\n",
    "    \"\"\"\n",
    "    return 'auc', fast_auc(y_true, y_pred), True\n",
    "\n",
    "\n",
    "def group_mean_log_mae(y_true, y_pred, types, floor=1e-9):\n",
    "    \"\"\"\n",
    "    Fast metric computation for this competition: https://www.kaggle.com/c/champs-scalar-coupling\n",
    "    Code is from this kernel: https://www.kaggle.com/uberkinder/efficient-metric\n",
    "    \"\"\"\n",
    "    maes = (y_true-y_pred).abs().groupby(types).mean()\n",
    "    return np.log(maes.map(lambda x: max(x, floor))).mean()\n",
    "    \n",
    "\n",
    "def train_model_regression(X, X_test, y, params, folds=None, model_type='lgb', eval_metric='mae', columns=None, plot_feature_importance=False, model=None,\n",
    "                               verbose=10000, early_stopping_rounds=200, n_estimators=50000, splits=None, n_folds=3):\n",
    "    \"\"\"\n",
    "    :params: X - training data, can be pd.DataFrame or np.ndarray (after normalizing)\n",
    "    :params: X_test - test data, can be pd.DataFrame or np.ndarray (after normalizing)\n",
    "    :params: y - target\n",
    "    :params: folds - folds to split data\n",
    "    :params: model_type - type of model to use\n",
    "    :params: eval_metric - metric to use\n",
    "    :params: columns - columns to use. If None - use all columns\n",
    "    :params: plot_feature_importance - whether to plot feature importance of LGB\n",
    "    :params: model - sklearn model, works only for \"sklearn\" model type\n",
    "    \n",
    "    \"\"\"\n",
    "    columns = X.columns if columns is None else columns\n",
    "    X_test = X_test[columns]\n",
    "    splits = folds.split(X) if splits is None else splits\n",
    "    n_splits = folds.n_splits if splits is None else n_folds\n",
    "    \n",
    "    # to set up scoring parameters\n",
    "    metrics_dict = {'mae': {'lgb_metric_name': 'mae',\n",
    "                        'catboost_metric_name': 'MAE',\n",
    "                        'sklearn_scoring_function': metrics.mean_absolute_error},\n",
    "                    'group_mae': {'lgb_metric_name': 'mae',\n",
    "                        'catboost_metric_name': 'MAE',\n",
    "                        'scoring_function': group_mean_log_mae},\n",
    "                    'mse': {'lgb_metric_name': 'mse',\n",
    "                        'catboost_metric_name': 'MSE',\n",
    "                        'sklearn_scoring_function': metrics.mean_squared_error}\n",
    "                    }\n",
    "\n",
    "    \n",
    "    result_dict = {}\n",
    "    \n",
    "    # out-of-fold predictions on train data\n",
    "    oof = np.zeros(len(X))\n",
    "    \n",
    "    # averaged predictions on train data\n",
    "    prediction = np.zeros(len(X_test))\n",
    "    \n",
    "    # list of scores on folds\n",
    "    scores = []\n",
    "    feature_importance = pd.DataFrame()\n",
    "    \n",
    "    # split and train on folds\n",
    "    for fold_n, (train_index, valid_index) in enumerate(splits):\n",
    "        if verbose:\n",
    "            print(f'Fold {fold_n + 1} started at {time.ctime()}')\n",
    "        if type(X) == np.ndarray:\n",
    "            X_train, X_valid = X[columns][train_index], X[columns][valid_index]\n",
    "            y_train, y_valid = y[train_index], y[valid_index]\n",
    "        else:\n",
    "            X_train, X_valid = X[columns].iloc[train_index], X[columns].iloc[valid_index]\n",
    "            y_train, y_valid = y.iloc[train_index], y.iloc[valid_index]\n",
    "            \n",
    "        if model_type == 'lgb':\n",
    "            model = lgb.LGBMRegressor(**params, n_estimators = n_estimators, n_jobs = -1)\n",
    "            model.fit(X_train, y_train, \n",
    "                    eval_set=[(X_train, y_train), (X_valid, y_valid)], eval_metric=metrics_dict[eval_metric]['lgb_metric_name'],\n",
    "                    verbose=verbose, early_stopping_rounds=early_stopping_rounds)\n",
    "            \n",
    "            y_pred_valid = model.predict(X_valid)\n",
    "            y_pred = model.predict(X_test, num_iteration=model.best_iteration_)\n",
    "        \n",
    "        oof[valid_index] = y_pred_valid.reshape(-1,)\n",
    "        if eval_metric != 'group_mae':\n",
    "            scores.append(metrics_dict[eval_metric]['sklearn_scoring_function'](y_valid, y_pred_valid))\n",
    "        else:\n",
    "            scores.append(metrics_dict[eval_metric]['scoring_function'](y_valid, y_pred_valid, X_valid['type']))\n",
    "\n",
    "        prediction += y_pred    \n",
    "        \n",
    "        if model_type == 'lgb' and plot_feature_importance:\n",
    "            # feature importance\n",
    "            fold_importance = pd.DataFrame()\n",
    "            fold_importance[\"feature\"] = columns\n",
    "            fold_importance[\"importance\"] = model.feature_importances_\n",
    "            fold_importance[\"fold\"] = fold_n + 1\n",
    "            feature_importance = pd.concat([feature_importance, fold_importance], axis=0)\n",
    "\n",
    "    prediction /= n_splits\n",
    "    print('CV mean score: {0:.4f}, std: {1:.4f}.'.format(np.mean(scores), np.std(scores)))\n",
    "    \n",
    "    result_dict['oof'] = oof\n",
    "    result_dict['prediction'] = prediction\n",
    "    result_dict['scores'] = scores\n",
    "    \n",
    "    if model_type == 'lgb':\n",
    "        if plot_feature_importance:\n",
    "            feature_importance[\"importance\"] /= n_splits\n",
    "            cols = feature_importance[[\"feature\", \"importance\"]].groupby(\"feature\").mean().sort_values(\n",
    "                by=\"importance\", ascending=False)[:50].index\n",
    "\n",
    "            best_features = feature_importance.loc[feature_importance.feature.isin(cols)]\n",
    "\n",
    "            plt.figure(figsize=(16, 12));\n",
    "            sns.barplot(x=\"importance\", y=\"feature\", data=best_features.sort_values(by=\"importance\", ascending=False));\n",
    "            plt.title('LGB Features (avg over folds)');\n",
    "            \n",
    "            result_dict['feature_importance'] = feature_importance\n",
    "        \n",
    "    return result_dict"
   ]
  },
  {
   "cell_type": "code",
   "execution_count": 102,
   "metadata": {},
   "outputs": [],
   "source": [
    "def train_model_classification(X, X_test, y, params, folds, model_type='lgb', eval_metric='auc', columns=None, plot_feature_importance=False, model=None,\n",
    "                               verbose=10000, early_stopping_rounds=200, n_estimators=50000, splits=None, n_folds=3, averaging='usual', n_jobs=-1):\n",
    "    \"\"\" \n",
    "    :params: X - training data, can be pd.DataFrame or np.ndarray (after normalizing)\n",
    "    :params: X_test - test data, can be pd.DataFrame or np.ndarray (after normalizing)\n",
    "    :params: y - target\n",
    "    :params: folds - folds to split data\n",
    "    :params: model_type - type of model to use\n",
    "    :params: eval_metric - metric to use\n",
    "    :params: columns - columns to use. If None - use all columns\n",
    "    :params: plot_feature_importance - whether to plot feature importance of LGB\n",
    "    :params: model - sklearn model, works only for \"sklearn\" model type\n",
    "    \n",
    "    \"\"\"\n",
    "    columns = X.columns if columns is None else columns\n",
    "    n_splits = folds.n_splits if splits is None else n_folds\n",
    "    X_test = X_test[columns]\n",
    "    \n",
    "    # to set up scoring parameters\n",
    "    metrics_dict = {'auc': {'lgb_metric_name': eval_auc,\n",
    "                        'catboost_metric_name': 'AUC',\n",
    "                        'sklearn_scoring_function': metrics.roc_auc_score},\n",
    "                    }\n",
    "    \n",
    "    result_dict = {}\n",
    "    if averaging == 'usual':\n",
    "        # out-of-fold predictions on train data\n",
    "        oof = np.zeros((len(X), 1))\n",
    "\n",
    "        # averaged predictions on train data\n",
    "        prediction = np.zeros((len(X_test), 1))\n",
    "        \n",
    "    elif averaging == 'rank':\n",
    "        # out-of-fold predictions on train data\n",
    "        oof = np.zeros((len(X), 1))\n",
    "\n",
    "        # averaged predictions on train data\n",
    "        prediction = np.zeros((len(X_test), 1))\n",
    "\n",
    "    \n",
    "    # list of scores on folds\n",
    "    scores = []\n",
    "    feature_importance = pd.DataFrame()\n",
    "    \n",
    "    # split and train on folds\n",
    "    for fold_n, (train_index, valid_index) in enumerate(folds.split(X)):\n",
    "        print(f'Fold {fold_n + 1} started at {time.ctime()}')\n",
    "        if type(X) == np.ndarray:\n",
    "            X_train, X_valid = X[columns][train_index], X[columns][valid_index]\n",
    "            y_train, y_valid = y[train_index], y[valid_index]\n",
    "        else:\n",
    "            X_train, X_valid = X[columns].iloc[train_index], X[columns].iloc[valid_index]\n",
    "            y_train, y_valid = y.iloc[train_index], y.iloc[valid_index]\n",
    "            \n",
    "        if model_type == 'lgb':\n",
    "            model = lgb.LGBMClassifier(**params, n_estimators=n_estimators, n_jobs = n_jobs)\n",
    "            model.fit(X_train, y_train, \n",
    "                    eval_set=[(X_train, y_train), (X_valid, y_valid)], eval_metric=metrics_dict[eval_metric]['lgb_metric_name'],\n",
    "                    verbose=verbose, early_stopping_rounds=early_stopping_rounds)\n",
    "            \n",
    "            y_pred_valid = model.predict_proba(X_valid)[:, 1]\n",
    "            y_pred = model.predict_proba(X_test, num_iteration=model.best_iteration_)[:, 1]\n",
    "        \n",
    "        if averaging == 'usual':\n",
    "            \n",
    "            oof[valid_index] = y_pred_valid.reshape(-1, 1)\n",
    "            scores.append(metrics_dict[eval_metric]['sklearn_scoring_function'](y_valid, y_pred_valid))\n",
    "            \n",
    "            prediction += y_pred.reshape(-1, 1)\n",
    "\n",
    "        elif averaging == 'rank':\n",
    "                                  \n",
    "            oof[valid_index] = y_pred_valid.reshape(-1, 1)\n",
    "            scores.append(metrics_dict[eval_metric]['sklearn_scoring_function'](y_valid, y_pred_valid))\n",
    "                                  \n",
    "            prediction += pd.Series(y_pred).rank().values.reshape(-1, 1)        \n",
    "        \n",
    "        if model_type == 'lgb' and plot_feature_importance:\n",
    "            # feature importance\n",
    "            fold_importance = pd.DataFrame()\n",
    "            fold_importance[\"feature\"] = columns\n",
    "            fold_importance[\"importance\"] = model.feature_importances_\n",
    "            fold_importance[\"fold\"] = fold_n + 1\n",
    "            feature_importance = pd.concat([feature_importance, fold_importance], axis=0)\n",
    "\n",
    "    prediction /= n_splits\n",
    "    \n",
    "    print('CV mean score: {0:.4f}, std: {1:.4f}.'.format(np.mean(scores), np.std(scores)))\n",
    "    \n",
    "    result_dict['oof'] = oof\n",
    "    result_dict['prediction'] = prediction\n",
    "    result_dict['scores'] = scores\n",
    "    \n",
    "    if model_type == 'lgb':\n",
    "        if plot_feature_importance:\n",
    "            feature_importance[\"importance\"] /= n_splits\n",
    "            cols = feature_importance[[\"feature\", \"importance\"]].groupby(\"feature\").mean().sort_values(\n",
    "                by=\"importance\", ascending=False)[:50].index\n",
    "\n",
    "            best_features = feature_importance.loc[feature_importance.feature.isin(cols)]\n",
    "\n",
    "            plt.figure(figsize=(16, 12));\n",
    "            sns.barplot(x=\"importance\", y=\"feature\", data=best_features.sort_values(by=\"importance\", ascending=False));\n",
    "            plt.title('LGB Features (avg over folds)');\n",
    "            \n",
    "            result_dict['feature_importance'] = feature_importance\n",
    "            result_dict['top_columns'] = cols\n",
    "        \n",
    "    return result_dict"
   ]
  },
  {
   "cell_type": "code",
   "execution_count": 103,
   "metadata": {},
   "outputs": [
    {
     "name": "stdout",
     "output_type": "stream",
     "text": [
      "Fold 1 started at Sun Oct 27 18:01:05 2019\n",
      "Training until validation scores don't improve for 200 rounds.\n",
      "[500]\ttraining's auc: 0.9958\ttraining's auc: 0.9958\tvalid_1's auc: 0.91687\tvalid_1's auc: 0.91687\n",
      "Early stopping, best iteration is:\n",
      "[537]\ttraining's auc: 0.996416\ttraining's auc: 0.996416\tvalid_1's auc: 0.917309\tvalid_1's auc: 0.917309\n",
      "Fold 2 started at Sun Oct 27 18:17:43 2019\n",
      "Training until validation scores don't improve for 200 rounds.\n",
      "[500]\ttraining's auc: 0.996223\ttraining's auc: 0.996223\tvalid_1's auc: 0.929042\tvalid_1's auc: 0.929042\n",
      "Early stopping, best iteration is:\n",
      "[462]\ttraining's auc: 0.995511\ttraining's auc: 0.995511\tvalid_1's auc: 0.929497\tvalid_1's auc: 0.929497\n",
      "Fold 3 started at Sun Oct 27 18:32:42 2019\n",
      "Training until validation scores don't improve for 200 rounds.\n",
      "[500]\ttraining's auc: 0.996567\ttraining's auc: 0.996567\tvalid_1's auc: 0.926785\tvalid_1's auc: 0.926785\n",
      "Early stopping, best iteration is:\n",
      "[356]\ttraining's auc: 0.993167\ttraining's auc: 0.993167\tvalid_1's auc: 0.927631\tvalid_1's auc: 0.927631\n",
      "Fold 4 started at Sun Oct 27 18:45:17 2019\n",
      "Training until validation scores don't improve for 200 rounds.\n",
      "[500]\ttraining's auc: 0.996177\ttraining's auc: 0.996177\tvalid_1's auc: 0.947109\tvalid_1's auc: 0.947109\n",
      "Early stopping, best iteration is:\n",
      "[448]\ttraining's auc: 0.995151\ttraining's auc: 0.995151\tvalid_1's auc: 0.947312\tvalid_1's auc: 0.947312\n",
      "Fold 5 started at Sun Oct 27 18:59:51 2019\n",
      "Training until validation scores don't improve for 200 rounds.\n",
      "[500]\ttraining's auc: 0.996272\ttraining's auc: 0.996272\tvalid_1's auc: 0.92179\tvalid_1's auc: 0.92179\n",
      "Early stopping, best iteration is:\n",
      "[459]\ttraining's auc: 0.995577\ttraining's auc: 0.995577\tvalid_1's auc: 0.92218\tvalid_1's auc: 0.92218\n",
      "CV mean score: 0.9288, std: 0.0102.\n"
     ]
    },
    {
     "data": {
      "image/png": "[encoded data removed]",
      "text/plain": [
       "<Figure size 1152x864 with 1 Axes>"
      ]
     },
     "metadata": {
      "needs_background": "light"
     },
     "output_type": "display_data"
    }
   ],
   "source": [
    "params = {'num_leaves': 256,\n",
    "          'min_child_samples': 79,\n",
    "          'objective': 'binary',\n",
    "          'max_depth': 13,\n",
    "          'learning_rate': 0.03,\n",
    "          \"boosting_type\": \"gbdt\",\n",
    "          \"subsample_freq\": 3,\n",
    "          \"subsample\": 0.9,\n",
    "          \"bagging_seed\": 11,\n",
    "          \"metric\": 'auc',\n",
    "          \"verbosity\": -1,\n",
    "          'reg_alpha': 0.3,\n",
    "          'reg_lambda': 0.3,\n",
    "          'colsample_bytree': 0.9,\n",
    "          #'categorical_feature': cat_cols\n",
    "         }\n",
    "result_dict_lgb = train_model_classification(X=X, X_test=X_test, y=y, params=params, folds=folds, model_type='lgb', eval_metric='auc', plot_feature_importance=True,\n",
    "                                                      verbose=500, early_stopping_rounds=200, n_estimators=5000, averaging='usual', n_jobs=-1)"
   ]
  },
  {
   "cell_type": "code",
   "execution_count": 104,
   "metadata": {},
   "outputs": [
    {
     "data": {
      "text/html": [
       "<div>\n",
       "<style scoped>\n",
       "    .dataframe tbody tr th:only-of-type {\n",
       "        vertical-align: middle;\n",
       "    }\n",
       "\n",
       "    .dataframe tbody tr th {\n",
       "        vertical-align: top;\n",
       "    }\n",
       "\n",
       "    .dataframe thead th {\n",
       "        text-align: right;\n",
       "    }\n",
       "</style>\n",
       "<table border=\"1\" class=\"dataframe\">\n",
       "  <thead>\n",
       "    <tr style=\"text-align: right;\">\n",
       "      <th></th>\n",
       "      <th>TransactionID</th>\n",
       "      <th>isFraud</th>\n",
       "    </tr>\n",
       "  </thead>\n",
       "  <tbody>\n",
       "    <tr>\n",
       "      <td>0</td>\n",
       "      <td>3663549</td>\n",
       "      <td>0.001360</td>\n",
       "    </tr>\n",
       "    <tr>\n",
       "      <td>1</td>\n",
       "      <td>3663550</td>\n",
       "      <td>0.001661</td>\n",
       "    </tr>\n",
       "    <tr>\n",
       "      <td>2</td>\n",
       "      <td>3663551</td>\n",
       "      <td>0.001966</td>\n",
       "    </tr>\n",
       "    <tr>\n",
       "      <td>3</td>\n",
       "      <td>3663552</td>\n",
       "      <td>0.004628</td>\n",
       "    </tr>\n",
       "    <tr>\n",
       "      <td>4</td>\n",
       "      <td>3663553</td>\n",
       "      <td>0.001779</td>\n",
       "    </tr>\n",
       "  </tbody>\n",
       "</table>\n",
       "</div>"
      ],
      "text/plain": [
       "   TransactionID   isFraud\n",
       "0        3663549  0.001360\n",
       "1        3663550  0.001661\n",
       "2        3663551  0.001966\n",
       "3        3663552  0.004628\n",
       "4        3663553  0.001779"
      ]
     },
     "execution_count": 104,
     "metadata": {},
     "output_type": "execute_result"
    }
   ],
   "source": [
    "sub = pd.read_csv('/kaggle/input/ieee-fraud-detection/sample_submission.csv')\n",
    "sub['isFraud'] = result_dict_lgb['prediction']\n",
    "sub.to_csv('submission.csv', index=False)\n",
    "sub.head()"
   ]
  },
  {
   "cell_type": "code",
   "execution_count": null,
   "metadata": {},
   "outputs": [],
   "source": []
  }
 ],
 "metadata": {
  "kernelspec": {
   "display_name": "Python 3",
   "language": "python",
   "name": "python3"
  },
  "language_info": {
   "codemirror_mode": {
    "name": "ipython",
    "version": 3
   },
   "file_extension": ".py",
   "mimetype": "text/x-python",
   "name": "python",
   "nbconvert_exporter": "python",
   "pygments_lexer": "ipython3",
   "version": "3.6.6"
  }
 },
 "nbformat": 4,
 "nbformat_minor": 1
}
